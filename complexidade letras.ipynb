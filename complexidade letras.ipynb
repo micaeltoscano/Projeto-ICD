{
 "cells": [
  {
   "cell_type": "markdown",
   "id": "6fe892d1-c949-4505-83b9-c3d15cfa4f53",
   "metadata": {},
   "source": [
    "# Classificando complexidade de letras de músicas"
   ]
  },
  {
   "cell_type": "markdown",
   "id": "d3988aff-c666-411e-ae9a-6d0ecbf76f0b",
   "metadata": {},
   "source": [
    "### Critérios: \n",
    "Para analisar a dificuldade das letras, uma das abordagens seria analisar palavra por palavra da música e analisar: <br> <br>\n",
    "1 - Número de sílabas. <br> \n",
    ". Palavras com diversas sílabas costumam ser mais complexas, tanto para compreensão quanto para a pronúncia. <br> <br>\n",
    "2 - Diversidade semântica. <br> \n",
    ". Palavras com diversos significados podem ser mais difíceis, pois há uma gama de significados para elas <br> <br>\n",
    "3 - Frequência. <br> \n",
    "4 - Uso de gírias e jargões <br> <br>\n",
    "5 - Análise gramatical <br>\n",
    ". Exemplo: frases que contêm muitos gerúndios são mais coloquiais e frases que possuem mais conjuções subordinadas são mais formais"
   ]
  },
  {
   "cell_type": "markdown",
   "id": "4eca4dde-9be7-4ec8-ac73-df4ae7e6dbfd",
   "metadata": {},
   "source": [
    "### Número de sílabas:"
   ]
  },
  {
   "cell_type": "markdown",
   "id": "7e3b4ce9-35e8-42fa-a961-dfd0db925f5a",
   "metadata": {},
   "source": [
    "Para descobrir o número de sílabas das letras das músicas, usarei a biblioteca Textstat. O objetivo é localizar quais as músicas que possuem os maiores números de sílabas. "
   ]
  },
  {
   "cell_type": "code",
   "execution_count": 2,
   "id": "fc3fcc5d-1bbd-4ffc-b546-2139a3e709bc",
   "metadata": {},
   "outputs": [],
   "source": [
    "import textstat as tst\n",
    "import pandas as pd"
   ]
  },
  {
   "cell_type": "code",
   "execution_count": 3,
   "id": "501f1e68-5b47-4c7a-acc4-bc70b897a45c",
   "metadata": {},
   "outputs": [],
   "source": [
    "df = pd.read_csv(\"tcc_ceds_music.csv\")"
   ]
  },
  {
   "cell_type": "markdown",
   "id": "f0c4eb37-98e7-4447-897c-d046f8ebba2b",
   "metadata": {},
   "source": [
    "A textstat tem uma funcão chamada: \"syllable_count()\" que conta a quantidade de sílabas em uma palavra. Exemplo:"
   ]
  },
  {
   "cell_type": "code",
   "execution_count": 26,
   "id": "7488093c-ea94-46f2-a64c-8a4465c4c1ec",
   "metadata": {},
   "outputs": [],
   "source": [
    "dic = {}\n",
    "\n",
    "primeira_letra = df.lyrics[0] \n",
    "lista_palavras = primeira_letra.split(\" \")\n",
    "for palavra in lista_palavras:\n",
    "    if palavra not in dic:\n",
    "        dic[palavra] = tst.syllable_count(palavra)"
   ]
  },
  {
   "cell_type": "code",
   "execution_count": 27,
   "id": "92054f18-06bc-47ea-862c-515194959f7f",
   "metadata": {},
   "outputs": [
    {
     "data": {
      "text/plain": [
       "'hold time feel break feel untrue convince speak voice tear try hold hurt try forgive okay play break string feel heart want feel tell real truth hurt lie worse anymore little turn dust play house ruin run leave save like chase train late late tear try hold hurt try forgive okay play break string feel heart want feel tell real truth hurt lie worse anymore little run leave save like chase train know late late play break string feel heart want feel tell real truth hurt lie worse anymore little know little hold time feel'"
      ]
     },
     "execution_count": 27,
     "metadata": {},
     "output_type": "execute_result"
    }
   ],
   "source": [
    "primeira_letra"
   ]
  },
  {
   "cell_type": "markdown",
   "id": "0a4b8075-4473-4930-965f-72bbac72fd80",
   "metadata": {},
   "source": [
    "Neste exemplo, peguei a primeira letra musical como exemplo. Para que cada palavra fosse lida individualmente, usei o split e apliquei em um for, adicionando-as em um dicionário."
   ]
  },
  {
   "cell_type": "markdown",
   "id": "1d2d9f6b-9bd9-4ea5-b5f0-96afac6e5f6c",
   "metadata": {},
   "source": [
    "#### Implementando para o projeto:"
   ]
  },
  {
   "cell_type": "markdown",
   "id": "605ca034-7163-43d6-87e2-00a7f2f49b07",
   "metadata": {},
   "source": [
    "Para a implementação no projeto, criei um dicionário que tem como key o nome da música e como value a quantidade de sílabas que cada palavra da letra da música tem:"
   ]
  },
  {
   "cell_type": "code",
   "execution_count": 34,
   "id": "a38e5196-01fc-41b6-92c4-cde7a2e36ecf",
   "metadata": {},
   "outputs": [],
   "source": [
    "dic = {df.track_name[n]: {} for n in range(len(df))} \n",
    "\n",
    "for n in range(len(df)):\n",
    "    lista = df.lyrics[n].split(\" \")\n",
    "    for palavra in lista:\n",
    "        if palavra not in dic[df.track_name[n]]:\n",
    "            dic[df.track_name[n]][palavra] = tst.syllable_count(palavra)"
   ]
  },
  {
   "cell_type": "markdown",
   "id": "b2ea85ca-499f-4f76-a12e-575b45ea0150",
   "metadata": {},
   "source": [
    "Com isso feito, buscaremos as palavras que contém mais de 5 sílabas e as adicionaremos em um dicionário:"
   ]
  },
  {
   "cell_type": "code",
   "execution_count": 35,
   "id": "7529f15b-5879-4408-964b-fc98ccc80ea0",
   "metadata": {},
   "outputs": [],
   "source": [
    "musicas_silabas_complexas = {}\n",
    "\n",
    "for nome_musica, palavras in dic.items():\n",
    "    for palavra, silabas in palavras.items():\n",
    "        if silabas >= 6:\n",
    "            if not any(palavra.count(letra) >= 4 for letra in set(palavra)): \n",
    "                if nome_musica not in musicas_silabas_complexas:\n",
    "                    musicas_silabas_complexas[nome_musica] = 1\n",
    "                else:\n",
    "                    musicas_silabas_complexas[nome_musica] += 1"
   ]
  },
  {
   "cell_type": "markdown",
   "id": "109b24dd-c9a2-46c2-b4bf-26e6e4359573",
   "metadata": {},
   "source": [
    "Agora, adicionaremos a quantidade de palavras complexas que cada música tem no dataset:"
   ]
  },
  {
   "cell_type": "code",
   "execution_count": 120,
   "id": "e26e85a5-98dc-41a3-8e1f-6b8caa95b2ca",
   "metadata": {},
   "outputs": [],
   "source": [
    "df['contagem_palavras_complexas'] = df['track_name'].map(musicas_silabas_complexas).fillna(0)"
   ]
  },
  {
   "cell_type": "markdown",
   "id": "dc9d461d-133e-4b8b-b70e-76a84d9b4d57",
   "metadata": {},
   "source": [
    "#### Problema: \n",
    "Músicas com nomes iguais recebem o mesmo valor"
   ]
  },
  {
   "cell_type": "code",
   "execution_count": 125,
   "id": "112e6f94-a344-47c8-8552-33bcfe9f41a8",
   "metadata": {},
   "outputs": [
    {
     "data": {
      "text/plain": [
       "3309     2.0\n",
       "19611    2.0\n",
       "Name: contagem_palavras_complexas, dtype: float64"
      ]
     },
     "execution_count": 125,
     "metadata": {},
     "output_type": "execute_result"
    }
   ],
   "source": [
    "df.loc[df[\"track_name\"] == \"the finer things\"][\"contagem_palavras_complexas\"]"
   ]
  },
  {
   "cell_type": "markdown",
   "id": "23f4bfcc-9dbb-4871-bc7a-f94c0f29189e",
   "metadata": {},
   "source": [
    "Para resolver, posso incluir o índice da música no dicionário para garantir que seja única, então corrigindo:"
   ]
  },
  {
   "cell_type": "code",
   "execution_count": 11,
   "id": "4a6ac6db-d597-46cd-9531-3397b1913333",
   "metadata": {},
   "outputs": [],
   "source": [
    "df.track_name = [f\"{df.track_name[n]}_{n}\" for n in range(len(df))]"
   ]
  },
  {
   "cell_type": "code",
   "execution_count": 37,
   "id": "095620bf-d739-4c53-ba70-dce706ea45d7",
   "metadata": {},
   "outputs": [
    {
     "data": {
      "text/plain": [
       "0                     mohabbat bhi jhoothi_0\n",
       "1                                i believe_1\n",
       "2                                      cry_2\n",
       "3                                 patricia_3\n",
       "4                       apopse eida oneiro_4\n",
       "                        ...                 \n",
       "28367                  10 million ways_28367\n",
       "28368    ante up (robbin hoodz theory)_28368\n",
       "28369                    whutcha want?_28369\n",
       "28370                           switch_28370\n",
       "28371                           r.i.p._28371\n",
       "Name: track_name, Length: 28372, dtype: object"
      ]
     },
     "execution_count": 37,
     "metadata": {},
     "output_type": "execute_result"
    }
   ],
   "source": [
    "df.track_name"
   ]
  },
  {
   "cell_type": "code",
   "execution_count": 105,
   "id": "b641c303-9746-4b71-a2c6-af6876594491",
   "metadata": {},
   "outputs": [],
   "source": [
    "dic = {df.track_name[n]: {} for n in range(len(df))} \n",
    "\n",
    "for n in range(len(df)):\n",
    "    lista = df.lyrics[n].split(\" \")\n",
    "    for palavra in lista:\n",
    "        if palavra not in dic[df.track_name[n]]:\n",
    "            dic[df.track_name[n]][palavra] = tst.syllable_count(palavra)\n",
    "\n",
    "musicas_silabas_complexas = {}\n",
    "\n",
    "for nome_musica, palavras in dic.items():\n",
    "    for palavra, silabas in palavras.items():\n",
    "        if silabas >= 6:\n",
    "            if not any(palavra.count(letra) >= 4 for letra in set(palavra)): \n",
    "                if nome_musica not in musicas_silabas_complexas:\n",
    "                    musicas_silabas_complexas[nome_musica] = 1\n",
    "                else:\n",
    "                    musicas_silabas_complexas[nome_musica] += 1"
   ]
  },
  {
   "cell_type": "code",
   "execution_count": 106,
   "id": "f27a266b-c2c3-4832-bc08-45509ea2a89d",
   "metadata": {},
   "outputs": [],
   "source": [
    "df['silabas'] = df['track_name'].map(musicas_silabas_complexas).fillna(0)"
   ]
  },
  {
   "cell_type": "markdown",
   "id": "db61663e-d3e0-4f03-b259-6bdfec64e35e",
   "metadata": {},
   "source": [
    "### Frequência"
   ]
  },
  {
   "cell_type": "markdown",
   "id": "901f6c2e-c1e9-4452-9b88-4c5515ca1b51",
   "metadata": {},
   "source": [
    "Calcular o Type-Token Ratio (TTR) que é a razão entre o número de palavras únicas e o total"
   ]
  },
  {
   "cell_type": "markdown",
   "id": "02bbe76a-569c-4865-8700-22f51defb040",
   "metadata": {},
   "source": [
    "#### Type-Token Ratio (TTR)"
   ]
  },
  {
   "cell_type": "code",
   "execution_count": 32,
   "id": "d7cfb660-47f6-4ddd-91a2-a7a0117d5b59",
   "metadata": {},
   "outputs": [],
   "source": [
    "palavras_unicas_list = []\n",
    "lista_ttr = []\n",
    "\n",
    "for letra in range(len(df)):\n",
    "    palavras = df.lyrics[letra].lower().split()\n",
    "    palavras_unicas_list.append(len(set(palavras)))\n",
    "    \n",
    "for n in range(len(palavras_unicas_list)):\n",
    "    lista_ttr.append(palavras_unicas_list[n]/df.len[n])"
   ]
  },
  {
   "cell_type": "markdown",
   "id": "06d5f217-aa08-439e-99ec-f8188a17b6de",
   "metadata": {},
   "source": [
    "### NLTK "
   ]
  },
  {
   "cell_type": "markdown",
   "id": "180d0be0-16c9-4d92-9dca-346f11263eb4",
   "metadata": {},
   "source": [
    "Funções da NLTK úteis para o projeto: <br> \n",
    "1 - Tokenização: Divide o texto em tokens para facilitar a análise <br>\n",
    "2 - Análise sintática: Realizar a análise gramatical de sentenças <br>\n",
    "3 - Tagging: Identifica substantivos, verbos, conjunções, ... \n"
   ]
  },
  {
   "cell_type": "markdown",
   "id": "e5660068-2393-49bc-852b-0e6f0206b3de",
   "metadata": {},
   "source": [
    "Primeiros usos:"
   ]
  },
  {
   "cell_type": "code",
   "execution_count": 33,
   "id": "7986aa50-5364-457a-9af7-2ced5ba0ba90",
   "metadata": {},
   "outputs": [],
   "source": [
    "import nltk\n",
    "from nltk.tokenize import word_tokenize, sent_tokenize"
   ]
  },
  {
   "cell_type": "code",
   "execution_count": 36,
   "id": "edf9445f-60ee-44db-a179-40ba4f483d02",
   "metadata": {},
   "outputs": [],
   "source": [
    "texto = \"micael é muito\""
   ]
  },
  {
   "cell_type": "markdown",
   "id": "8e88fb13-8ba9-4151-b424-065b44cbfaa5",
   "metadata": {},
   "source": [
    "Separando em sentenças:"
   ]
  },
  {
   "cell_type": "code",
   "execution_count": 41,
   "id": "5d1dcece-3294-4f0c-b0da-66835757283d",
   "metadata": {},
   "outputs": [
    {
     "data": {
      "text/plain": [
       "['micael é muito']"
      ]
     },
     "execution_count": 41,
     "metadata": {},
     "output_type": "execute_result"
    }
   ],
   "source": [
    "sentenca = sent_tokenize(texto)\n",
    "sentenca"
   ]
  },
  {
   "cell_type": "markdown",
   "id": "9c6fd55d-0b29-44a6-894a-32403a815fdf",
   "metadata": {},
   "source": [
    "Separando em tokens:"
   ]
  },
  {
   "cell_type": "code",
   "execution_count": 43,
   "id": "c4d81004-45d6-4f92-be7b-62c9ce74c569",
   "metadata": {},
   "outputs": [
    {
     "data": {
      "text/plain": [
       "['micael', 'é', 'muito']"
      ]
     },
     "execution_count": 43,
     "metadata": {},
     "output_type": "execute_result"
    }
   ],
   "source": [
    "tokens = word_tokenize(texto)\n",
    "tokens"
   ]
  },
  {
   "cell_type": "markdown",
   "id": "914e8167-4aa0-4486-986c-ade9fa6780a4",
   "metadata": {},
   "source": [
    "Separando em tags: <br>\n",
    "Para usar a função pos_tag, é necessário passar como parâmetro a frase separada em tokens"
   ]
  },
  {
   "cell_type": "code",
   "execution_count": 46,
   "id": "5ff3dcde-1a45-4176-9bd1-244e7dcfdb1d",
   "metadata": {
    "scrolled": true
   },
   "outputs": [
    {
     "data": {
      "text/plain": [
       "[('micael', 'NN'), ('é', 'NNP'), ('muito', 'NN')]"
      ]
     },
     "execution_count": 46,
     "metadata": {},
     "output_type": "execute_result"
    }
   ],
   "source": [
    "nltk.pos_tag(tokens)"
   ]
  },
  {
   "cell_type": "markdown",
   "id": "c4f54508-3466-4d04-b589-ee2138290be6",
   "metadata": {},
   "source": [
    "O PorterStemmer mostra a raiz das palavras:"
   ]
  },
  {
   "cell_type": "code",
   "execution_count": 47,
   "id": "276a3da4-75a0-4e3e-8ed2-ffeba770605e",
   "metadata": {},
   "outputs": [],
   "source": [
    "from nltk.stem import PorterStemmer"
   ]
  },
  {
   "cell_type": "code",
   "execution_count": 49,
   "id": "acee3734-3306-4771-b783-d8f90104777f",
   "metadata": {},
   "outputs": [],
   "source": [
    "stemmer = PorterStemmer()"
   ]
  },
  {
   "cell_type": "code",
   "execution_count": 52,
   "id": "3837f61b-40b8-45ef-8959-14d32e21bbdc",
   "metadata": {},
   "outputs": [
    {
     "data": {
      "text/plain": [
       "['run', 'ran', 'easili', 'fairli']"
      ]
     },
     "execution_count": 52,
     "metadata": {},
     "output_type": "execute_result"
    }
   ],
   "source": [
    "palavras = [\"running\", \"ran\", \"easily\", \"fairly\"]\n",
    "stems = [stemmer.stem(palavra) for palavra in palavras]\n",
    "stems"
   ]
  },
  {
   "cell_type": "markdown",
   "id": "bfb1db1c-b865-4e42-aa00-ce231df59392",
   "metadata": {},
   "source": [
    "* Para buscar palavras com muitos sinônimos:"
   ]
  },
  {
   "cell_type": "code",
   "execution_count": 54,
   "id": "5675a70c-7548-4f01-81a1-0b1bd5f6a839",
   "metadata": {},
   "outputs": [],
   "source": [
    "from nltk.corpus import wordnet"
   ]
  },
  {
   "cell_type": "code",
   "execution_count": 76,
   "id": "5378c7dd-99f1-4100-ae52-3691db1b1eee",
   "metadata": {},
   "outputs": [],
   "source": [
    "sinonimos = wordnet.synsets(\"happy\")"
   ]
  },
  {
   "cell_type": "code",
   "execution_count": 77,
   "id": "e683c251-c252-4433-b95c-80242e631b55",
   "metadata": {},
   "outputs": [],
   "source": [
    "sinonimos_unicos = set()\n",
    "for syn in sinonimos:\n",
    "    for lemma in syn.lemmas():\n",
    "        sinonimos_unicos.add(lemma.name())"
   ]
  },
  {
   "cell_type": "code",
   "execution_count": 78,
   "id": "c2604c1c-ef60-40b4-8a99-bda7de62ee01",
   "metadata": {},
   "outputs": [
    {
     "data": {
      "text/plain": [
       "{'felicitous', 'glad', 'happy', 'well-chosen'}"
      ]
     },
     "execution_count": 78,
     "metadata": {},
     "output_type": "execute_result"
    }
   ],
   "source": [
    "sinonimos_unicos"
   ]
  },
  {
   "cell_type": "markdown",
   "id": "577e9762-13b2-4a0e-9ef3-ca4706af754f",
   "metadata": {},
   "source": [
    "Analisar a quantidade de hiponimos: <br>\n",
    "obs: Hipônimos são palavras que têm um significado mais específico do que outras, ou seja, são termos que se referem a algo de forma mais detalhada. \n"
   ]
  },
  {
   "cell_type": "code",
   "execution_count": 83,
   "id": "95f20c28-f329-4d16-a572-668144ff1075",
   "metadata": {},
   "outputs": [],
   "source": [
    "hiponimos = []\n",
    "for syn in wordnet.synsets(\"animal\"):\n",
    "    hiponimos.extend(syn.hyponyms())"
   ]
  },
  {
   "cell_type": "markdown",
   "id": "e1222e8a-8af4-464b-9dcc-57473fbba445",
   "metadata": {},
   "source": [
    "Analisar a quantidade de hiperônimos: <br>\n",
    "OBS: Hiperônimo é uma palavra que tem um significado mais abrangente do que outras palavras que estão no mesmo campo semântico"
   ]
  },
  {
   "cell_type": "code",
   "execution_count": 86,
   "id": "0e5e7d52-4105-4556-abcf-d89006dbe8f7",
   "metadata": {},
   "outputs": [],
   "source": [
    "hiperonimos = []\n",
    "for syn in wordnet.synsets(\"animal\"):\n",
    "    hiperonimos.extend(syn.hypernyms())"
   ]
  },
  {
   "cell_type": "markdown",
   "id": "c90f5cc7-6384-4026-a2f4-3b93145bf02b",
   "metadata": {},
   "source": [
    "Analise de coocorrência de palavras:"
   ]
  },
  {
   "cell_type": "code",
   "execution_count": 102,
   "id": "049fd851-b6be-4b8a-93be-992d733b1843",
   "metadata": {},
   "outputs": [],
   "source": [
    "from nltk import bigrams\n",
    "from collections import Counter"
   ]
  },
  {
   "cell_type": "code",
   "execution_count": 89,
   "id": "7f9f9080-6719-46d6-952e-a5b4e269a9ad",
   "metadata": {},
   "outputs": [],
   "source": [
    "bi_grams = list(bigrams(texto))"
   ]
  },
  {
   "cell_type": "code",
   "execution_count": 90,
   "id": "82c64caf-2093-4a12-9407-dff724917004",
   "metadata": {},
   "outputs": [
    {
     "data": {
      "text/plain": [
       "[('m', 'i'),\n",
       " ('i', 'c'),\n",
       " ('c', 'a'),\n",
       " ('a', 'e'),\n",
       " ('e', 'l'),\n",
       " ('l', ' '),\n",
       " (' ', 'é'),\n",
       " ('é', ' '),\n",
       " (' ', 'm'),\n",
       " ('m', 'u'),\n",
       " ('u', 'i'),\n",
       " ('i', 't'),\n",
       " ('t', 'o')]"
      ]
     },
     "execution_count": 90,
     "metadata": {},
     "output_type": "execute_result"
    }
   ],
   "source": [
    "bi_grams"
   ]
  },
  {
   "cell_type": "code",
   "execution_count": 128,
   "id": "922ed64e-0d2b-4dae-9814-41355c7ea0be",
   "metadata": {},
   "outputs": [],
   "source": [
    "textos = [\n",
    "    \"Eu tenho um cachorro que adora brincar com meu gato.\",\n",
    "    \"O gato é muito independente e gosta de dormir com cachorro.\",\n",
    "    \"Meu cachorro e meu gato são melhores amigos.\",\n",
    "    \"Os cachorros gostam de passear no parque.\",\n",
    "    \"Gatos são muito diferentes de cachorros em muitos aspectos.\"\n",
    "]"
   ]
  },
  {
   "cell_type": "code",
   "execution_count": 129,
   "id": "253e186b-0fba-4ec3-9c95-3b77842529e2",
   "metadata": {},
   "outputs": [],
   "source": [
    "tokens = []\n",
    "for texto in textos:\n",
    "    tokens.extend(word_tokenize(texto.lower()))"
   ]
  },
  {
   "cell_type": "code",
   "execution_count": 130,
   "id": "a4932253-8de3-4326-890b-682da8b2cbe7",
   "metadata": {},
   "outputs": [],
   "source": [
    "bi_grams = list(bigrams(tokens))"
   ]
  },
  {
   "cell_type": "code",
   "execution_count": 131,
   "id": "b3d57b41-a772-40df-94c6-e125ae713393",
   "metadata": {},
   "outputs": [],
   "source": [
    "co = Counter(bi_grams)"
   ]
  },
  {
   "cell_type": "code",
   "execution_count": 134,
   "id": "7dbae358-2184-478e-afae-bcd4447ccb82",
   "metadata": {},
   "outputs": [],
   "source": [
    "concorrencia_gato_cachorro = co[('cachorro', 'gato')] + co[('gato', 'cachorro')]"
   ]
  },
  {
   "cell_type": "code",
   "execution_count": 135,
   "id": "c075eb61-26b5-41f6-9285-20feba164298",
   "metadata": {},
   "outputs": [
    {
     "data": {
      "text/plain": [
       "0"
      ]
     },
     "execution_count": 135,
     "metadata": {},
     "output_type": "execute_result"
    }
   ],
   "source": [
    "concorrencia_gato_cachorro"
   ]
  },
  {
   "cell_type": "markdown",
   "id": "20e3139e-3762-4c3f-b648-b484ba357a3b",
   "metadata": {},
   "source": [
    "### Análise gramatical"
   ]
  },
  {
   "cell_type": "markdown",
   "id": "f4829ff3-06cf-4ba5-bbf0-8db5bee6d5f1",
   "metadata": {},
   "source": [
    "NNP: Proper Noun, Singular (substantivo próprio, singular)\n",
    "\n",
    "NNPS: Proper Noun, Plural (substantivo próprio, plural)\n",
    "\n",
    "JJ: Adjective (adjetivo)\n",
    "\n",
    "JJR: Adjective, Comparative (adjetivo, comparativo - ex: \"better\", \"larger\")\n",
    "\n",
    "JJS: Adjective, Superlative (adjetivo, superlativo - ex: \"best\", \"largest\")\n",
    "\n",
    "RB: Adverb (advérbio)\n",
    "\n",
    "RBR: Adverb, Comparative (advérbio, comparativo - ex: \"better\", \"faster\")\n",
    "\n",
    "RBS: Adverb, Superlative (advérbio, superlativo - ex: \"best\", \"fastest\")\n",
    "\n",
    "VB: Verb, Base Form (verbo, forma base - ex: \"run\", \"play\")\n",
    "\n",
    "VBD: Verb, Past Tense (verbo, passado - ex: \"ran\", \"played\")\n",
    "\n",
    "VBG: Verb, Gerund or Present Participle (verbo, gerúndio ou particípio presente - ex: \"running\", \"playing\")\n",
    "\n",
    "VBN: Verb, Past Participle (verbo, particípio passado - ex: \"run\", \"played\")\n",
    "\n",
    "VBP: Verb, Non-3rd Person Singular Present (verbo, presente, não 3ª pessoa singular - ex: \"run\", \"play\")\n",
    "\n",
    "VBZ: Verb, 3rd Person Singular Present (verbo, presente, 3ª pessoa singular - ex: \"runs\", \"plays\")\n",
    "\n",
    "WDT: Wh-Determiner (determinante interrogativo - ex: \"which\", \"that\")\n",
    "\n",
    "IN: Preposition or Subordinating Conjunction (preposição ou conjunção subordinativa - ex: \"in\", \"on\", \"because\")"
   ]
  },
  {
   "cell_type": "code",
   "execution_count": 23,
   "id": "06b82767-b228-40a5-8689-0ed86cc786bf",
   "metadata": {},
   "outputs": [],
   "source": [
    "dic_tags = {track: 0 for track in df['track_name']}\n",
    "\n",
    "for index, row in df.iterrows():\n",
    "    tokens = word_tokenize(row['lyrics'].lower())\n",
    "    tags = nltk.pos_tag(tokens)\n",
    "    \n",
    "    pontuacao = 0\n",
    "    for palavra, tag in tags:\n",
    "\n",
    "        if tag in ['NNP', 'NNPS']:\n",
    "            pontuacao += 2\n",
    "        elif tag in ['JJ', 'JJR', 'JJS']:\n",
    "            pontuacao += 1\n",
    "        elif tag in ['RB', 'RBR', 'RBS']:\n",
    "            pontuacao += 1\n",
    "        elif tag in ['VB', 'VBD', 'VBG', 'VBN', 'VBP', 'VBZ']:\n",
    "            pontuacao += 1\n",
    "        elif tag == 'WDT':\n",
    "            pontuacao += 1\n",
    "        elif tag == 'IN':\n",
    "            pontuacao += 1\n",
    "            \n",
    "    dic_tags[row['track_name']] = pontuacao"
   ]
  },
  {
   "cell_type": "markdown",
   "id": "6d90a7d5-c567-4ab7-be83-70b43bc5dd93",
   "metadata": {},
   "source": [
    "### Gensim"
   ]
  },
  {
   "cell_type": "markdown",
   "id": "519eea29-ca2a-4a9c-8204-e4e02f48109f",
   "metadata": {},
   "source": [
    "Um dos usos possíveis dessa ferramente é medir a proximidade semântica entre as palavras e verificar se a música explora temas variados ou complexos"
   ]
  },
  {
   "cell_type": "code",
   "execution_count": 33,
   "id": "2f028e3c-3000-4399-9f33-e789ee3ccb55",
   "metadata": {},
   "outputs": [],
   "source": [
    "from gensim.models import Word2Vec"
   ]
  },
  {
   "cell_type": "code",
   "execution_count": 34,
   "id": "697b2f66-b4d1-4c93-b62b-105048663e69",
   "metadata": {},
   "outputs": [],
   "source": [
    "sentences = [\n",
    "    ['o', 'gato', 'está', 'no', 'telhado'],\n",
    "    ['o', 'cachorro', 'está', 'na', 'rua'],\n",
    "    ['eu', 'amo', 'programar', 'em', 'Python'],\n",
    "    ['a', 'cachorra', 'e', 'o', 'gato', 'são', 'amigos'],\n",
    "    ['Python', 'é', 'uma', 'linguagem', 'de', 'programação'],\n",
    "]"
   ]
  },
  {
   "cell_type": "code",
   "execution_count": 35,
   "id": "33d38b5e-b2bf-47c2-bd38-8e74daa4866d",
   "metadata": {},
   "outputs": [],
   "source": [
    "model = Word2Vec(sentences, vector_size=100, window=5, min_count=1, workers=4)"
   ]
  },
  {
   "cell_type": "code",
   "execution_count": 36,
   "id": "a028325b-94bd-4a33-81e2-a95a6578807a",
   "metadata": {},
   "outputs": [],
   "source": [
    "word_vector = model.wv['gato']"
   ]
  },
  {
   "cell_type": "code",
   "execution_count": 39,
   "id": "d8ddbcbb-df1c-4c48-9634-668e473979bf",
   "metadata": {},
   "outputs": [
    {
     "data": {
      "text/plain": [
       "[('em', 0.18859755992889404),\n",
       " ('a', 0.160723015666008),\n",
       " ('amigos', 0.15932446718215942),\n",
       " ('de', 0.1372387409210205),\n",
       " ('cachorra', 0.12300693243741989)]"
      ]
     },
     "execution_count": 39,
     "metadata": {},
     "output_type": "execute_result"
    }
   ],
   "source": [
    "similar_words = model.wv.most_similar('gato', topn=5)\n",
    "similar_words"
   ]
  },
  {
   "cell_type": "code",
   "execution_count": null,
   "id": "5094bdc0-57d2-4fdd-8953-8473a1d4b346",
   "metadata": {},
   "outputs": [],
   "source": []
  }
 ],
 "metadata": {
  "kernelspec": {
   "display_name": "Python 3 (ipykernel)",
   "language": "python",
   "name": "python3"
  },
  "language_info": {
   "codemirror_mode": {
    "name": "ipython",
    "version": 3
   },
   "file_extension": ".py",
   "mimetype": "text/x-python",
   "name": "python",
   "nbconvert_exporter": "python",
   "pygments_lexer": "ipython3",
   "version": "3.12.4"
  }
 },
 "nbformat": 4,
 "nbformat_minor": 5
}

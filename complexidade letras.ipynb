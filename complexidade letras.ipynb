{
 "cells": [
  {
   "cell_type": "markdown",
   "id": "bd2ca97f-30f1-4323-8f09-f0896105afa2",
   "metadata": {},
   "source": [
    "# Complexidade de letras:"
   ]
  },
  {
   "cell_type": "markdown",
   "id": "38be976c-1583-41da-a96a-7ab1ebcd2d8d",
   "metadata": {},
   "source": [
    "## Introdução:"
   ]
  },
  {
   "cell_type": "markdown",
   "id": "4213ad4a-ffe4-4cdf-a4c3-8f33968cac1c",
   "metadata": {},
   "source": [
    "Este código foi desenvolvido com o intuito de explorar e revelar a complexidade das letras musicais, proporcionando uma análise detalhada de sua riqueza lírica. Diversos critérios foram considerados para avaliar a profundidade e sofisticação das composições, incluindo a diversidade temática das letras. A seguir, estão os principais critérios utilizados na análise:\n",
    "\n",
    "Número de sílabas: Palavras com mais sílabas geralmente indicam maior complexidade, tanto em termos de compreensão quanto de pronúncia.\n",
    "\n",
    "Frequência de palavras: A frequência com que as palavras aparecem na letra pode sugerir sua acessibilidade e familiaridade para o público.\n",
    "\n",
    "Análise gramatical: Frases com muitos gerúndios tendem a ser mais coloquiais, enquanto aquelas com maior uso de conjunções subordinadas indicam um tom mais formal.\n",
    "\n",
    "Diversidade lexical: A variedade de vocabulário e a riqueza semântica contribuem significativamente para a expressividade e profundidade das letras.\n",
    "\n",
    "Diversidade temática: A amplitude dos temas abordados nas letras reflete sua complexidade, com composições que exploram uma gama mais ampla de assuntos sendo consideradas mais ricas e elaboradas.\n",
    "\n",
    "Tamanho da letra\n",
    "\n",
    "Tamanho dos versos"
   ]
  },
  {
   "cell_type": "markdown",
   "id": "2029dc70-beaf-4028-93b0-34abf77e870a",
   "metadata": {},
   "source": [
    "##  2 - Desenvolvimento:"
   ]
  },
  {
   "cell_type": "markdown",
   "id": "26670b80-66ca-4b3f-99e3-f6244733b227",
   "metadata": {},
   "source": [
    "### 2.1 - Importando bibliotecas:"
   ]
  },
  {
   "cell_type": "code",
   "execution_count": 68,
   "id": "e45b74a6-20d3-43bc-8e3f-6053987b6d02",
   "metadata": {},
   "outputs": [],
   "source": [
    "import pandas as pd\n",
    "import textstat as tst\n",
    "import nltk\n",
    "from nltk.tokenize import word_tokenize, sent_tokenize\n",
    "from gensim.models import Word2Vec\n",
    "from nltk.corpus import stopwords\n",
    "import numpy as np\n",
    "from collections import Counter\n",
    "from sklearn.preprocessing import MinMaxScaler"
   ]
  },
  {
   "cell_type": "markdown",
   "id": "7fc99b18-2d69-42ea-9aaa-f1ff94b04b0a",
   "metadata": {},
   "source": [
    "### 2.2 - Leitura do dataset:"
   ]
  },
  {
   "cell_type": "code",
   "execution_count": 69,
   "id": "5ff4272c-6bbf-4b5c-ad61-9dbe413bef8b",
   "metadata": {},
   "outputs": [],
   "source": [
    "df = pd.read_csv(\"datasets/dataset_atualizado.csv\")"
   ]
  },
  {
   "cell_type": "markdown",
   "id": "c1c66c0b-a258-4521-9e6a-cb89337b3354",
   "metadata": {},
   "source": [
    "### 2.3 - Descrição do dataset utilizado:"
   ]
  },
  {
   "cell_type": "markdown",
   "id": "0df68f35-b9db-48c8-b878-843ff83a898d",
   "metadata": {},
   "source": [
    "Artist: Artista\n",
    "\n",
    "Track_name: Nome da música\n",
    "\n",
    "Lyrics: Letra da música\n",
    "\n",
    "genre: Gênero musical"
   ]
  },
  {
   "cell_type": "code",
   "execution_count": 70,
   "id": "e58878b1-37fc-4173-a009-f631357aa942",
   "metadata": {},
   "outputs": [
    {
     "data": {
      "text/html": [
       "<div>\n",
       "<style scoped>\n",
       "    .dataframe tbody tr th:only-of-type {\n",
       "        vertical-align: middle;\n",
       "    }\n",
       "\n",
       "    .dataframe tbody tr th {\n",
       "        vertical-align: top;\n",
       "    }\n",
       "\n",
       "    .dataframe thead th {\n",
       "        text-align: right;\n",
       "    }\n",
       "</style>\n",
       "<table border=\"1\" class=\"dataframe\">\n",
       "  <thead>\n",
       "    <tr style=\"text-align: right;\">\n",
       "      <th></th>\n",
       "      <th>artist</th>\n",
       "      <th>track_name</th>\n",
       "      <th>lyrics</th>\n",
       "      <th>genre</th>\n",
       "    </tr>\n",
       "  </thead>\n",
       "  <tbody>\n",
       "    <tr>\n",
       "      <th>0</th>\n",
       "      <td>abba</td>\n",
       "      <td>Ahe's My Kind Of Girl</td>\n",
       "      <td>Look at her face, it's a wonderful face  \\r\\nA...</td>\n",
       "      <td>pop</td>\n",
       "    </tr>\n",
       "    <tr>\n",
       "      <th>1</th>\n",
       "      <td>abba</td>\n",
       "      <td>Andante, Andante</td>\n",
       "      <td>Take it easy with me, please  \\r\\nTouch me gen...</td>\n",
       "      <td>pop</td>\n",
       "    </tr>\n",
       "    <tr>\n",
       "      <th>2</th>\n",
       "      <td>abba</td>\n",
       "      <td>As Good As New</td>\n",
       "      <td>I'll never know why I had to go  \\r\\nWhy I had...</td>\n",
       "      <td>pop</td>\n",
       "    </tr>\n",
       "    <tr>\n",
       "      <th>3</th>\n",
       "      <td>abba</td>\n",
       "      <td>Bang</td>\n",
       "      <td>Making somebody happy is a question of give an...</td>\n",
       "      <td>pop</td>\n",
       "    </tr>\n",
       "    <tr>\n",
       "      <th>4</th>\n",
       "      <td>abba</td>\n",
       "      <td>Bang-A-Boomerang</td>\n",
       "      <td>Making somebody happy is a question of give an...</td>\n",
       "      <td>pop</td>\n",
       "    </tr>\n",
       "  </tbody>\n",
       "</table>\n",
       "</div>"
      ],
      "text/plain": [
       "  artist             track_name  \\\n",
       "0   abba  Ahe's My Kind Of Girl   \n",
       "1   abba       Andante, Andante   \n",
       "2   abba         As Good As New   \n",
       "3   abba                   Bang   \n",
       "4   abba       Bang-A-Boomerang   \n",
       "\n",
       "                                              lyrics genre  \n",
       "0  Look at her face, it's a wonderful face  \\r\\nA...   pop  \n",
       "1  Take it easy with me, please  \\r\\nTouch me gen...   pop  \n",
       "2  I'll never know why I had to go  \\r\\nWhy I had...   pop  \n",
       "3  Making somebody happy is a question of give an...   pop  \n",
       "4  Making somebody happy is a question of give an...   pop  "
      ]
     },
     "execution_count": 70,
     "metadata": {},
     "output_type": "execute_result"
    }
   ],
   "source": [
    "df.head()"
   ]
  },
  {
   "cell_type": "markdown",
   "id": "d572e0d9-a6cb-430f-97e9-95a8ba4ce222",
   "metadata": {},
   "source": [
    "### 2.4 - Limpeza de dados:"
   ]
  },
  {
   "cell_type": "markdown",
   "id": "e69cfe7b-947b-470c-96a2-edb0a5f2e46e",
   "metadata": {},
   "source": [
    "Como são letras de música, as linhas contêm \\r ou \\n, o que, futuramente, pode ocasionar problemas de entendimento, sendo necessário filtrá-las."
   ]
  },
  {
   "cell_type": "code",
   "execution_count": 71,
   "id": "14cdabb6-ce99-4bc1-b48c-52b40e4828df",
   "metadata": {},
   "outputs": [],
   "source": [
    "def limpar_texto(texto):\n",
    "    texto = texto.replace(\"\\r\\n\", \" \").replace(\"\\n\", \" \").replace(\"<br/>\", \"\\n\").replace(\"<p>\", \" \").replace(\"</p>\", \"\\n\").strip()\n",
    "    return texto"
   ]
  },
  {
   "cell_type": "markdown",
   "id": "a33110e1-9934-4496-86a6-555e611df6c5",
   "metadata": {},
   "source": [
    "Criar uma nova coluna com as letras filtradas:"
   ]
  },
  {
   "cell_type": "code",
   "execution_count": 72,
   "id": "aa63b7de-62ca-4988-a09b-910c3482d1f2",
   "metadata": {},
   "outputs": [],
   "source": [
    "df['letras_limpas'] = df['lyrics'].apply(limpar_texto)"
   ]
  },
  {
   "cell_type": "code",
   "execution_count": 73,
   "id": "43d64d61-8a8a-4bee-863f-a64e6fcb3b48",
   "metadata": {},
   "outputs": [
    {
     "data": {
      "text/html": [
       "<div>\n",
       "<style scoped>\n",
       "    .dataframe tbody tr th:only-of-type {\n",
       "        vertical-align: middle;\n",
       "    }\n",
       "\n",
       "    .dataframe tbody tr th {\n",
       "        vertical-align: top;\n",
       "    }\n",
       "\n",
       "    .dataframe thead th {\n",
       "        text-align: right;\n",
       "    }\n",
       "</style>\n",
       "<table border=\"1\" class=\"dataframe\">\n",
       "  <thead>\n",
       "    <tr style=\"text-align: right;\">\n",
       "      <th></th>\n",
       "      <th>artist</th>\n",
       "      <th>track_name</th>\n",
       "      <th>lyrics</th>\n",
       "      <th>genre</th>\n",
       "      <th>letras_limpas</th>\n",
       "    </tr>\n",
       "  </thead>\n",
       "  <tbody>\n",
       "    <tr>\n",
       "      <th>0</th>\n",
       "      <td>abba</td>\n",
       "      <td>Ahe's My Kind Of Girl</td>\n",
       "      <td>Look at her face, it's a wonderful face  \\r\\nA...</td>\n",
       "      <td>pop</td>\n",
       "      <td>Look at her face, it's a wonderful face   And ...</td>\n",
       "    </tr>\n",
       "    <tr>\n",
       "      <th>1</th>\n",
       "      <td>abba</td>\n",
       "      <td>Andante, Andante</td>\n",
       "      <td>Take it easy with me, please  \\r\\nTouch me gen...</td>\n",
       "      <td>pop</td>\n",
       "      <td>Take it easy with me, please   Touch me gently...</td>\n",
       "    </tr>\n",
       "    <tr>\n",
       "      <th>2</th>\n",
       "      <td>abba</td>\n",
       "      <td>As Good As New</td>\n",
       "      <td>I'll never know why I had to go  \\r\\nWhy I had...</td>\n",
       "      <td>pop</td>\n",
       "      <td>I'll never know why I had to go   Why I had to...</td>\n",
       "    </tr>\n",
       "    <tr>\n",
       "      <th>3</th>\n",
       "      <td>abba</td>\n",
       "      <td>Bang</td>\n",
       "      <td>Making somebody happy is a question of give an...</td>\n",
       "      <td>pop</td>\n",
       "      <td>Making somebody happy is a question of give an...</td>\n",
       "    </tr>\n",
       "    <tr>\n",
       "      <th>4</th>\n",
       "      <td>abba</td>\n",
       "      <td>Bang-A-Boomerang</td>\n",
       "      <td>Making somebody happy is a question of give an...</td>\n",
       "      <td>pop</td>\n",
       "      <td>Making somebody happy is a question of give an...</td>\n",
       "    </tr>\n",
       "  </tbody>\n",
       "</table>\n",
       "</div>"
      ],
      "text/plain": [
       "  artist             track_name  \\\n",
       "0   abba  Ahe's My Kind Of Girl   \n",
       "1   abba       Andante, Andante   \n",
       "2   abba         As Good As New   \n",
       "3   abba                   Bang   \n",
       "4   abba       Bang-A-Boomerang   \n",
       "\n",
       "                                              lyrics genre  \\\n",
       "0  Look at her face, it's a wonderful face  \\r\\nA...   pop   \n",
       "1  Take it easy with me, please  \\r\\nTouch me gen...   pop   \n",
       "2  I'll never know why I had to go  \\r\\nWhy I had...   pop   \n",
       "3  Making somebody happy is a question of give an...   pop   \n",
       "4  Making somebody happy is a question of give an...   pop   \n",
       "\n",
       "                                       letras_limpas  \n",
       "0  Look at her face, it's a wonderful face   And ...  \n",
       "1  Take it easy with me, please   Touch me gently...  \n",
       "2  I'll never know why I had to go   Why I had to...  \n",
       "3  Making somebody happy is a question of give an...  \n",
       "4  Making somebody happy is a question of give an...  "
      ]
     },
     "execution_count": 73,
     "metadata": {},
     "output_type": "execute_result"
    }
   ],
   "source": [
    "df.head()"
   ]
  },
  {
   "cell_type": "markdown",
   "id": "bf2036f5-8b36-4228-abb4-64a2cfe79e1e",
   "metadata": {},
   "source": [
    "Indexar os nomes das músicas para evitar que músicas de nomes iguais, mas de contextos diferentes sejam confundidas:"
   ]
  },
  {
   "cell_type": "code",
   "execution_count": 75,
   "id": "8bea18b8-b940-4df1-af64-1da7dec6fcd2",
   "metadata": {},
   "outputs": [],
   "source": [
    "df['track_name'] = [f\"{index} - {name}\" for index, name in enumerate(df['track_name'])]"
   ]
  },
  {
   "cell_type": "code",
   "execution_count": 76,
   "id": "eac34a1e-cc5c-4020-9151-9b17ed6f13c6",
   "metadata": {},
   "outputs": [
    {
     "data": {
      "text/html": [
       "<div>\n",
       "<style scoped>\n",
       "    .dataframe tbody tr th:only-of-type {\n",
       "        vertical-align: middle;\n",
       "    }\n",
       "\n",
       "    .dataframe tbody tr th {\n",
       "        vertical-align: top;\n",
       "    }\n",
       "\n",
       "    .dataframe thead th {\n",
       "        text-align: right;\n",
       "    }\n",
       "</style>\n",
       "<table border=\"1\" class=\"dataframe\">\n",
       "  <thead>\n",
       "    <tr style=\"text-align: right;\">\n",
       "      <th></th>\n",
       "      <th>artist</th>\n",
       "      <th>track_name</th>\n",
       "      <th>lyrics</th>\n",
       "      <th>genre</th>\n",
       "      <th>letras_limpas</th>\n",
       "    </tr>\n",
       "  </thead>\n",
       "  <tbody>\n",
       "    <tr>\n",
       "      <th>0</th>\n",
       "      <td>abba</td>\n",
       "      <td>0 - Ahe's My Kind Of Girl</td>\n",
       "      <td>Look at her face, it's a wonderful face  \\r\\nA...</td>\n",
       "      <td>pop</td>\n",
       "      <td>Look at her face, it's a wonderful face   And ...</td>\n",
       "    </tr>\n",
       "    <tr>\n",
       "      <th>1</th>\n",
       "      <td>abba</td>\n",
       "      <td>1 - Andante, Andante</td>\n",
       "      <td>Take it easy with me, please  \\r\\nTouch me gen...</td>\n",
       "      <td>pop</td>\n",
       "      <td>Take it easy with me, please   Touch me gently...</td>\n",
       "    </tr>\n",
       "    <tr>\n",
       "      <th>2</th>\n",
       "      <td>abba</td>\n",
       "      <td>2 - As Good As New</td>\n",
       "      <td>I'll never know why I had to go  \\r\\nWhy I had...</td>\n",
       "      <td>pop</td>\n",
       "      <td>I'll never know why I had to go   Why I had to...</td>\n",
       "    </tr>\n",
       "    <tr>\n",
       "      <th>3</th>\n",
       "      <td>abba</td>\n",
       "      <td>3 - Bang</td>\n",
       "      <td>Making somebody happy is a question of give an...</td>\n",
       "      <td>pop</td>\n",
       "      <td>Making somebody happy is a question of give an...</td>\n",
       "    </tr>\n",
       "    <tr>\n",
       "      <th>4</th>\n",
       "      <td>abba</td>\n",
       "      <td>4 - Bang-A-Boomerang</td>\n",
       "      <td>Making somebody happy is a question of give an...</td>\n",
       "      <td>pop</td>\n",
       "      <td>Making somebody happy is a question of give an...</td>\n",
       "    </tr>\n",
       "  </tbody>\n",
       "</table>\n",
       "</div>"
      ],
      "text/plain": [
       "  artist                 track_name  \\\n",
       "0   abba  0 - Ahe's My Kind Of Girl   \n",
       "1   abba       1 - Andante, Andante   \n",
       "2   abba         2 - As Good As New   \n",
       "3   abba                   3 - Bang   \n",
       "4   abba       4 - Bang-A-Boomerang   \n",
       "\n",
       "                                              lyrics genre  \\\n",
       "0  Look at her face, it's a wonderful face  \\r\\nA...   pop   \n",
       "1  Take it easy with me, please  \\r\\nTouch me gen...   pop   \n",
       "2  I'll never know why I had to go  \\r\\nWhy I had...   pop   \n",
       "3  Making somebody happy is a question of give an...   pop   \n",
       "4  Making somebody happy is a question of give an...   pop   \n",
       "\n",
       "                                       letras_limpas  \n",
       "0  Look at her face, it's a wonderful face   And ...  \n",
       "1  Take it easy with me, please   Touch me gently...  \n",
       "2  I'll never know why I had to go   Why I had to...  \n",
       "3  Making somebody happy is a question of give an...  \n",
       "4  Making somebody happy is a question of give an...  "
      ]
     },
     "execution_count": 76,
     "metadata": {},
     "output_type": "execute_result"
    }
   ],
   "source": [
    "df.head()"
   ]
  },
  {
   "cell_type": "markdown",
   "id": "239aa8f8-e157-40d7-a083-050463014c7c",
   "metadata": {},
   "source": [
    "## 3 - Análises exploratórias:"
   ]
  },
  {
   "cell_type": "markdown",
   "id": "731699d4-c593-42e5-b0ec-ce84e4cf8fc0",
   "metadata": {},
   "source": [
    "Nessa parte do projeto, focaremos em procurar ferramentas que facilitem nossa classificação de complexidade das letras musicais"
   ]
  },
  {
   "cell_type": "markdown",
   "id": "dc4d77b9-04ee-4cab-bc88-f1703099ccae",
   "metadata": {},
   "source": [
    "### 3.1 - Número de sílabas:"
   ]
  },
  {
   "cell_type": "markdown",
   "id": "b4a338b9-37fd-447e-9cb4-4ceadb3e588e",
   "metadata": {},
   "source": [
    "Este código tem como objetivo contar o número de sílabas de cada palavra em letras de músicas e identificar palavras que possuem uma certa complexidade lírica. Para isso, utilizaremos uma biblioteca chamada `textstat`, que tem uma função chamada `syllable_count`, a qual calcula a quantidade de sílabas nas palavras"
   ]
  },
  {
   "cell_type": "markdown",
   "id": "adef76bd-56a2-42a8-ac5a-ed51f0d313a5",
   "metadata": {},
   "source": [
    "### Passo 1: Criar um Dicionário de Sílaba"
   ]
  },
  {
   "cell_type": "markdown",
   "id": "ff1d3624-30cf-4090-aa5e-8d0f09b8e022",
   "metadata": {},
   "source": [
    "Primeiro, criamos um dicionário que armazena o número de sílabas de cada palavra em cada música. Usaremos dictionary comprehension, em que o nome da música será a key e a quantidade de sílabas de cada palavra será o Value. "
   ]
  },
  {
   "cell_type": "code",
   "execution_count": 80,
   "id": "f5cfd200-3ce4-419b-8db8-713ee9e23948",
   "metadata": {},
   "outputs": [],
   "source": [
    "dic_silabas = {\n",
    "    track: {palavra: tst.syllable_count(palavra) for palavra in letras.split(\" \")} \n",
    "    for track, letras in zip(df['track_name'], df['letras_limpas']) \n",
    "}"
   ]
  },
  {
   "cell_type": "markdown",
   "id": "d1d78386-c69b-4227-a7f3-81849dfedf9e",
   "metadata": {},
   "source": [
    "### Passo 2: Contar Palavras Complexas"
   ]
  },
  {
   "cell_type": "markdown",
   "id": "6cab71b5-1479-46bf-bd27-88947350fe15",
   "metadata": {},
   "source": [
    "Aqui, percorremos as músicas e suas palavras para identificar palavras que possuem 5 ou mais sílabas. Também filtramos expressões repetitivas para uma análise mais precisa."
   ]
  },
  {
   "cell_type": "code",
   "execution_count": 81,
   "id": "5a4e5498-52f6-4c75-aa28-cffa3a6618d2",
   "metadata": {},
   "outputs": [],
   "source": [
    "# Dicionário para armazenar a contagem de palavras com 4 ou mais sílabas em cada música\n",
    "musicas_silabas_complexas = {}\n",
    "\n",
    "for nome_musica, palavras in dic_silabas.items():\n",
    "    for palavra, silabas in palavras.items():\n",
    "        # Verifica se a palavra tem 4 ou mais sílabas\n",
    "        if silabas >= 5:\n",
    "            # Filtra palavras que contêm uma letra quatro ou mais vezes (ex.: \"Ahhh\"), comum em músicas\n",
    "            if not any(palavra.count(letra) >= 4 for letra in set(palavra)):\n",
    "                if nome_musica not in musicas_silabas_complexas:\n",
    "                    musicas_silabas_complexas[nome_musica] = 1\n",
    "                else:\n",
    "                    musicas_silabas_complexas[nome_musica] += 1"
   ]
  },
  {
   "cell_type": "markdown",
   "id": "5ecc1339-0537-4eb2-9c63-b9ef05ce111d",
   "metadata": {},
   "source": [
    "### Passo 3: Criar uma coluna no dataset"
   ]
  },
  {
   "cell_type": "markdown",
   "id": "9b35dde4-b963-44ed-943f-50f38e4c89ef",
   "metadata": {},
   "source": [
    "Aqui, criaremos uma coluna referente a quantidade de sílabas maiores que 4 que a letra possui"
   ]
  },
  {
   "cell_type": "code",
   "execution_count": 82,
   "id": "3d705f7c-8824-443d-8056-7bf0f026ed90",
   "metadata": {},
   "outputs": [],
   "source": [
    "df['Silabas'] = df['track_name'].map(musicas_silabas_complexas).fillna(0)"
   ]
  },
  {
   "cell_type": "code",
   "execution_count": 85,
   "id": "7872304f-ea66-453d-92e1-edc329f04645",
   "metadata": {},
   "outputs": [
    {
     "data": {
      "text/plain": [
       "0        0.0\n",
       "1        0.0\n",
       "2        0.0\n",
       "3        0.0\n",
       "4        0.0\n",
       "        ... \n",
       "45541    0.0\n",
       "45542    0.0\n",
       "45543    0.0\n",
       "45544    0.0\n",
       "45545    0.0\n",
       "Name: Silabas, Length: 45546, dtype: float64"
      ]
     },
     "execution_count": 85,
     "metadata": {},
     "output_type": "execute_result"
    }
   ],
   "source": [
    "df['Silabas']"
   ]
  },
  {
   "cell_type": "markdown",
   "id": "97fe4811-74e6-4722-b75b-4fc6a9c8a792",
   "metadata": {},
   "source": [
    "### 3.2 - Frequência:"
   ]
  },
  {
   "cell_type": "markdown",
   "id": "990f1f73-7c41-4bc6-8717-eb799ce98218",
   "metadata": {},
   "source": [
    "Este código visa calcular a diversidade lexical das letras das músicas, utilizando a medida TTR (Type-Token Ratio), que é a razão entre o número de palavras únicas e o total de palavras em uma letra. "
   ]
  },
  {
   "cell_type": "markdown",
   "id": "33c3249e-4770-4992-9b92-974d1b1e9d4f",
   "metadata": {},
   "source": [
    "### Passo 1: Calcular o TTR (Type-Token Ratio)"
   ]
  },
  {
   "cell_type": "markdown",
   "id": "dba849dc-1abe-4e68-a167-b3810e4186cb",
   "metadata": {},
   "source": [
    "Aqui, calculamos o TTR para cada letra, dividindo o número de palavras únicas pelo total de palavras na letra. O resultado é armazenado em uma lista para análise posterior."
   ]
  },
  {
   "cell_type": "code",
   "execution_count": 87,
   "id": "3b8b506c-ed9a-4320-b683-568f8c206d78",
   "metadata": {},
   "outputs": [],
   "source": [
    "lista_ttr = [ len(set(df.letras_limpas[letra].lower().split())) / len(df.letras_limpas[letra].split())\n",
    "    if len(df.letras_limpas[letra].split()) > 0 else 0\n",
    "    for letra in range(len(df))\n",
    "]"
   ]
  },
  {
   "cell_type": "markdown",
   "id": "ef0a8cec-9957-49f2-9352-ab1eb04a055d",
   "metadata": {},
   "source": [
    "### Passo 2: Criar uma coluna no dataset"
   ]
  },
  {
   "cell_type": "code",
   "execution_count": 88,
   "id": "8171e899-7066-4588-8246-8dad57fdd6b1",
   "metadata": {},
   "outputs": [],
   "source": [
    "df[\"Frequencia\"] = lista_ttr"
   ]
  },
  {
   "cell_type": "code",
   "execution_count": 89,
   "id": "d04e0f14-069e-4f61-a712-f62428e1cfa1",
   "metadata": {},
   "outputs": [
    {
     "data": {
      "text/plain": [
       "0        0.457516\n",
       "1        0.307692\n",
       "2        0.362179\n",
       "3        0.440000\n",
       "4        0.454545\n",
       "           ...   \n",
       "45541    0.481481\n",
       "45542    0.381625\n",
       "45543    0.450199\n",
       "45544    0.542857\n",
       "45545    0.291883\n",
       "Name: Frequencia, Length: 45546, dtype: float64"
      ]
     },
     "execution_count": 89,
     "metadata": {},
     "output_type": "execute_result"
    }
   ],
   "source": [
    "df[\"Frequencia\"]"
   ]
  },
  {
   "cell_type": "markdown",
   "id": "5928d184-7a25-4878-bd7f-f953828f906a",
   "metadata": {},
   "source": [
    "### 3.3 - Análise Gramatical:"
   ]
  },
  {
   "cell_type": "markdown",
   "id": "2b8ad1d9-9ecc-4eed-8afd-e0590c6fbb84",
   "metadata": {},
   "source": [
    "Este código tem como objetivo calcular uma pontuação com base nas tags gramaticais das palavras presentes nas letras das músicas. A pontuação é atribuída de acordo com a presença de substantivos, adjetivos, advérbios, verbos e outras categorias gramaticais. Para realizar a análise gramatical, utilizamos a biblioteca NLTK (Natural Language Toolkit), que fornece ferramentas para a tokenização e a análise de partes do discurso (POS tagging)."
   ]
  },
  {
   "cell_type": "markdown",
   "id": "a269b01f-d227-421c-a253-ed0dd4d25668",
   "metadata": {},
   "source": [
    "### Passo 1: Inicializar o Dicionário de Pontuação"
   ]
  },
  {
   "cell_type": "markdown",
   "id": "9c4649b4-2a88-41aa-98fc-7779df1ef268",
   "metadata": {},
   "source": [
    "Primeiramente, criamos um dicionário (`dic_tags`) onde cada música é uma chave e sua pontuação inicial é zero. Isso nos permitirá acumular a pontuação ao longo da análise."
   ]
  },
  {
   "cell_type": "code",
   "execution_count": 90,
   "id": "290da951-a1c9-4c96-afce-7fc9a7046480",
   "metadata": {},
   "outputs": [],
   "source": [
    "dic_tags = {track: 0 for track in df['track_name']} "
   ]
  },
  {
   "cell_type": "markdown",
   "id": "e48ae12d-17e5-4903-9ad2-548745fee512",
   "metadata": {},
   "source": [
    "### Passo 2: Iterar Sobre as Letras e Calcular a Pontuação"
   ]
  },
  {
   "cell_type": "markdown",
   "id": "d981a8fd-14b7-487d-90c6-1055e12f9140",
   "metadata": {},
   "source": [
    "Neste passo, utilizamos um loop para percorrer cada letra do DataFrame. Para cada letra, realizamos a tokenização e a análise de partes do discurso (POS tagging) para identificar a categoria gramatical de cada palavra. Em seguida, atribuímos uma pontuação com base nas tags gramaticais."
   ]
  },
  {
   "cell_type": "code",
   "execution_count": 91,
   "id": "7d8be2be-6ef1-4862-9ac7-b5012e0ae4a1",
   "metadata": {},
   "outputs": [],
   "source": [
    "for index, row in df.iterrows():\n",
    "    tokens = word_tokenize(row['letras_limpas'].lower())  # Tokeniza a letra em palavras\n",
    "    tags = nltk.pos_tag(tokens) \n",
    "    \n",
    "    pontuacao = 0  \n",
    "    for palavra, tag in tags:\n",
    "        # Atribui pontuação com base nas tags gramaticais\n",
    "        if tag in ['NNP', 'NNPS']:  # Substantivos próprios\n",
    "            pontuacao += 0.02\n",
    "        elif tag in ['JJ', 'JJR', 'JJS']:  # Adjetivos\n",
    "            pontuacao += 0.01\n",
    "        elif tag in ['RB', 'RBR', 'RBS']:  # Advérbios\n",
    "            pontuacao += 0.01\n",
    "        elif tag in ['VB', 'VBD', 'VBG', 'VBN', 'VBP', 'VBZ']:  # Verbos\n",
    "            pontuacao += 0.01\n",
    "        elif tag == 'WDT':  # Determinante interrogativo\n",
    "            pontuacao += 0.01 \n",
    "        elif tag == 'IN':  # Preposição ou conjunção subordinativa \n",
    "            pontuacao += 0.01\n",
    "            \n",
    "    dic_tags[row['track_name']] = pontuacao "
   ]
  },
  {
   "cell_type": "markdown",
   "id": "6e54931a-ab1a-4dee-8b4d-99e8aa3b4fa7",
   "metadata": {},
   "source": [
    "### Passo 3: Criar uma coluna no dataset"
   ]
  },
  {
   "cell_type": "code",
   "execution_count": 92,
   "id": "b826c5d4-5daf-450e-894f-320ca6ef42f1",
   "metadata": {},
   "outputs": [],
   "source": [
    "df['Pontuacao Gramatical'] = df['track_name'].map(dic_tags)"
   ]
  },
  {
   "cell_type": "code",
   "execution_count": 110,
   "id": "9c8301dd-b9d0-4a18-8c59-89a77848fa88",
   "metadata": {},
   "outputs": [
    {
     "data": {
      "text/plain": [
       "0        0.71\n",
       "1        1.32\n",
       "2        1.74\n",
       "3        1.03\n",
       "4        1.06\n",
       "         ... \n",
       "45541    0.85\n",
       "45542    1.07\n",
       "45543    1.02\n",
       "45544    0.73\n",
       "45545    2.69\n",
       "Name: Pontuacao Gramatical, Length: 45546, dtype: float64"
      ]
     },
     "execution_count": 110,
     "metadata": {},
     "output_type": "execute_result"
    }
   ],
   "source": [
    "df['Pontuacao Gramatical']"
   ]
  },
  {
   "cell_type": "markdown",
   "id": "8e2c82ee-691f-43bb-a40c-c021ab1b13ce",
   "metadata": {},
   "source": [
    "### 3.4 - Diversidade Lexical:"
   ]
  },
  {
   "cell_type": "markdown",
   "id": "bfc64bc5-853c-4f86-acea-21093a007358",
   "metadata": {},
   "source": [
    "Este trecho de código tem como objetivo calcular a complexidade das letras das músicas usando o modelo Word2Vec. A complexidade é determinada pela variância dos vetores das palavras, permitindo uma análise da riqueza e diversidade vocabular presente nas letras. A variância é utilizada porque indica o grau de dispersão dos vetores em relação à média, refletindo a diversidade vocabular: uma maior variância sugere um vocabulário mais rico e variado, enquanto uma menor variância indica similaridade entre as palavras, resultando em uma letra potencialmente menos complexa."
   ]
  },
  {
   "cell_type": "markdown",
   "id": "a56522d3-2d39-498e-a9f9-b6918313e4b8",
   "metadata": {},
   "source": [
    "### Passo 1: Remoção de Palavras Comuns (Stop Words)"
   ]
  },
  {
   "cell_type": "markdown",
   "id": "a957719a-7ab5-427f-8405-e29a1fc82136",
   "metadata": {},
   "source": [
    "Primeiro, criamos um conjunto de palavras comuns (stop words) que serão removidas das letras, uma vez que essas palavras geralmente não contribuem para a variabilidade temática."
   ]
  },
  {
   "cell_type": "code",
   "execution_count": 93,
   "id": "15629acb-2a20-44a5-999f-73e3e7eac33b",
   "metadata": {},
   "outputs": [],
   "source": [
    "stop_words = set(stopwords.words('english')) "
   ]
  },
  {
   "cell_type": "markdown",
   "id": "b47585a1-cafe-4f9c-971d-7801f4b74358",
   "metadata": {},
   "source": [
    "### Passo 2: Preparar lista de palavras para o modelo"
   ]
  },
  {
   "cell_type": "markdown",
   "id": "b0473d0b-816c-4fbc-a21a-c3ec63636b2c",
   "metadata": {},
   "source": [
    "O modelo requer que as palavras estejam em listas separadas para facilitar a análise, visto que ele calcula as palavras pela coocorrência"
   ]
  },
  {
   "cell_type": "code",
   "execution_count": 94,
   "id": "3efcba28-96a8-40c1-8f66-a2ee23851424",
   "metadata": {},
   "outputs": [],
   "source": [
    "letras = [[letra for letra in df['letras_limpas'][n].split() if letra not in stop_words] for n in range(len(df))]"
   ]
  },
  {
   "cell_type": "markdown",
   "id": "5c09b61d-c6f4-4c69-bf9f-58dc3619458e",
   "metadata": {},
   "source": [
    "### Passo 3: Treinamento do Modelo Word2Vec"
   ]
  },
  {
   "cell_type": "markdown",
   "id": "463c5fe6-a8a8-4496-9a19-9af9852a872b",
   "metadata": {},
   "source": [
    "Em seguida, utilizamos o Word2Vec para criar um modelo que representa as palavras em um espaço vetorial. Isso nos permitirá calcular a complexidade das letras com base nos vetores gerados."
   ]
  },
  {
   "cell_type": "code",
   "execution_count": 95,
   "id": "2c85392e-a76f-4179-a91c-21ac326b2187",
   "metadata": {},
   "outputs": [],
   "source": [
    "model = Word2Vec(letras, vector_size=100, window=5, min_count=1, workers=4)  "
   ]
  },
  {
   "cell_type": "markdown",
   "id": "aa12eb42-a0fd-41ab-bcf1-5922a4da8544",
   "metadata": {},
   "source": [
    "### Passo 4: Definição das Funções"
   ]
  },
  {
   "cell_type": "markdown",
   "id": "d2913002-539d-42c9-a22f-384c9068044c",
   "metadata": {},
   "source": [
    "#### Passo 4.1 - Cálculo da Variância dos Vetores"
   ]
  },
  {
   "cell_type": "markdown",
   "id": "191df0a9-c68a-4cbf-9a15-e1a0eeb32fa6",
   "metadata": {},
   "source": [
    "A função `calcular_variancia_vetores` tem como objetivo calcular a soma das variâncias dos vetores correspondentes a uma lista de palavras, utilizando Word2Vec.\n",
    "\n",
    "- Passos:\n",
    "  1. Para cada palavra na lista, o código verifica se ela está presente no vocabulário do modelo.\n",
    "  2. Se a palavra estiver no modelo, o vetor correspondente à palavra é adicionado a uma lista.\n",
    "  3. Após coletar os vetores, o código os normaliza utilizando `MinMaxScaler`.\n",
    "  4. Em seguida, calcula a variância ao longo do eixo 0 (variância de cada dimensão dos vetores).\n",
    "  5. Retorna a soma dessas variâncias."
   ]
  },
  {
   "cell_type": "code",
   "execution_count": 96,
   "id": "9dd86661-5904-4fde-b8ab-505f8273e4a2",
   "metadata": {},
   "outputs": [],
   "source": [
    "def calcular_variancia_vetores(palavras, modelo):\n",
    "    vetores = []\n",
    "    for palavra in palavras:\n",
    "        if palavra in modelo.wv:  # Verifica se a palavra está no vocabulário do modelo\n",
    "            vetores.append(modelo.wv[palavra])  \n",
    "    \n",
    "    if len(vetores) > 0:  # Evitar calcular variância em lista vazia\n",
    "        vetores_np = np.array(vetores)  # Converte a lista de vetores em um array NumPy\n",
    "\n",
    "        scaler = MinMaxScaler()\n",
    "        vetores_normalizados = scaler.fit_transform(vetores_np)\n",
    "        \n",
    "        variancia = np.var(vetores_normalizados, axis=0)  # Calcula a variância ao longo do eixo 0\n",
    "        \n",
    "        return np.sum(variancia)  \n",
    "        \n",
    "    else:\n",
    "        return 0 \n"
   ]
  },
  {
   "cell_type": "markdown",
   "id": "8ca662f9-155e-47a7-b2c8-5cf213da342e",
   "metadata": {},
   "source": [
    "#### Passo 4.2 - Cálculo da Complexidade da Letra"
   ]
  },
  {
   "cell_type": "markdown",
   "id": "66a7fb03-7451-4cfc-8ba5-28111d6e764b",
   "metadata": {},
   "source": [
    "A função calcular_complexidade processa a letra da música e calcula a sua complexidade utilizando a função complexidade_vetores."
   ]
  },
  {
   "cell_type": "code",
   "execution_count": 97,
   "id": "53b73541-f62e-4208-827c-457205b9989e",
   "metadata": {},
   "outputs": [],
   "source": [
    "def avaliar_complexidade_letra(letra, modelo):\n",
    "    # Remove stopwords e processa a letra\n",
    "    letra_processada = [palavra.lower() for palavra in letra.split() if palavra not in stop_words]\n",
    "    return calcular_variancia_vetores(letra_processada, modelo)"
   ]
  },
  {
   "cell_type": "markdown",
   "id": "a123b93c-ac28-4ce2-bde7-26726ffdecb8",
   "metadata": {},
   "source": [
    "### Passo 5 - Cálculo da Complexidade para Cada Música"
   ]
  },
  {
   "cell_type": "markdown",
   "id": "d5c3180a-a6dd-4206-b99b-16c05fedd60e",
   "metadata": {},
   "source": [
    "Aqui, inicializamos um dicionário (dic_complexidade) para armazenar a complexidade de cada música e iteramos sobre as letras para calcular essa complexidade."
   ]
  },
  {
   "cell_type": "code",
   "execution_count": 98,
   "id": "2d56d762-57d6-412b-88a6-89310093a873",
   "metadata": {},
   "outputs": [],
   "source": [
    "dic_complexidade = {df.track_name[n]: {} for n in range(len(df))}  \n",
    "\n",
    "for index, row in df.iterrows():\n",
    "    letra = row['letras_limpas']\n",
    "    complexidade = avaliar_complexidade_letra(letra, model)  \n",
    "    dic_complexidade[df.track_name[index]] = complexidade  \n",
    "\n",
    "lista_div = [dic_complexidade[df.track_name[n]] for n in range(len(df))]"
   ]
  },
  {
   "cell_type": "code",
   "execution_count": 99,
   "id": "15396b39-db10-41b3-9993-9d1bc6880f91",
   "metadata": {},
   "outputs": [],
   "source": [
    "df['diversidade lexical'] = lista_div"
   ]
  },
  {
   "cell_type": "code",
   "execution_count": 111,
   "id": "38fd0bf0-801a-40d7-b121-67c4247171ca",
   "metadata": {},
   "outputs": [
    {
     "data": {
      "text/plain": [
       "0        5.178668\n",
       "1        4.460471\n",
       "2        4.138115\n",
       "3        3.592463\n",
       "4        3.550966\n",
       "           ...   \n",
       "45541    4.828613\n",
       "45542    3.965744\n",
       "45543    3.578850\n",
       "45544    4.332500\n",
       "45545    3.232071\n",
       "Name: diversidade lexical, Length: 45546, dtype: float32"
      ]
     },
     "execution_count": 111,
     "metadata": {},
     "output_type": "execute_result"
    }
   ],
   "source": [
    "df['diversidade lexical']"
   ]
  },
  {
   "cell_type": "markdown",
   "id": "57b16767-2e38-464d-8d28-ee8c7727ee5f",
   "metadata": {},
   "source": [
    "### 3.5 - Diversidade temática"
   ]
  },
  {
   "cell_type": "markdown",
   "id": "e06d103e-75e3-44b4-9163-0130f7587236",
   "metadata": {},
   "source": [
    "Este código tem como objetivo analisar a presença de temas nas letras das músicas, utilizando um modelo Word2Vec para calcular a similaridade entre os vetores das palavras da letra e os vetores de temas predefinidos. A seguir, descrevemos as principais etapas do processo:"
   ]
  },
  {
   "cell_type": "markdown",
   "id": "f87dc0ef-805e-459e-8b23-f621f920bc52",
   "metadata": {},
   "source": [
    "### Passo 1: Definição de Temas e Palavras-chave"
   ]
  },
  {
   "cell_type": "code",
   "execution_count": 100,
   "id": "abde8289-b7b1-41a3-9839-7f5be1f336d5",
   "metadata": {},
   "outputs": [],
   "source": [
    "themes = {\n",
    "    'love': ['love', 'affection', 'heart', 'passion', 'desire', 'romance'],\n",
    "    'sadness': ['sadness', 'pain', 'longing', 'loneliness', 'lament', 'loss'],\n",
    "    'freedom': ['freedom', 'live', 'free', 'independence', 'choice', 'escape'],\n",
    "    'friendship': ['friendship', 'companion', 'loyalty', 'trust', 'camaraderie'],\n",
    "    'hope': ['hope', 'faith', 'dream', 'future', 'light', 'renewal'],\n",
    "    'nature': ['nature', 'earth', 'sky', 'sea', 'forest', 'wildlife'],\n",
    "    'struggle': ['struggle', 'battle', 'strength', 'resistance', 'challenge', 'conquest'],\n",
    "    'joy': ['joy', 'happiness', 'laughter', 'smile', 'celebration', 'fun'],\n",
    "    'solitude': ['solitude', 'isolation', 'distance', 'disconnection', 'emptiness'],\n",
    "    'nostalgia': ['nostalgia', 'memories', 'past', 'remembrance', 'reminiscence'],\n",
    "    'change': ['change', 'transformation', 'growth', 'evolution', 'new beginnings'],\n",
    "    'self-love': ['self-love', 'self-esteem', 'self-awareness', 'acceptance', 'confidence'],\n",
    "    'conflict': ['conflict', 'dispute', 'disagreement', 'tension', 'polarization'],\n",
    "    'solidarity': ['solidarity', 'help', 'support', 'community', 'union'],\n",
    "    'socio-political': ['socio-political', 'justice', 'rights', 'freedom of speech', 'equality'],\n",
    "    'party': ['party', 'celebration', 'fun', 'dance', 'joy'],\n",
    "    'mental health': ['mental health', 'anxiety', 'depression', 'healing', 'balance'],\n",
    "}"
   ]
  },
  {
   "cell_type": "markdown",
   "id": "a92fa738-c508-470d-a4bb-2ad09e3f0dfa",
   "metadata": {},
   "source": [
    "### Passo 2: Cálculo da Média dos Vetores de Palavras"
   ]
  },
  {
   "cell_type": "markdown",
   "id": "72e6803c-4080-442c-bab5-be2705e6e353",
   "metadata": {},
   "source": [
    "A função media_vetores recebe uma lista de palavras e o modelo Word2Vec, retornando a média dos vetores dessas palavras. Isso permite representar um conjunto de palavras como um único vetor, que captura a essência do significado coletivo."
   ]
  },
  {
   "cell_type": "code",
   "execution_count": 101,
   "id": "67b9e634-ef8b-471c-917f-3c27f851db1c",
   "metadata": {},
   "outputs": [],
   "source": [
    "def media_vetores(palavras, modelo):\n",
    "    vetores = []\n",
    "    for palavra in palavras:\n",
    "        if palavra in modelo.wv:\n",
    "            vetores.append(modelo.wv[palavra])\n",
    "    \n",
    "    if len(vetores) == 0:\n",
    "        return np.zeros(modelo.vector_size)  # Retorna um vetor de zeros se não houver palavras válidas\n",
    "    \n",
    "    return np.mean(vetores, axis=0)"
   ]
  },
  {
   "cell_type": "markdown",
   "id": "34376b12-b684-4f8e-ba51-5fdec66aa6ca",
   "metadata": {},
   "source": [
    "### Passo 3: Normalizar"
   ]
  },
  {
   "cell_type": "markdown",
   "id": "b2ff5805-6deb-488c-a977-7154599c931b",
   "metadata": {},
   "source": [
    "Para evitar grandes diferenças entre datasets de tamanhos diferentes"
   ]
  },
  {
   "cell_type": "code",
   "execution_count": 102,
   "id": "90ef2aa3-7653-4948-8dfe-d6c7e2112e32",
   "metadata": {},
   "outputs": [],
   "source": [
    "def normalizar_similaridade(similaridade, vetor_letra):\n",
    "    # Normaliza pela magnitude do vetor letra\n",
    "    magnitude_letra = np.linalg.norm(vetor_letra)\n",
    "    \n",
    "    if magnitude_letra != 0:\n",
    "        return similaridade / magnitude_letra\n",
    "    return similaridade"
   ]
  },
  {
   "cell_type": "markdown",
   "id": "ceb725f8-20d8-4703-8e89-5439eb63d0f8",
   "metadata": {},
   "source": [
    "### Passo 4: Cálculo da Similaridade Temática"
   ]
  },
  {
   "cell_type": "markdown",
   "id": "25ed6a48-5576-4355-9b49-34aedfe55fe0",
   "metadata": {},
   "source": [
    "A função resultado é responsável por comparar a letra da música (representada por seu vetor) com os vetores de cada tema. Para cada tema, a função:\n",
    "\n",
    "a) Calcula o vetor médio das palavras-chave do tema.\n",
    "\n",
    "Motivação: O vetor médio representa a essência do tema, capturando a semântica das palavras associadas a ele. Isso permite que a análise considere o contexto das palavras, facilitando a comparação com a letra.\n",
    "\n",
    "b) Compara a similaridade (usando a similaridade cosseno) entre o vetor da letra e o vetor do tema.\n",
    "\n",
    "Motivação: A similaridade cosseno mede a proximidade entre dois vetores, indicando quão semelhantes são os significados representados. Essa comparação ajuda a identificar a relação temática entre a letra da música e os temas predefinidos."
   ]
  },
  {
   "cell_type": "code",
   "execution_count": 103,
   "id": "f8044661-dc59-4633-ad91-1bfaf48002e5",
   "metadata": {},
   "outputs": [],
   "source": [
    "def resultado(themes, model, vetor_letra):\n",
    "    resultado = {}\n",
    "    for tema, palavras_chave in themes.items():\n",
    "        vetor_tema = media_vetores(palavras_chave, model)\n",
    "\n",
    "        if vetor_tema is not None and vetor_letra is not None and np.any(vetor_tema) and np.any(vetor_letra):\n",
    "            similaridade = model.wv.cosine_similarities(vetor_letra, np.array([vetor_tema]))\n",
    "            \n",
    "            # Aplica a normalização da similaridade\n",
    "            similaridade_normalizada = normalizar_similaridade(similaridade[0], vetor_letra)\n",
    "            resultado[tema] = similaridade_normalizada\n",
    "        else:\n",
    "            resultado[tema] = 0\n",
    "    \n",
    "    return resultado"
   ]
  },
  {
   "cell_type": "markdown",
   "id": "cb9930a3-c782-4d1c-b813-c9f6e590f0e2",
   "metadata": {},
   "source": [
    "### Passo 5: Iteração Sobre as Letras das Músicas"
   ]
  },
  {
   "cell_type": "markdown",
   "id": "90e4b536-65a5-4b66-8de1-81258bc8dedc",
   "metadata": {},
   "source": [
    "O código itera sobre cada linha do DataFrame df, processando as letras das músicas:\n",
    "\n",
    "a) Converte as letras para minúsculas e remove palavras de parada (stop words).\n",
    "\n",
    "b) Calcula o vetor da letra usando a função media_vetores.\n",
    "\n",
    "c) Chama a função resultado para obter a similaridade entre a letra e os temas, armazenando os resultados em um dicionário chamado dic_div_tematica."
   ]
  },
  {
   "cell_type": "code",
   "execution_count": 104,
   "id": "c3c2378e-574f-4f8e-b95a-6d1d0159f136",
   "metadata": {},
   "outputs": [],
   "source": [
    "# Cria um dicionário vazio para armazenar a diversidade temática de cada música, usando o nome da música como chave.\n",
    "dic_div_tematica = {df.track_name[n]: {} for n in range(len(df))}\n",
    "\n",
    "for index, row in df.iterrows():\n",
    "    letra = row['letras_limpas'] \n",
    "    \n",
    "    # Processa a letra, convertendo todas as palavras para minúsculas e removendo palavras de parada.\n",
    "    letra_processada = [palavra.lower() for palavra in letra.split() if palavra.lower() not in stop_words]\n",
    "    \n",
    "    vetor_letra = media_vetores(letra_processada, model)\n",
    "    \n",
    "    # Obtem o resultado da similaridade temática entre a letra e os temas definidos.\n",
    "    res = resultado(themes, model, vetor_letra)\n",
    "    \n",
    "    dic_div_tematica[df.track_name[index]] = res"
   ]
  },
  {
   "cell_type": "code",
   "execution_count": null,
   "id": "7e6fefa8-14c7-4f74-b6fc-8289b7208c27",
   "metadata": {},
   "outputs": [],
   "source": [
    "lista_desvios = [np.std(list(value.values())) for value in dic_div_tematica.values()]\n",
    "df[\"diversidade tematica\"] = lista_desvios"
   ]
  },
  {
   "cell_type": "code",
   "execution_count": 112,
   "id": "e1e634c1-f5cc-4566-ae86-77ddc893a527",
   "metadata": {},
   "outputs": [
    {
     "data": {
      "text/plain": [
       "0        0.024275\n",
       "1        0.023414\n",
       "2        0.026448\n",
       "3        0.030630\n",
       "4        0.030784\n",
       "           ...   \n",
       "45541    0.027352\n",
       "45542    0.021152\n",
       "45543    0.025230\n",
       "45544    0.025217\n",
       "45545    0.024529\n",
       "Name: diversidade tematica, Length: 45546, dtype: float32"
      ]
     },
     "execution_count": 112,
     "metadata": {},
     "output_type": "execute_result"
    }
   ],
   "source": [
    "df[\"diversidade tematica\"]"
   ]
  },
  {
   "cell_type": "markdown",
   "id": "f54f2c67-e752-4a03-83d5-558148e077bc",
   "metadata": {},
   "source": [
    "### 3.6 - Tamanho das letras"
   ]
  },
  {
   "cell_type": "code",
   "execution_count": 105,
   "id": "97b5e53a-6669-4f33-9abb-b143f06110ef",
   "metadata": {},
   "outputs": [],
   "source": [
    "dic_tamanho = {row['track_name']: len(row['letras_limpas'].split()) for index, row in df.iterrows()}\n",
    "df['Tamanho'] = df['track_name'].map(dic_tamanho)"
   ]
  },
  {
   "cell_type": "markdown",
   "id": "3a7a4ba4-3598-46e0-a9e2-d0c29d93569e",
   "metadata": {},
   "source": [
    "### 3.7 - Repetição de versos:"
   ]
  },
  {
   "cell_type": "code",
   "execution_count": 106,
   "id": "7619abce-bd61-4bf7-ad64-68e45e49fddc",
   "metadata": {},
   "outputs": [],
   "source": [
    "def pontuacao_verso(dic_contagem_versos):\n",
    "    dic = {}\n",
    "    for key, value in dic_contagem_versos.items():\n",
    "        total_versos = sum(value.values())  # Total de ocorrências de versos\n",
    "        versos_unicos = len(value)  # Número de versos únicos\n",
    "        \n",
    "        # Calcula o comprimento médio dos versos\n",
    "        comprimento_medio_versos = total_versos / versos_unicos if versos_unicos > 0 else 0\n",
    "        dic[key] = comprimento_medio_versos\n",
    "    \n",
    "    return dic\n"
   ]
  },
  {
   "cell_type": "code",
   "execution_count": 107,
   "id": "82bb5c10-412a-41b6-a0fe-0b8473f72b1b",
   "metadata": {},
   "outputs": [],
   "source": [
    "dic_contagem_versos = {df.track_name[n]: Counter() for n in range(len(df))} \n",
    "\n",
    "# Itera sobre as linhas do DataFrame para contar os versos\n",
    "for index, row in df.iterrows():\n",
    "    versos = row['lyrics'].split('\\n')  # Divide a letra em versos\n",
    "    contagem_versos = Counter(verso.strip().lower() for verso in versos if verso.strip())\n",
    "    \n",
    "    # Atualiza a contagem de versos para a música atual\n",
    "    dic_contagem_versos[row['track_name']].update(contagem_versos)\n"
   ]
  },
  {
   "cell_type": "code",
   "execution_count": 108,
   "id": "2856d2e4-c413-415f-832e-27c828ed6139",
   "metadata": {},
   "outputs": [],
   "source": [
    "resultados = pontuacao_verso(dic_contagem_versos)"
   ]
  },
  {
   "cell_type": "code",
   "execution_count": 109,
   "id": "70208ff1-47de-482f-a1d5-a0ee08bd6a44",
   "metadata": {},
   "outputs": [],
   "source": [
    "df['Versos'] = df['track_name'].map(resultados)"
   ]
  },
  {
   "cell_type": "code",
   "execution_count": 114,
   "id": "94f4e90d-1896-4b72-958e-5103d7b0cd62",
   "metadata": {},
   "outputs": [
    {
     "data": {
      "text/html": [
       "<div>\n",
       "<style scoped>\n",
       "    .dataframe tbody tr th:only-of-type {\n",
       "        vertical-align: middle;\n",
       "    }\n",
       "\n",
       "    .dataframe tbody tr th {\n",
       "        vertical-align: top;\n",
       "    }\n",
       "\n",
       "    .dataframe thead th {\n",
       "        text-align: right;\n",
       "    }\n",
       "</style>\n",
       "<table border=\"1\" class=\"dataframe\">\n",
       "  <thead>\n",
       "    <tr style=\"text-align: right;\">\n",
       "      <th></th>\n",
       "      <th>artist</th>\n",
       "      <th>track_name</th>\n",
       "      <th>lyrics</th>\n",
       "      <th>genre</th>\n",
       "      <th>letras_limpas</th>\n",
       "      <th>Silabas</th>\n",
       "      <th>Frequencia</th>\n",
       "      <th>Pontuacao Gramatical</th>\n",
       "      <th>diversidade lexical</th>\n",
       "      <th>diversidade tematica</th>\n",
       "      <th>Tamanho</th>\n",
       "      <th>Versos</th>\n",
       "    </tr>\n",
       "  </thead>\n",
       "  <tbody>\n",
       "    <tr>\n",
       "      <th>0</th>\n",
       "      <td>abba</td>\n",
       "      <td>0 - Ahe's My Kind Of Girl</td>\n",
       "      <td>Look at her face, it's a wonderful face  \\r\\nA...</td>\n",
       "      <td>pop</td>\n",
       "      <td>Look at her face, it's a wonderful face   And ...</td>\n",
       "      <td>0.0</td>\n",
       "      <td>0.457516</td>\n",
       "      <td>0.71</td>\n",
       "      <td>5.178668</td>\n",
       "      <td>0.024275</td>\n",
       "      <td>153</td>\n",
       "      <td>1.333333</td>\n",
       "    </tr>\n",
       "    <tr>\n",
       "      <th>1</th>\n",
       "      <td>abba</td>\n",
       "      <td>1 - Andante, Andante</td>\n",
       "      <td>Take it easy with me, please  \\r\\nTouch me gen...</td>\n",
       "      <td>pop</td>\n",
       "      <td>Take it easy with me, please   Touch me gently...</td>\n",
       "      <td>0.0</td>\n",
       "      <td>0.307692</td>\n",
       "      <td>1.32</td>\n",
       "      <td>4.460471</td>\n",
       "      <td>0.023414</td>\n",
       "      <td>260</td>\n",
       "      <td>2.136364</td>\n",
       "    </tr>\n",
       "    <tr>\n",
       "      <th>2</th>\n",
       "      <td>abba</td>\n",
       "      <td>2 - As Good As New</td>\n",
       "      <td>I'll never know why I had to go  \\r\\nWhy I had...</td>\n",
       "      <td>pop</td>\n",
       "      <td>I'll never know why I had to go   Why I had to...</td>\n",
       "      <td>0.0</td>\n",
       "      <td>0.362179</td>\n",
       "      <td>1.74</td>\n",
       "      <td>4.138115</td>\n",
       "      <td>0.026448</td>\n",
       "      <td>312</td>\n",
       "      <td>1.434783</td>\n",
       "    </tr>\n",
       "    <tr>\n",
       "      <th>3</th>\n",
       "      <td>abba</td>\n",
       "      <td>3 - Bang</td>\n",
       "      <td>Making somebody happy is a question of give an...</td>\n",
       "      <td>pop</td>\n",
       "      <td>Making somebody happy is a question of give an...</td>\n",
       "      <td>0.0</td>\n",
       "      <td>0.440000</td>\n",
       "      <td>1.03</td>\n",
       "      <td>3.592463</td>\n",
       "      <td>0.030630</td>\n",
       "      <td>200</td>\n",
       "      <td>1.307692</td>\n",
       "    </tr>\n",
       "    <tr>\n",
       "      <th>4</th>\n",
       "      <td>abba</td>\n",
       "      <td>4 - Bang-A-Boomerang</td>\n",
       "      <td>Making somebody happy is a question of give an...</td>\n",
       "      <td>pop</td>\n",
       "      <td>Making somebody happy is a question of give an...</td>\n",
       "      <td>0.0</td>\n",
       "      <td>0.454545</td>\n",
       "      <td>1.06</td>\n",
       "      <td>3.550966</td>\n",
       "      <td>0.030784</td>\n",
       "      <td>198</td>\n",
       "      <td>1.307692</td>\n",
       "    </tr>\n",
       "  </tbody>\n",
       "</table>\n",
       "</div>"
      ],
      "text/plain": [
       "  artist                 track_name  \\\n",
       "0   abba  0 - Ahe's My Kind Of Girl   \n",
       "1   abba       1 - Andante, Andante   \n",
       "2   abba         2 - As Good As New   \n",
       "3   abba                   3 - Bang   \n",
       "4   abba       4 - Bang-A-Boomerang   \n",
       "\n",
       "                                              lyrics genre  \\\n",
       "0  Look at her face, it's a wonderful face  \\r\\nA...   pop   \n",
       "1  Take it easy with me, please  \\r\\nTouch me gen...   pop   \n",
       "2  I'll never know why I had to go  \\r\\nWhy I had...   pop   \n",
       "3  Making somebody happy is a question of give an...   pop   \n",
       "4  Making somebody happy is a question of give an...   pop   \n",
       "\n",
       "                                       letras_limpas  Silabas  Frequencia  \\\n",
       "0  Look at her face, it's a wonderful face   And ...      0.0    0.457516   \n",
       "1  Take it easy with me, please   Touch me gently...      0.0    0.307692   \n",
       "2  I'll never know why I had to go   Why I had to...      0.0    0.362179   \n",
       "3  Making somebody happy is a question of give an...      0.0    0.440000   \n",
       "4  Making somebody happy is a question of give an...      0.0    0.454545   \n",
       "\n",
       "   Pontuacao Gramatical  diversidade lexical  diversidade tematica  Tamanho  \\\n",
       "0                  0.71             5.178668              0.024275      153   \n",
       "1                  1.32             4.460471              0.023414      260   \n",
       "2                  1.74             4.138115              0.026448      312   \n",
       "3                  1.03             3.592463              0.030630      200   \n",
       "4                  1.06             3.550966              0.030784      198   \n",
       "\n",
       "     Versos  \n",
       "0  1.333333  \n",
       "1  2.136364  \n",
       "2  1.434783  \n",
       "3  1.307692  \n",
       "4  1.307692  "
      ]
     },
     "execution_count": 114,
     "metadata": {},
     "output_type": "execute_result"
    }
   ],
   "source": [
    "df.head()"
   ]
  },
  {
   "cell_type": "markdown",
   "id": "1d2dd5dd-13d7-472e-9300-4ac49b7813f1",
   "metadata": {},
   "source": [
    "## Classificação: *"
   ]
  },
  {
   "cell_type": "code",
   "execution_count": null,
   "id": "9095b334-b729-42bf-91ae-c4b08e52fa30",
   "metadata": {},
   "outputs": [],
   "source": [
    "# Carregar o dataset original (já treinado)\n",
    "df = pd.read_csv('complexo.csv')\n",
    "X = df[['Silabas', 'Frequencia', 'Pontuacao Gramatical', 'diversidade lexical', 'diversidade tematica',  'Tamanho', 'Versos']]\n",
    "y = df['Complexidade']  # Assumindo que esta é a coluna com as classes\n",
    "\n",
    "# Treinar o modelo\n",
    "model = RandomForestClassifier()\n",
    "model.fit(X, y)\n",
    "\n",
    "# Carregar o novo dataset\n",
    "novo_dataset = pd.read_csv('dataset_teste.csv')\n",
    "X_novo = novo_dataset[['Silabas', 'Frequencia', 'Pontuacao Gramatical', 'diversidade lexical', 'diversidade tematica',  'Tamanho', 'Versos']]\n",
    "\n",
    "# Fazer previsões\n",
    "y_pred_novo = model.predict(X_novo)\n",
    "novo_dataset['Predicao'] = y_pred_novo\n",
    "\n",
    "# Salvar o novo dataset com previsões\n",
    "novo_dataset.to_csv('dataset_teste.csv', index=False)"
   ]
  }
 ],
 "metadata": {
  "kernelspec": {
   "display_name": "Python 3 (ipykernel)",
   "language": "python",
   "name": "python3"
  },
  "language_info": {
   "codemirror_mode": {
    "name": "ipython",
    "version": 3
   },
   "file_extension": ".py",
   "mimetype": "text/x-python",
   "name": "python",
   "nbconvert_exporter": "python",
   "pygments_lexer": "ipython3",
   "version": "3.12.4"
  }
 },
 "nbformat": 4,
 "nbformat_minor": 5
}

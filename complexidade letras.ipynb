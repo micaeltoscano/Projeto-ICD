{
 "cells": [
  {
   "cell_type": "markdown",
   "id": "bd2ca97f-30f1-4323-8f09-f0896105afa2",
   "metadata": {},
   "source": [
    "# Complexidade de letras:"
   ]
  },
  {
   "cell_type": "markdown",
   "id": "38be976c-1583-41da-a96a-7ab1ebcd2d8d",
   "metadata": {},
   "source": [
    "## Introdução:"
   ]
  },
  {
   "cell_type": "markdown",
   "id": "4213ad4a-ffe4-4cdf-a4c3-8f33968cac1c",
   "metadata": {},
   "source": [
    "Este código foi desenvolvido com o intuito de explorar e revelar a complexidade das letras musicais, proporcionando uma análise detalhada de sua riqueza lírica. Diversos critérios foram considerados para avaliar a profundidade e sofisticação das composições, incluindo a diversidade temática das letras. A seguir, estão os principais critérios utilizados na análise:\n",
    "\n",
    "Número de sílabas: Palavras com mais sílabas geralmente indicam maior complexidade, tanto em termos de compreensão quanto de pronúncia.\n",
    "\n",
    "Frequência de palavras: A frequência com que as palavras aparecem na letra pode sugerir sua acessibilidade e familiaridade para o público.\n",
    "\n",
    "Análise gramatical: Frases com muitos gerúndios tendem a ser mais coloquiais, enquanto aquelas com maior uso de conjunções subordinadas indicam um tom mais formal.\n",
    "\n",
    "Diversidade lexical: A variedade de vocabulário e a riqueza semântica contribuem significativamente para a expressividade e profundidade das letras.\n",
    "\n",
    "Diversidade temática: A amplitude dos temas abordados nas letras reflete sua complexidade, com composições que exploram uma gama mais ampla de assuntos sendo consideradas mais ricas e elaboradas.\n",
    "\n",
    "Tamanho da letra: A extensão da letra, medida pelo número de palavras, pode indicar o nível de desenvolvimento da composição.\n",
    "\n",
    "Tamanho dos versos: Versos mais longos ou mais curtos influenciam a fluidez e o ritmo das músicas, impactando também sua estrutura.\n",
    "\n",
    "Para concluir, a classificação da complexidade das letras será realizada por meio do modelo `Random Forest`, que integra esses critérios, permitindo uma avaliação abrangente da profundidade e sofisticação das composições musicais. Essa abordagem visa não apenas quantificar a complexidade lírica, mas também oferecer informações sobre a riqueza e diversidade temática presente nas letras"
   ]
  },
  {
   "cell_type": "markdown",
   "id": "2029dc70-beaf-4028-93b0-34abf77e870a",
   "metadata": {},
   "source": [
    "##  2 - Desenvolvimento:"
   ]
  },
  {
   "cell_type": "markdown",
   "id": "26670b80-66ca-4b3f-99e3-f6244733b227",
   "metadata": {},
   "source": [
    "### 2.1 - Importando bibliotecas:"
   ]
  },
  {
   "cell_type": "code",
   "execution_count": 121,
   "id": "e45b74a6-20d3-43bc-8e3f-6053987b6d02",
   "metadata": {},
   "outputs": [],
   "source": [
    "import pandas as pd\n",
    "import textstat as tst\n",
    "import nltk\n",
    "from nltk.tokenize import word_tokenize, sent_tokenize\n",
    "from gensim.models import Word2Vec\n",
    "from nltk.corpus import stopwords\n",
    "import numpy as np\n",
    "from collections import Counter\n",
    "from sklearn.preprocessing import MinMaxScaler\n",
    "from sklearn.ensemble import RandomForestClassifier"
   ]
  },
  {
   "cell_type": "markdown",
   "id": "7fc99b18-2d69-42ea-9aaa-f1ff94b04b0a",
   "metadata": {},
   "source": [
    "### 2.2 - Leitura do dataset:"
   ]
  },
  {
   "cell_type": "code",
   "execution_count": 122,
   "id": "5ff4272c-6bbf-4b5c-ad61-9dbe413bef8b",
   "metadata": {},
   "outputs": [],
   "source": [
    "df_carregado = pd.read_csv(\"datasets/dataset_atualizado.csv\")\n",
    "df = df_carregado.head(50) #limitando a 50 para facilitar a visualização"
   ]
  },
  {
   "cell_type": "markdown",
   "id": "c1c66c0b-a258-4521-9e6a-cb89337b3354",
   "metadata": {},
   "source": [
    "### 2.3 - Descrição do dataset utilizado:"
   ]
  },
  {
   "cell_type": "markdown",
   "id": "0df68f35-b9db-48c8-b878-843ff83a898d",
   "metadata": {},
   "source": [
    "Artist: Artista\n",
    "\n",
    "Track_name: Nome da música\n",
    "\n",
    "Lyrics: Letra da música\n",
    "\n",
    "genre: Gênero musical"
   ]
  },
  {
   "cell_type": "code",
   "execution_count": 123,
   "id": "e58878b1-37fc-4173-a009-f631357aa942",
   "metadata": {},
   "outputs": [
    {
     "data": {
      "text/html": [
       "<div>\n",
       "<style scoped>\n",
       "    .dataframe tbody tr th:only-of-type {\n",
       "        vertical-align: middle;\n",
       "    }\n",
       "\n",
       "    .dataframe tbody tr th {\n",
       "        vertical-align: top;\n",
       "    }\n",
       "\n",
       "    .dataframe thead th {\n",
       "        text-align: right;\n",
       "    }\n",
       "</style>\n",
       "<table border=\"1\" class=\"dataframe\">\n",
       "  <thead>\n",
       "    <tr style=\"text-align: right;\">\n",
       "      <th></th>\n",
       "      <th>artist</th>\n",
       "      <th>track_name</th>\n",
       "      <th>lyrics</th>\n",
       "      <th>genre</th>\n",
       "    </tr>\n",
       "  </thead>\n",
       "  <tbody>\n",
       "    <tr>\n",
       "      <th>0</th>\n",
       "      <td>abba</td>\n",
       "      <td>Ahe's My Kind Of Girl</td>\n",
       "      <td>Look at her face, it's a wonderful face  \\nAnd...</td>\n",
       "      <td>pop</td>\n",
       "    </tr>\n",
       "    <tr>\n",
       "      <th>1</th>\n",
       "      <td>abba</td>\n",
       "      <td>Andante, Andante</td>\n",
       "      <td>Take it easy with me, please  \\nTouch me gentl...</td>\n",
       "      <td>pop</td>\n",
       "    </tr>\n",
       "    <tr>\n",
       "      <th>2</th>\n",
       "      <td>abba</td>\n",
       "      <td>As Good As New</td>\n",
       "      <td>I'll never know why I had to go  \\nWhy I had t...</td>\n",
       "      <td>pop</td>\n",
       "    </tr>\n",
       "    <tr>\n",
       "      <th>3</th>\n",
       "      <td>abba</td>\n",
       "      <td>Bang</td>\n",
       "      <td>Making somebody happy is a question of give an...</td>\n",
       "      <td>pop</td>\n",
       "    </tr>\n",
       "    <tr>\n",
       "      <th>4</th>\n",
       "      <td>abba</td>\n",
       "      <td>Bang-A-Boomerang</td>\n",
       "      <td>Making somebody happy is a question of give an...</td>\n",
       "      <td>pop</td>\n",
       "    </tr>\n",
       "  </tbody>\n",
       "</table>\n",
       "</div>"
      ],
      "text/plain": [
       "  artist             track_name  \\\n",
       "0   abba  Ahe's My Kind Of Girl   \n",
       "1   abba       Andante, Andante   \n",
       "2   abba         As Good As New   \n",
       "3   abba                   Bang   \n",
       "4   abba       Bang-A-Boomerang   \n",
       "\n",
       "                                              lyrics genre  \n",
       "0  Look at her face, it's a wonderful face  \\nAnd...   pop  \n",
       "1  Take it easy with me, please  \\nTouch me gentl...   pop  \n",
       "2  I'll never know why I had to go  \\nWhy I had t...   pop  \n",
       "3  Making somebody happy is a question of give an...   pop  \n",
       "4  Making somebody happy is a question of give an...   pop  "
      ]
     },
     "execution_count": 123,
     "metadata": {},
     "output_type": "execute_result"
    }
   ],
   "source": [
    "df.head()"
   ]
  },
  {
   "cell_type": "markdown",
   "id": "d572e0d9-a6cb-430f-97e9-95a8ba4ce222",
   "metadata": {},
   "source": [
    "### 2.4 - Limpeza de dados:"
   ]
  },
  {
   "cell_type": "markdown",
   "id": "e69cfe7b-947b-470c-96a2-edb0a5f2e46e",
   "metadata": {},
   "source": [
    "Como são letras de música, as linhas contêm \\r ou \\n, o que, futuramente, pode ocasionar problemas de entendimento, sendo necessário filtrá-las."
   ]
  },
  {
   "cell_type": "code",
   "execution_count": 124,
   "id": "14cdabb6-ce99-4bc1-b48c-52b40e4828df",
   "metadata": {},
   "outputs": [],
   "source": [
    "def limpar_texto(texto):\n",
    "    texto = texto.replace(\"\\r\\n\", \" \").replace(\"\\n\", \" \").replace(\"<br/>\", \"\\n\").replace(\"<p>\", \" \").replace(\"</p>\", \"\\n\").strip()\n",
    "    return texto"
   ]
  },
  {
   "cell_type": "markdown",
   "id": "a33110e1-9934-4496-86a6-555e611df6c5",
   "metadata": {},
   "source": [
    "Criar uma nova coluna com as letras filtradas:"
   ]
  },
  {
   "cell_type": "code",
   "execution_count": null,
   "id": "aa63b7de-62ca-4988-a09b-910c3482d1f2",
   "metadata": {},
   "outputs": [],
   "source": [
    "df['letras_limpas'] = df['lyrics'].apply(limpar_texto)"
   ]
  },
  {
   "cell_type": "markdown",
   "id": "bf2036f5-8b36-4228-abb4-64a2cfe79e1e",
   "metadata": {},
   "source": [
    "Indexar os nomes das músicas para evitar que músicas de nomes iguais, mas de contextos diferentes sejam confundidas:"
   ]
  },
  {
   "cell_type": "code",
   "execution_count": null,
   "id": "8bea18b8-b940-4df1-af64-1da7dec6fcd2",
   "metadata": {},
   "outputs": [],
   "source": [
    "df['track_name'] = [f\"{index} - {name}\" for index, name in enumerate(df['track_name'])]"
   ]
  },
  {
   "cell_type": "code",
   "execution_count": 127,
   "id": "7ae7d8db-f81d-4117-9c25-4f4d9d765bd2",
   "metadata": {},
   "outputs": [
    {
     "data": {
      "text/html": [
       "<div>\n",
       "<style scoped>\n",
       "    .dataframe tbody tr th:only-of-type {\n",
       "        vertical-align: middle;\n",
       "    }\n",
       "\n",
       "    .dataframe tbody tr th {\n",
       "        vertical-align: top;\n",
       "    }\n",
       "\n",
       "    .dataframe thead th {\n",
       "        text-align: right;\n",
       "    }\n",
       "</style>\n",
       "<table border=\"1\" class=\"dataframe\">\n",
       "  <thead>\n",
       "    <tr style=\"text-align: right;\">\n",
       "      <th></th>\n",
       "      <th>artist</th>\n",
       "      <th>track_name</th>\n",
       "      <th>lyrics</th>\n",
       "      <th>genre</th>\n",
       "      <th>letras_limpas</th>\n",
       "    </tr>\n",
       "  </thead>\n",
       "  <tbody>\n",
       "    <tr>\n",
       "      <th>0</th>\n",
       "      <td>abba</td>\n",
       "      <td>0 - Ahe's My Kind Of Girl</td>\n",
       "      <td>Look at her face, it's a wonderful face  \\nAnd...</td>\n",
       "      <td>pop</td>\n",
       "      <td>Look at her face, it's a wonderful face   And ...</td>\n",
       "    </tr>\n",
       "    <tr>\n",
       "      <th>1</th>\n",
       "      <td>abba</td>\n",
       "      <td>1 - Andante, Andante</td>\n",
       "      <td>Take it easy with me, please  \\nTouch me gentl...</td>\n",
       "      <td>pop</td>\n",
       "      <td>Take it easy with me, please   Touch me gently...</td>\n",
       "    </tr>\n",
       "    <tr>\n",
       "      <th>2</th>\n",
       "      <td>abba</td>\n",
       "      <td>2 - As Good As New</td>\n",
       "      <td>I'll never know why I had to go  \\nWhy I had t...</td>\n",
       "      <td>pop</td>\n",
       "      <td>I'll never know why I had to go   Why I had to...</td>\n",
       "    </tr>\n",
       "    <tr>\n",
       "      <th>3</th>\n",
       "      <td>abba</td>\n",
       "      <td>3 - Bang</td>\n",
       "      <td>Making somebody happy is a question of give an...</td>\n",
       "      <td>pop</td>\n",
       "      <td>Making somebody happy is a question of give an...</td>\n",
       "    </tr>\n",
       "    <tr>\n",
       "      <th>4</th>\n",
       "      <td>abba</td>\n",
       "      <td>4 - Bang-A-Boomerang</td>\n",
       "      <td>Making somebody happy is a question of give an...</td>\n",
       "      <td>pop</td>\n",
       "      <td>Making somebody happy is a question of give an...</td>\n",
       "    </tr>\n",
       "  </tbody>\n",
       "</table>\n",
       "</div>"
      ],
      "text/plain": [
       "  artist                 track_name  \\\n",
       "0   abba  0 - Ahe's My Kind Of Girl   \n",
       "1   abba       1 - Andante, Andante   \n",
       "2   abba         2 - As Good As New   \n",
       "3   abba                   3 - Bang   \n",
       "4   abba       4 - Bang-A-Boomerang   \n",
       "\n",
       "                                              lyrics genre  \\\n",
       "0  Look at her face, it's a wonderful face  \\nAnd...   pop   \n",
       "1  Take it easy with me, please  \\nTouch me gentl...   pop   \n",
       "2  I'll never know why I had to go  \\nWhy I had t...   pop   \n",
       "3  Making somebody happy is a question of give an...   pop   \n",
       "4  Making somebody happy is a question of give an...   pop   \n",
       "\n",
       "                                       letras_limpas  \n",
       "0  Look at her face, it's a wonderful face   And ...  \n",
       "1  Take it easy with me, please   Touch me gently...  \n",
       "2  I'll never know why I had to go   Why I had to...  \n",
       "3  Making somebody happy is a question of give an...  \n",
       "4  Making somebody happy is a question of give an...  "
      ]
     },
     "execution_count": 127,
     "metadata": {},
     "output_type": "execute_result"
    }
   ],
   "source": [
    "df.head()"
   ]
  },
  {
   "cell_type": "markdown",
   "id": "239aa8f8-e157-40d7-a083-050463014c7c",
   "metadata": {},
   "source": [
    "## 3 - Análises exploratórias:"
   ]
  },
  {
   "cell_type": "markdown",
   "id": "731699d4-c593-42e5-b0ec-ce84e4cf8fc0",
   "metadata": {},
   "source": [
    "Nessa parte do projeto, focaremos em procurar ferramentas que facilitem nossa classificação de complexidade das letras musicais"
   ]
  },
  {
   "cell_type": "markdown",
   "id": "dc4d77b9-04ee-4cab-bc88-f1703099ccae",
   "metadata": {},
   "source": [
    "### 3.1 - Número de sílabas:"
   ]
  },
  {
   "cell_type": "markdown",
   "id": "b4a338b9-37fd-447e-9cb4-4ceadb3e588e",
   "metadata": {},
   "source": [
    "Este código tem como objetivo contar o número de sílabas de cada palavra em letras de músicas e identificar palavras que possuem uma certa complexidade lírica. Para isso, utilizaremos uma biblioteca chamada `textstat`, que tem uma função chamada `syllable_count`, a qual calcula a quantidade de sílabas nas palavras"
   ]
  },
  {
   "cell_type": "markdown",
   "id": "adef76bd-56a2-42a8-ac5a-ed51f0d313a5",
   "metadata": {},
   "source": [
    "### Passo 1: Criar um Dicionário de Sílaba"
   ]
  },
  {
   "cell_type": "markdown",
   "id": "ff1d3624-30cf-4090-aa5e-8d0f09b8e022",
   "metadata": {},
   "source": [
    "Primeiro, criamos um dicionário que armazena o número de sílabas de cada palavra em cada música. Usaremos dictionary comprehension, em que o nome da música será a key e a quantidade de sílabas de cada palavra será o Value. "
   ]
  },
  {
   "cell_type": "code",
   "execution_count": 128,
   "id": "f5cfd200-3ce4-419b-8db8-713ee9e23948",
   "metadata": {},
   "outputs": [],
   "source": [
    "dic_silabas = {\n",
    "    track: {palavra: tst.syllable_count(palavra) for palavra in letras.split(\" \")} \n",
    "    for track, letras in zip(df['track_name'], df['letras_limpas']) \n",
    "}"
   ]
  },
  {
   "cell_type": "markdown",
   "id": "d1d78386-c69b-4227-a7f3-81849dfedf9e",
   "metadata": {},
   "source": [
    "### Passo 2: Contar Palavras Complexas"
   ]
  },
  {
   "cell_type": "markdown",
   "id": "6cab71b5-1479-46bf-bd27-88947350fe15",
   "metadata": {},
   "source": [
    "Aqui, percorremos as músicas e suas palavras para identificar palavras que possuem 5 ou mais sílabas. Também filtramos expressões repetitivas para uma análise mais precisa."
   ]
  },
  {
   "cell_type": "code",
   "execution_count": 129,
   "id": "5a4e5498-52f6-4c75-aa28-cffa3a6618d2",
   "metadata": {},
   "outputs": [],
   "source": [
    "# Dicionário para armazenar a contagem de palavras com 4 ou mais sílabas em cada música\n",
    "musicas_silabas_complexas = {}\n",
    "\n",
    "for nome_musica, palavras in dic_silabas.items():\n",
    "    for palavra, silabas in palavras.items():\n",
    "        # Verifica se a palavra tem 4 ou mais sílabas\n",
    "        if silabas >= 5:\n",
    "            # Filtra palavras que contêm uma letra quatro ou mais vezes (ex: \"Ahhhhhhh\"), comum em músicas\n",
    "            if not any(palavra.count(letra) >= 4 for letra in set(palavra)):\n",
    "                if nome_musica not in musicas_silabas_complexas:\n",
    "                    musicas_silabas_complexas[nome_musica] = 1\n",
    "                else:\n",
    "                    musicas_silabas_complexas[nome_musica] += 1"
   ]
  },
  {
   "cell_type": "markdown",
   "id": "5ecc1339-0537-4eb2-9c63-b9ef05ce111d",
   "metadata": {},
   "source": [
    "### Passo 3: Criar uma coluna no dataset"
   ]
  },
  {
   "cell_type": "markdown",
   "id": "9b35dde4-b963-44ed-943f-50f38e4c89ef",
   "metadata": {},
   "source": [
    "Aqui, criaremos uma coluna referente a quantidade de sílabas maiores que 4 que a letra possui"
   ]
  },
  {
   "cell_type": "code",
   "execution_count": null,
   "id": "3d705f7c-8824-443d-8056-7bf0f026ed90",
   "metadata": {},
   "outputs": [],
   "source": [
    "df['Silabas'] = df['track_name'].map(musicas_silabas_complexas).fillna(0)"
   ]
  },
  {
   "cell_type": "code",
   "execution_count": 131,
   "id": "7872304f-ea66-453d-92e1-edc329f04645",
   "metadata": {},
   "outputs": [
    {
     "data": {
      "text/html": [
       "<div>\n",
       "<style scoped>\n",
       "    .dataframe tbody tr th:only-of-type {\n",
       "        vertical-align: middle;\n",
       "    }\n",
       "\n",
       "    .dataframe tbody tr th {\n",
       "        vertical-align: top;\n",
       "    }\n",
       "\n",
       "    .dataframe thead th {\n",
       "        text-align: right;\n",
       "    }\n",
       "</style>\n",
       "<table border=\"1\" class=\"dataframe\">\n",
       "  <thead>\n",
       "    <tr style=\"text-align: right;\">\n",
       "      <th></th>\n",
       "      <th>artist</th>\n",
       "      <th>track_name</th>\n",
       "      <th>lyrics</th>\n",
       "      <th>genre</th>\n",
       "      <th>letras_limpas</th>\n",
       "      <th>Silabas</th>\n",
       "    </tr>\n",
       "  </thead>\n",
       "  <tbody>\n",
       "    <tr>\n",
       "      <th>0</th>\n",
       "      <td>abba</td>\n",
       "      <td>0 - Ahe's My Kind Of Girl</td>\n",
       "      <td>Look at her face, it's a wonderful face  \\nAnd...</td>\n",
       "      <td>pop</td>\n",
       "      <td>Look at her face, it's a wonderful face   And ...</td>\n",
       "      <td>0.0</td>\n",
       "    </tr>\n",
       "    <tr>\n",
       "      <th>1</th>\n",
       "      <td>abba</td>\n",
       "      <td>1 - Andante, Andante</td>\n",
       "      <td>Take it easy with me, please  \\nTouch me gentl...</td>\n",
       "      <td>pop</td>\n",
       "      <td>Take it easy with me, please   Touch me gently...</td>\n",
       "      <td>0.0</td>\n",
       "    </tr>\n",
       "    <tr>\n",
       "      <th>2</th>\n",
       "      <td>abba</td>\n",
       "      <td>2 - As Good As New</td>\n",
       "      <td>I'll never know why I had to go  \\nWhy I had t...</td>\n",
       "      <td>pop</td>\n",
       "      <td>I'll never know why I had to go   Why I had to...</td>\n",
       "      <td>0.0</td>\n",
       "    </tr>\n",
       "    <tr>\n",
       "      <th>3</th>\n",
       "      <td>abba</td>\n",
       "      <td>3 - Bang</td>\n",
       "      <td>Making somebody happy is a question of give an...</td>\n",
       "      <td>pop</td>\n",
       "      <td>Making somebody happy is a question of give an...</td>\n",
       "      <td>0.0</td>\n",
       "    </tr>\n",
       "    <tr>\n",
       "      <th>4</th>\n",
       "      <td>abba</td>\n",
       "      <td>4 - Bang-A-Boomerang</td>\n",
       "      <td>Making somebody happy is a question of give an...</td>\n",
       "      <td>pop</td>\n",
       "      <td>Making somebody happy is a question of give an...</td>\n",
       "      <td>0.0</td>\n",
       "    </tr>\n",
       "  </tbody>\n",
       "</table>\n",
       "</div>"
      ],
      "text/plain": [
       "  artist                 track_name  \\\n",
       "0   abba  0 - Ahe's My Kind Of Girl   \n",
       "1   abba       1 - Andante, Andante   \n",
       "2   abba         2 - As Good As New   \n",
       "3   abba                   3 - Bang   \n",
       "4   abba       4 - Bang-A-Boomerang   \n",
       "\n",
       "                                              lyrics genre  \\\n",
       "0  Look at her face, it's a wonderful face  \\nAnd...   pop   \n",
       "1  Take it easy with me, please  \\nTouch me gentl...   pop   \n",
       "2  I'll never know why I had to go  \\nWhy I had t...   pop   \n",
       "3  Making somebody happy is a question of give an...   pop   \n",
       "4  Making somebody happy is a question of give an...   pop   \n",
       "\n",
       "                                       letras_limpas  Silabas  \n",
       "0  Look at her face, it's a wonderful face   And ...      0.0  \n",
       "1  Take it easy with me, please   Touch me gently...      0.0  \n",
       "2  I'll never know why I had to go   Why I had to...      0.0  \n",
       "3  Making somebody happy is a question of give an...      0.0  \n",
       "4  Making somebody happy is a question of give an...      0.0  "
      ]
     },
     "execution_count": 131,
     "metadata": {},
     "output_type": "execute_result"
    }
   ],
   "source": [
    "df.head(5)"
   ]
  },
  {
   "cell_type": "markdown",
   "id": "97fe4811-74e6-4722-b75b-4fc6a9c8a792",
   "metadata": {},
   "source": [
    "### 3.2 - Frequência:"
   ]
  },
  {
   "cell_type": "markdown",
   "id": "990f1f73-7c41-4bc6-8717-eb799ce98218",
   "metadata": {},
   "source": [
    "Este código visa calcular a diversidade lexical das letras das músicas, utilizando a medida TTR (Type-Token Ratio), que é a razão entre o número de palavras únicas e o total de palavras em uma letra. "
   ]
  },
  {
   "cell_type": "markdown",
   "id": "33c3249e-4770-4992-9b92-974d1b1e9d4f",
   "metadata": {},
   "source": [
    "### Passo 1: Calcular o TTR (Type-Token Ratio)"
   ]
  },
  {
   "cell_type": "markdown",
   "id": "dba849dc-1abe-4e68-a167-b3810e4186cb",
   "metadata": {},
   "source": [
    "Aqui, calculamos o TTR para cada letra, dividindo o número de palavras únicas pelo total de palavras na letra. O resultado é armazenado em uma lista para análise posterior."
   ]
  },
  {
   "cell_type": "code",
   "execution_count": 132,
   "id": "3b8b506c-ed9a-4320-b683-568f8c206d78",
   "metadata": {},
   "outputs": [],
   "source": [
    "lista_ttr = [ len(set(df.letras_limpas[letra].lower().split())) / len(df.letras_limpas[letra].split())\n",
    "    if len(df.letras_limpas[letra].split()) > 0 else 0\n",
    "    for letra in range(len(df))\n",
    "]"
   ]
  },
  {
   "cell_type": "markdown",
   "id": "ef0a8cec-9957-49f2-9352-ab1eb04a055d",
   "metadata": {},
   "source": [
    "### Passo 2: Criar uma coluna no dataset"
   ]
  },
  {
   "cell_type": "code",
   "execution_count": null,
   "id": "8171e899-7066-4588-8246-8dad57fdd6b1",
   "metadata": {
    "scrolled": true
   },
   "outputs": [],
   "source": [
    "df[\"Frequencia\"] = lista_ttr"
   ]
  },
  {
   "cell_type": "code",
   "execution_count": 134,
   "id": "d04e0f14-069e-4f61-a712-f62428e1cfa1",
   "metadata": {},
   "outputs": [
    {
     "data": {
      "text/html": [
       "<div>\n",
       "<style scoped>\n",
       "    .dataframe tbody tr th:only-of-type {\n",
       "        vertical-align: middle;\n",
       "    }\n",
       "\n",
       "    .dataframe tbody tr th {\n",
       "        vertical-align: top;\n",
       "    }\n",
       "\n",
       "    .dataframe thead th {\n",
       "        text-align: right;\n",
       "    }\n",
       "</style>\n",
       "<table border=\"1\" class=\"dataframe\">\n",
       "  <thead>\n",
       "    <tr style=\"text-align: right;\">\n",
       "      <th></th>\n",
       "      <th>artist</th>\n",
       "      <th>track_name</th>\n",
       "      <th>lyrics</th>\n",
       "      <th>genre</th>\n",
       "      <th>letras_limpas</th>\n",
       "      <th>Silabas</th>\n",
       "      <th>Frequencia</th>\n",
       "    </tr>\n",
       "  </thead>\n",
       "  <tbody>\n",
       "    <tr>\n",
       "      <th>0</th>\n",
       "      <td>abba</td>\n",
       "      <td>0 - Ahe's My Kind Of Girl</td>\n",
       "      <td>Look at her face, it's a wonderful face  \\nAnd...</td>\n",
       "      <td>pop</td>\n",
       "      <td>Look at her face, it's a wonderful face   And ...</td>\n",
       "      <td>0.0</td>\n",
       "      <td>0.457516</td>\n",
       "    </tr>\n",
       "    <tr>\n",
       "      <th>1</th>\n",
       "      <td>abba</td>\n",
       "      <td>1 - Andante, Andante</td>\n",
       "      <td>Take it easy with me, please  \\nTouch me gentl...</td>\n",
       "      <td>pop</td>\n",
       "      <td>Take it easy with me, please   Touch me gently...</td>\n",
       "      <td>0.0</td>\n",
       "      <td>0.307692</td>\n",
       "    </tr>\n",
       "    <tr>\n",
       "      <th>2</th>\n",
       "      <td>abba</td>\n",
       "      <td>2 - As Good As New</td>\n",
       "      <td>I'll never know why I had to go  \\nWhy I had t...</td>\n",
       "      <td>pop</td>\n",
       "      <td>I'll never know why I had to go   Why I had to...</td>\n",
       "      <td>0.0</td>\n",
       "      <td>0.362179</td>\n",
       "    </tr>\n",
       "    <tr>\n",
       "      <th>3</th>\n",
       "      <td>abba</td>\n",
       "      <td>3 - Bang</td>\n",
       "      <td>Making somebody happy is a question of give an...</td>\n",
       "      <td>pop</td>\n",
       "      <td>Making somebody happy is a question of give an...</td>\n",
       "      <td>0.0</td>\n",
       "      <td>0.440000</td>\n",
       "    </tr>\n",
       "    <tr>\n",
       "      <th>4</th>\n",
       "      <td>abba</td>\n",
       "      <td>4 - Bang-A-Boomerang</td>\n",
       "      <td>Making somebody happy is a question of give an...</td>\n",
       "      <td>pop</td>\n",
       "      <td>Making somebody happy is a question of give an...</td>\n",
       "      <td>0.0</td>\n",
       "      <td>0.454545</td>\n",
       "    </tr>\n",
       "  </tbody>\n",
       "</table>\n",
       "</div>"
      ],
      "text/plain": [
       "  artist                 track_name  \\\n",
       "0   abba  0 - Ahe's My Kind Of Girl   \n",
       "1   abba       1 - Andante, Andante   \n",
       "2   abba         2 - As Good As New   \n",
       "3   abba                   3 - Bang   \n",
       "4   abba       4 - Bang-A-Boomerang   \n",
       "\n",
       "                                              lyrics genre  \\\n",
       "0  Look at her face, it's a wonderful face  \\nAnd...   pop   \n",
       "1  Take it easy with me, please  \\nTouch me gentl...   pop   \n",
       "2  I'll never know why I had to go  \\nWhy I had t...   pop   \n",
       "3  Making somebody happy is a question of give an...   pop   \n",
       "4  Making somebody happy is a question of give an...   pop   \n",
       "\n",
       "                                       letras_limpas  Silabas  Frequencia  \n",
       "0  Look at her face, it's a wonderful face   And ...      0.0    0.457516  \n",
       "1  Take it easy with me, please   Touch me gently...      0.0    0.307692  \n",
       "2  I'll never know why I had to go   Why I had to...      0.0    0.362179  \n",
       "3  Making somebody happy is a question of give an...      0.0    0.440000  \n",
       "4  Making somebody happy is a question of give an...      0.0    0.454545  "
      ]
     },
     "execution_count": 134,
     "metadata": {},
     "output_type": "execute_result"
    }
   ],
   "source": [
    "df.head(5)"
   ]
  },
  {
   "cell_type": "markdown",
   "id": "5928d184-7a25-4878-bd7f-f953828f906a",
   "metadata": {},
   "source": [
    "### 3.3 - Análise Gramatical:"
   ]
  },
  {
   "cell_type": "markdown",
   "id": "2b8ad1d9-9ecc-4eed-8afd-e0590c6fbb84",
   "metadata": {},
   "source": [
    "Este código tem como objetivo calcular uma pontuação com base nas tags gramaticais das palavras presentes nas letras das músicas. A pontuação é atribuída de acordo com a presença de substantivos, adjetivos, advérbios, verbos e outras categorias gramaticais. Para realizar a análise gramatical, utilizamos a biblioteca NLTK (Natural Language Toolkit), que fornece ferramentas para a tokenização e a análise de partes do discurso (POS tagging)."
   ]
  },
  {
   "cell_type": "markdown",
   "id": "a269b01f-d227-421c-a253-ed0dd4d25668",
   "metadata": {},
   "source": [
    "### Passo 1: Inicializar o Dicionário de Pontuação"
   ]
  },
  {
   "cell_type": "markdown",
   "id": "9c4649b4-2a88-41aa-98fc-7779df1ef268",
   "metadata": {},
   "source": [
    "Primeiramente, criamos um dicionário (`dic_tags`) onde cada música é uma chave e sua pontuação inicial é zero. Isso nos permitirá acumular a pontuação ao longo da análise."
   ]
  },
  {
   "cell_type": "code",
   "execution_count": 135,
   "id": "290da951-a1c9-4c96-afce-7fc9a7046480",
   "metadata": {},
   "outputs": [],
   "source": [
    "dic_tags = {track: 0 for track in df['track_name']} "
   ]
  },
  {
   "cell_type": "markdown",
   "id": "e48ae12d-17e5-4903-9ad2-548745fee512",
   "metadata": {},
   "source": [
    "### Passo 2: Iterar Sobre as Letras e Calcular a Pontuação"
   ]
  },
  {
   "cell_type": "markdown",
   "id": "d981a8fd-14b7-487d-90c6-1055e12f9140",
   "metadata": {},
   "source": [
    "Neste passo, utilizamos um loop para percorrer cada letra do DataFrame. Para cada letra, realizamos a tokenização e a análise de partes do discurso (POS tagging) para identificar a categoria gramatical de cada palavra. Em seguida, atribuímos uma pontuação com base nas tags gramaticais."
   ]
  },
  {
   "cell_type": "code",
   "execution_count": 136,
   "id": "7d8be2be-6ef1-4862-9ac7-b5012e0ae4a1",
   "metadata": {},
   "outputs": [],
   "source": [
    "for index, row in df.iterrows():\n",
    "    tokens = word_tokenize(row['letras_limpas'].lower())  # Tokeniza a letra em palavras\n",
    "    tags = nltk.pos_tag(tokens) \n",
    "    \n",
    "    pontuacao = 0  \n",
    "    for palavra, tag in tags:\n",
    "        # Atribui pontuação com base nas tags gramaticais\n",
    "        if tag in ['NNP', 'NNPS']:  # Substantivos próprios\n",
    "            pontuacao += 0.02\n",
    "        elif tag in ['JJ', 'JJR', 'JJS']:  # Adjetivos\n",
    "            pontuacao += 0.01\n",
    "        elif tag in ['RB', 'RBR', 'RBS']:  # Advérbios\n",
    "            pontuacao += 0.01\n",
    "        elif tag in ['VB', 'VBD', 'VBG', 'VBN', 'VBP', 'VBZ']:  # Verbos\n",
    "            pontuacao += 0.01\n",
    "        elif tag == 'WDT':  # Determinante interrogativo\n",
    "            pontuacao += 0.01 \n",
    "        elif tag == 'IN':  # Preposição ou conjunção subordinativa \n",
    "            pontuacao += 0.01\n",
    "            \n",
    "    dic_tags[row['track_name']] = pontuacao "
   ]
  },
  {
   "cell_type": "markdown",
   "id": "6e54931a-ab1a-4dee-8b4d-99e8aa3b4fa7",
   "metadata": {},
   "source": [
    "### Passo 3: Criar uma coluna no dataset"
   ]
  },
  {
   "cell_type": "code",
   "execution_count": null,
   "id": "b826c5d4-5daf-450e-894f-320ca6ef42f1",
   "metadata": {},
   "outputs": [],
   "source": [
    "df['Pontuacao Gramatical'] = df['track_name'].map(dic_tags)"
   ]
  },
  {
   "cell_type": "code",
   "execution_count": 138,
   "id": "9d9ff1cf-3c5b-454a-8244-925066574d3f",
   "metadata": {},
   "outputs": [
    {
     "data": {
      "text/html": [
       "<div>\n",
       "<style scoped>\n",
       "    .dataframe tbody tr th:only-of-type {\n",
       "        vertical-align: middle;\n",
       "    }\n",
       "\n",
       "    .dataframe tbody tr th {\n",
       "        vertical-align: top;\n",
       "    }\n",
       "\n",
       "    .dataframe thead th {\n",
       "        text-align: right;\n",
       "    }\n",
       "</style>\n",
       "<table border=\"1\" class=\"dataframe\">\n",
       "  <thead>\n",
       "    <tr style=\"text-align: right;\">\n",
       "      <th></th>\n",
       "      <th>artist</th>\n",
       "      <th>track_name</th>\n",
       "      <th>lyrics</th>\n",
       "      <th>genre</th>\n",
       "      <th>letras_limpas</th>\n",
       "      <th>Silabas</th>\n",
       "      <th>Frequencia</th>\n",
       "      <th>Pontuacao Gramatical</th>\n",
       "    </tr>\n",
       "  </thead>\n",
       "  <tbody>\n",
       "    <tr>\n",
       "      <th>0</th>\n",
       "      <td>abba</td>\n",
       "      <td>0 - Ahe's My Kind Of Girl</td>\n",
       "      <td>Look at her face, it's a wonderful face  \\nAnd...</td>\n",
       "      <td>pop</td>\n",
       "      <td>Look at her face, it's a wonderful face   And ...</td>\n",
       "      <td>0.0</td>\n",
       "      <td>0.457516</td>\n",
       "      <td>0.71</td>\n",
       "    </tr>\n",
       "    <tr>\n",
       "      <th>1</th>\n",
       "      <td>abba</td>\n",
       "      <td>1 - Andante, Andante</td>\n",
       "      <td>Take it easy with me, please  \\nTouch me gentl...</td>\n",
       "      <td>pop</td>\n",
       "      <td>Take it easy with me, please   Touch me gently...</td>\n",
       "      <td>0.0</td>\n",
       "      <td>0.307692</td>\n",
       "      <td>1.32</td>\n",
       "    </tr>\n",
       "    <tr>\n",
       "      <th>2</th>\n",
       "      <td>abba</td>\n",
       "      <td>2 - As Good As New</td>\n",
       "      <td>I'll never know why I had to go  \\nWhy I had t...</td>\n",
       "      <td>pop</td>\n",
       "      <td>I'll never know why I had to go   Why I had to...</td>\n",
       "      <td>0.0</td>\n",
       "      <td>0.362179</td>\n",
       "      <td>1.74</td>\n",
       "    </tr>\n",
       "    <tr>\n",
       "      <th>3</th>\n",
       "      <td>abba</td>\n",
       "      <td>3 - Bang</td>\n",
       "      <td>Making somebody happy is a question of give an...</td>\n",
       "      <td>pop</td>\n",
       "      <td>Making somebody happy is a question of give an...</td>\n",
       "      <td>0.0</td>\n",
       "      <td>0.440000</td>\n",
       "      <td>1.03</td>\n",
       "    </tr>\n",
       "    <tr>\n",
       "      <th>4</th>\n",
       "      <td>abba</td>\n",
       "      <td>4 - Bang-A-Boomerang</td>\n",
       "      <td>Making somebody happy is a question of give an...</td>\n",
       "      <td>pop</td>\n",
       "      <td>Making somebody happy is a question of give an...</td>\n",
       "      <td>0.0</td>\n",
       "      <td>0.454545</td>\n",
       "      <td>1.06</td>\n",
       "    </tr>\n",
       "  </tbody>\n",
       "</table>\n",
       "</div>"
      ],
      "text/plain": [
       "  artist                 track_name  \\\n",
       "0   abba  0 - Ahe's My Kind Of Girl   \n",
       "1   abba       1 - Andante, Andante   \n",
       "2   abba         2 - As Good As New   \n",
       "3   abba                   3 - Bang   \n",
       "4   abba       4 - Bang-A-Boomerang   \n",
       "\n",
       "                                              lyrics genre  \\\n",
       "0  Look at her face, it's a wonderful face  \\nAnd...   pop   \n",
       "1  Take it easy with me, please  \\nTouch me gentl...   pop   \n",
       "2  I'll never know why I had to go  \\nWhy I had t...   pop   \n",
       "3  Making somebody happy is a question of give an...   pop   \n",
       "4  Making somebody happy is a question of give an...   pop   \n",
       "\n",
       "                                       letras_limpas  Silabas  Frequencia  \\\n",
       "0  Look at her face, it's a wonderful face   And ...      0.0    0.457516   \n",
       "1  Take it easy with me, please   Touch me gently...      0.0    0.307692   \n",
       "2  I'll never know why I had to go   Why I had to...      0.0    0.362179   \n",
       "3  Making somebody happy is a question of give an...      0.0    0.440000   \n",
       "4  Making somebody happy is a question of give an...      0.0    0.454545   \n",
       "\n",
       "   Pontuacao Gramatical  \n",
       "0                  0.71  \n",
       "1                  1.32  \n",
       "2                  1.74  \n",
       "3                  1.03  \n",
       "4                  1.06  "
      ]
     },
     "execution_count": 138,
     "metadata": {},
     "output_type": "execute_result"
    }
   ],
   "source": [
    "df.head(5)"
   ]
  },
  {
   "cell_type": "markdown",
   "id": "8e2c82ee-691f-43bb-a40c-c021ab1b13ce",
   "metadata": {},
   "source": [
    "### 3.4 - Diversidade Lexical:"
   ]
  },
  {
   "cell_type": "markdown",
   "id": "bfc64bc5-853c-4f86-acea-21093a007358",
   "metadata": {},
   "source": [
    "Este trecho de código tem como objetivo calcular a complexidade das letras das músicas usando o modelo Word2Vec. A complexidade é determinada pela variância dos vetores das palavras, permitindo uma análise da riqueza e diversidade vocabular presente nas letras. A variância é utilizada porque indica o grau de dispersão dos vetores em relação à média, refletindo a diversidade vocabular: uma maior variância sugere um vocabulário mais rico e variado, enquanto uma menor variância indica similaridade entre as palavras, resultando em uma letra potencialmente menos complexa."
   ]
  },
  {
   "cell_type": "markdown",
   "id": "a56522d3-2d39-498e-a9f9-b6918313e4b8",
   "metadata": {},
   "source": [
    "### Passo 1: Remoção de Palavras Comuns (Stop Words)"
   ]
  },
  {
   "cell_type": "markdown",
   "id": "a957719a-7ab5-427f-8405-e29a1fc82136",
   "metadata": {},
   "source": [
    "Primeiro, criamos um conjunto de palavras comuns (stop words) que serão removidas das letras, uma vez que essas palavras geralmente não contribuem para a variabilidade temática."
   ]
  },
  {
   "cell_type": "code",
   "execution_count": 139,
   "id": "15629acb-2a20-44a5-999f-73e3e7eac33b",
   "metadata": {},
   "outputs": [],
   "source": [
    "stop_words = set(stopwords.words('english')) "
   ]
  },
  {
   "cell_type": "markdown",
   "id": "5c09b61d-c6f4-4c69-bf9f-58dc3619458e",
   "metadata": {},
   "source": [
    "### Passo 2: Treinamento do Modelo Word2Vec"
   ]
  },
  {
   "cell_type": "markdown",
   "id": "463c5fe6-a8a8-4496-9a19-9af9852a872b",
   "metadata": {},
   "source": [
    "Em seguida, utilizamos o Word2Vec para criar um modelo que representa as palavras em um espaço vetorial. Isso nos permitirá calcular a complexidade das letras com base nos vetores gerados. Como, postariormente, iremos treinar um modelo para classificar se a música é complexa ou não, e esse dataset de músicas complexas não contêm muitas músicas, precisamos dividir o modelo em fatias para que a análise seja feita em proporções iguais."
   ]
  },
  {
   "cell_type": "code",
   "execution_count": 140,
   "id": "2c85392e-a76f-4179-a91c-21ac326b2187",
   "metadata": {},
   "outputs": [],
   "source": [
    "num_fatias = 1 # esse valor é alterado baseado na quantidade de fatias que você quer partir seu dataset\n",
    "\n",
    "tamanho_fatia = len(df) // num_fatias  # Número de linhas por fatia\n",
    "\n",
    "# Treinar um modelo Word2Vec para cada fatia\n",
    "modelos = [] \n",
    "\n",
    "for i in range(num_fatias):\n",
    "    fatia = df.iloc[i * tamanho_fatia:(i + 1) * tamanho_fatia]\n",
    "    \n",
    "    # Treinar o modelo Word2Vec na fatia\n",
    "    model = Word2Vec(fatia['letras_limpas'].apply(lambda x: x.split()), vector_size=100, window=5, min_count=1, workers=4)\n",
    "    \n",
    "    modelos.append(model)"
   ]
  },
  {
   "cell_type": "markdown",
   "id": "aa12eb42-a0fd-41ab-bcf1-5922a4da8544",
   "metadata": {},
   "source": [
    "### Passo 3: Definição das Funções"
   ]
  },
  {
   "cell_type": "markdown",
   "id": "d2913002-539d-42c9-a22f-384c9068044c",
   "metadata": {},
   "source": [
    "#### Passo 4.1 - Cálculo da Variância dos Vetores"
   ]
  },
  {
   "cell_type": "markdown",
   "id": "191df0a9-c68a-4cbf-9a15-e1a0eeb32fa6",
   "metadata": {},
   "source": [
    "A função `calcular_variancia_vetores` tem como objetivo calcular a soma das variâncias dos vetores correspondentes a uma lista de palavras, utilizando Word2Vec.\n",
    "\n",
    "- Passos:\n",
    "  1. Para cada palavra na lista, o código verifica se ela está presente no vocabulário do modelo.\n",
    "  2. Se a palavra estiver no modelo, o vetor correspondente à palavra é adicionado a uma lista.\n",
    "  3. Após coletar os vetores, o código os normaliza utilizando `MinMaxScaler`.\n",
    "  4. Em seguida, calcula a variância ao longo do eixo 0 (variância de cada dimensão dos vetores).\n",
    "  5. Retorna a soma dessas variâncias."
   ]
  },
  {
   "cell_type": "code",
   "execution_count": 141,
   "id": "9dd86661-5904-4fde-b8ab-505f8273e4a2",
   "metadata": {},
   "outputs": [],
   "source": [
    "def calcular_variancia_vetores(palavras, modelo):\n",
    "    vetores = []\n",
    "    for palavra in palavras:\n",
    "        if palavra in modelo.wv:  # Verifica se a palavra está no vocabulário do modelo\n",
    "            vetores.append(modelo.wv[palavra])  \n",
    "    \n",
    "    if len(vetores) > 0:  # Evitar calcular variância em lista vazia\n",
    "        vetores_np = np.array(vetores)  # Converte a lista de vetores em um array NumPy\n",
    "\n",
    "        scaler = MinMaxScaler()\n",
    "        vetores_normalizados = scaler.fit_transform(vetores_np)\n",
    "        \n",
    "        variancia = np.var(vetores_normalizados, axis=0)  # Calcula a variância ao longo do eixo 0\n",
    "        \n",
    "        return np.sum(variancia)  \n",
    "        \n",
    "    else:\n",
    "        return 0 \n"
   ]
  },
  {
   "cell_type": "markdown",
   "id": "8ca662f9-155e-47a7-b2c8-5cf213da342e",
   "metadata": {},
   "source": [
    "#### Passo 4.2 - Cálculo da Complexidade da Letra"
   ]
  },
  {
   "cell_type": "markdown",
   "id": "66a7fb03-7451-4cfc-8ba5-28111d6e764b",
   "metadata": {},
   "source": [
    "A função `calcular_complexidade` processa a letra da música e calcula a sua complexidade utilizando a função `complexidade_vetores`."
   ]
  },
  {
   "cell_type": "code",
   "execution_count": 142,
   "id": "53b73541-f62e-4208-827c-457205b9989e",
   "metadata": {},
   "outputs": [],
   "source": [
    "def avaliar_complexidade_letra(letra, modelo):\n",
    "    # Remove stopwords e processa a letra\n",
    "    letra_processada = [palavra.lower() for palavra in letra.split() if palavra not in stop_words]\n",
    "    return calcular_variancia_vetores(letra_processada, modelo)"
   ]
  },
  {
   "cell_type": "markdown",
   "id": "a123b93c-ac28-4ce2-bde7-26726ffdecb8",
   "metadata": {},
   "source": [
    "### Passo 5 - Cálculo da Complexidade para Cada Música"
   ]
  },
  {
   "cell_type": "markdown",
   "id": "d5c3180a-a6dd-4206-b99b-16c05fedd60e",
   "metadata": {},
   "source": [
    "Aqui, inicializamos um dicionário `dic_complexidade` para armazenar a complexidade de cada música e iteramos sobre as letras para calcular essa complexidade."
   ]
  },
  {
   "cell_type": "code",
   "execution_count": 143,
   "id": "2d56d762-57d6-412b-88a6-89310093a873",
   "metadata": {},
   "outputs": [],
   "source": [
    "dic_complexidade = {df.track_name[n]: {} for n in range(len(df))} \n",
    "\n",
    "for i in range(num_fatias):\n",
    "    fatia = df.iloc[i * tamanho_fatia:(i + 1) * tamanho_fatia]\n",
    "    modelo_index = i # Para fazer a letra ser carregada no seu modelo correspondente\n",
    "    for index, row in fatia.iterrows():\n",
    "        letra = row['letras_limpas']\n",
    "        complexidade = avaliar_complexidade_letra(letra, modelos[modelo_index])  \n",
    "        dic_complexidade[df.track_name[index]] = complexidade  \n",
    "\n",
    "lista_div = [dic_complexidade[df.track_name[n]] for n in range(len(df))]"
   ]
  },
  {
   "cell_type": "markdown",
   "id": "d9ea7eef-fac9-4116-b758-3feaca12a3e4",
   "metadata": {},
   "source": [
    "### Passo 6 - Criar uma coluna no dataset:"
   ]
  },
  {
   "cell_type": "code",
   "execution_count": null,
   "id": "15396b39-db10-41b3-9993-9d1bc6880f91",
   "metadata": {},
   "outputs": [],
   "source": [
    "df['diversidade lexical'] = lista_div"
   ]
  },
  {
   "cell_type": "code",
   "execution_count": 145,
   "id": "38fd0bf0-801a-40d7-b121-67c4247171ca",
   "metadata": {},
   "outputs": [
    {
     "data": {
      "text/html": [
       "<div>\n",
       "<style scoped>\n",
       "    .dataframe tbody tr th:only-of-type {\n",
       "        vertical-align: middle;\n",
       "    }\n",
       "\n",
       "    .dataframe tbody tr th {\n",
       "        vertical-align: top;\n",
       "    }\n",
       "\n",
       "    .dataframe thead th {\n",
       "        text-align: right;\n",
       "    }\n",
       "</style>\n",
       "<table border=\"1\" class=\"dataframe\">\n",
       "  <thead>\n",
       "    <tr style=\"text-align: right;\">\n",
       "      <th></th>\n",
       "      <th>artist</th>\n",
       "      <th>track_name</th>\n",
       "      <th>lyrics</th>\n",
       "      <th>genre</th>\n",
       "      <th>letras_limpas</th>\n",
       "      <th>Silabas</th>\n",
       "      <th>Frequencia</th>\n",
       "      <th>Pontuacao Gramatical</th>\n",
       "      <th>diversidade lexical</th>\n",
       "    </tr>\n",
       "  </thead>\n",
       "  <tbody>\n",
       "    <tr>\n",
       "      <th>0</th>\n",
       "      <td>abba</td>\n",
       "      <td>0 - Ahe's My Kind Of Girl</td>\n",
       "      <td>Look at her face, it's a wonderful face  \\nAnd...</td>\n",
       "      <td>pop</td>\n",
       "      <td>Look at her face, it's a wonderful face   And ...</td>\n",
       "      <td>0.0</td>\n",
       "      <td>0.457516</td>\n",
       "      <td>0.71</td>\n",
       "      <td>5.837445</td>\n",
       "    </tr>\n",
       "    <tr>\n",
       "      <th>1</th>\n",
       "      <td>abba</td>\n",
       "      <td>1 - Andante, Andante</td>\n",
       "      <td>Take it easy with me, please  \\nTouch me gentl...</td>\n",
       "      <td>pop</td>\n",
       "      <td>Take it easy with me, please   Touch me gently...</td>\n",
       "      <td>0.0</td>\n",
       "      <td>0.307692</td>\n",
       "      <td>1.32</td>\n",
       "      <td>5.212912</td>\n",
       "    </tr>\n",
       "    <tr>\n",
       "      <th>2</th>\n",
       "      <td>abba</td>\n",
       "      <td>2 - As Good As New</td>\n",
       "      <td>I'll never know why I had to go  \\nWhy I had t...</td>\n",
       "      <td>pop</td>\n",
       "      <td>I'll never know why I had to go   Why I had to...</td>\n",
       "      <td>0.0</td>\n",
       "      <td>0.362179</td>\n",
       "      <td>1.74</td>\n",
       "      <td>5.530054</td>\n",
       "    </tr>\n",
       "    <tr>\n",
       "      <th>3</th>\n",
       "      <td>abba</td>\n",
       "      <td>3 - Bang</td>\n",
       "      <td>Making somebody happy is a question of give an...</td>\n",
       "      <td>pop</td>\n",
       "      <td>Making somebody happy is a question of give an...</td>\n",
       "      <td>0.0</td>\n",
       "      <td>0.440000</td>\n",
       "      <td>1.03</td>\n",
       "      <td>4.058497</td>\n",
       "    </tr>\n",
       "    <tr>\n",
       "      <th>4</th>\n",
       "      <td>abba</td>\n",
       "      <td>4 - Bang-A-Boomerang</td>\n",
       "      <td>Making somebody happy is a question of give an...</td>\n",
       "      <td>pop</td>\n",
       "      <td>Making somebody happy is a question of give an...</td>\n",
       "      <td>0.0</td>\n",
       "      <td>0.454545</td>\n",
       "      <td>1.06</td>\n",
       "      <td>3.989458</td>\n",
       "    </tr>\n",
       "  </tbody>\n",
       "</table>\n",
       "</div>"
      ],
      "text/plain": [
       "  artist                 track_name  \\\n",
       "0   abba  0 - Ahe's My Kind Of Girl   \n",
       "1   abba       1 - Andante, Andante   \n",
       "2   abba         2 - As Good As New   \n",
       "3   abba                   3 - Bang   \n",
       "4   abba       4 - Bang-A-Boomerang   \n",
       "\n",
       "                                              lyrics genre  \\\n",
       "0  Look at her face, it's a wonderful face  \\nAnd...   pop   \n",
       "1  Take it easy with me, please  \\nTouch me gentl...   pop   \n",
       "2  I'll never know why I had to go  \\nWhy I had t...   pop   \n",
       "3  Making somebody happy is a question of give an...   pop   \n",
       "4  Making somebody happy is a question of give an...   pop   \n",
       "\n",
       "                                       letras_limpas  Silabas  Frequencia  \\\n",
       "0  Look at her face, it's a wonderful face   And ...      0.0    0.457516   \n",
       "1  Take it easy with me, please   Touch me gently...      0.0    0.307692   \n",
       "2  I'll never know why I had to go   Why I had to...      0.0    0.362179   \n",
       "3  Making somebody happy is a question of give an...      0.0    0.440000   \n",
       "4  Making somebody happy is a question of give an...      0.0    0.454545   \n",
       "\n",
       "   Pontuacao Gramatical  diversidade lexical  \n",
       "0                  0.71             5.837445  \n",
       "1                  1.32             5.212912  \n",
       "2                  1.74             5.530054  \n",
       "3                  1.03             4.058497  \n",
       "4                  1.06             3.989458  "
      ]
     },
     "execution_count": 145,
     "metadata": {},
     "output_type": "execute_result"
    }
   ],
   "source": [
    "df.head(5)"
   ]
  },
  {
   "cell_type": "markdown",
   "id": "57b16767-2e38-464d-8d28-ee8c7727ee5f",
   "metadata": {},
   "source": [
    "### 3.5 - Diversidade temática"
   ]
  },
  {
   "cell_type": "markdown",
   "id": "e06d103e-75e3-44b4-9163-0130f7587236",
   "metadata": {},
   "source": [
    "Este código tem como objetivo analisar a presença de temas nas letras das músicas, utilizando um modelo Word2Vec para calcular a similaridade entre os vetores das palavras da letra e os vetores de temas predefinidos. A seguir, descrevemos as principais etapas do processo:"
   ]
  },
  {
   "cell_type": "markdown",
   "id": "f87dc0ef-805e-459e-8b23-f621f920bc52",
   "metadata": {},
   "source": [
    "### Passo 1: Definição de Temas e Palavras-chave"
   ]
  },
  {
   "cell_type": "code",
   "execution_count": 146,
   "id": "abde8289-b7b1-41a3-9839-7f5be1f336d5",
   "metadata": {},
   "outputs": [],
   "source": [
    "themes = {\n",
    "    'love': ['love', 'affection', 'heart', 'passion', 'desire', 'romance'],\n",
    "    'sadness': ['sadness', 'pain', 'longing', 'loneliness', 'lament', 'loss'],\n",
    "    'freedom': ['freedom', 'live', 'free', 'independence', 'choice', 'escape'],\n",
    "    'friendship': ['friendship', 'companion', 'loyalty', 'trust', 'camaraderie'],\n",
    "    'hope': ['hope', 'faith', 'dream', 'future', 'light', 'renewal'],\n",
    "    'nature': ['nature', 'earth', 'sky', 'sea', 'forest', 'wildlife'],\n",
    "    'struggle': ['struggle', 'battle', 'strength', 'resistance', 'challenge', 'conquest'],\n",
    "    'joy': ['joy', 'happiness', 'laughter', 'smile', 'celebration', 'fun'],\n",
    "    'solitude': ['solitude', 'isolation', 'distance', 'disconnection', 'emptiness'],\n",
    "    'nostalgia': ['nostalgia', 'memories', 'past', 'remembrance', 'reminiscence'],\n",
    "    'change': ['change', 'transformation', 'growth', 'evolution', 'new beginnings'],\n",
    "    'self-love': ['self-love', 'self-esteem', 'self-awareness', 'acceptance', 'confidence'],\n",
    "    'conflict': ['conflict', 'dispute', 'disagreement', 'tension', 'polarization'],\n",
    "    'solidarity': ['solidarity', 'help', 'support', 'community', 'union'],\n",
    "    'socio-political': ['socio-political', 'justice', 'rights', 'freedom of speech', 'equality'],\n",
    "    'party': ['party', 'celebration', 'fun', 'dance', 'joy'],\n",
    "    'mental health': ['mental health', 'anxiety', 'depression', 'healing', 'balance'],\n",
    "}"
   ]
  },
  {
   "cell_type": "markdown",
   "id": "a92fa738-c508-470d-a4bb-2ad09e3f0dfa",
   "metadata": {},
   "source": [
    "### Passo 2: Cálculo da Média dos Vetores de Palavras"
   ]
  },
  {
   "cell_type": "markdown",
   "id": "72e6803c-4080-442c-bab5-be2705e6e353",
   "metadata": {},
   "source": [
    "A função media_vetores recebe uma lista de palavras e o modelo Word2Vec, retornando a média dos vetores dessas palavras. Isso permite representar um conjunto de palavras como um único vetor, que captura a essência do significado coletivo."
   ]
  },
  {
   "cell_type": "code",
   "execution_count": 147,
   "id": "67b9e634-ef8b-471c-917f-3c27f851db1c",
   "metadata": {},
   "outputs": [],
   "source": [
    "def media_vetores(palavras, modelo):\n",
    "    vetores = []\n",
    "    for palavra in palavras:\n",
    "        if palavra in modelo.wv:\n",
    "            vetores.append(modelo.wv[palavra])\n",
    "    \n",
    "    if len(vetores) == 0:\n",
    "        return np.zeros(modelo.vector_size)  # Retorna um vetor de zeros se não houver palavras válidas\n",
    "    \n",
    "    return np.mean(vetores, axis=0)"
   ]
  },
  {
   "cell_type": "markdown",
   "id": "34376b12-b684-4f8e-ba51-5fdec66aa6ca",
   "metadata": {},
   "source": [
    "### Passo 3: Normalizar"
   ]
  },
  {
   "cell_type": "markdown",
   "id": "b2ff5805-6deb-488c-a977-7154599c931b",
   "metadata": {},
   "source": [
    "Para evitar grandes diferenças entre datasets de tamanhos diferentes, já que a normalização remove o impacto da magnitude (tamanho) dos vetores e permite que a similaridade seja determinada com base na direção dos vetores, não apenas no seu comprimento"
   ]
  },
  {
   "cell_type": "code",
   "execution_count": 148,
   "id": "90ef2aa3-7653-4948-8dfe-d6c7e2112e32",
   "metadata": {},
   "outputs": [],
   "source": [
    "def normalizar_similaridade(similaridade, vetor_letra):\n",
    "    # Normaliza pela magnitude do vetor letra\n",
    "    magnitude_letra = np.linalg.norm(vetor_letra)\n",
    "    \n",
    "    if magnitude_letra != 0:\n",
    "        return similaridade / magnitude_letra\n",
    "        \n",
    "    return similaridade"
   ]
  },
  {
   "cell_type": "markdown",
   "id": "ceb725f8-20d8-4703-8e89-5439eb63d0f8",
   "metadata": {},
   "source": [
    "### Passo 4: Cálculo da Similaridade Temática"
   ]
  },
  {
   "cell_type": "markdown",
   "id": "25ed6a48-5576-4355-9b49-34aedfe55fe0",
   "metadata": {},
   "source": [
    "A função resultado é responsável por comparar a letra da música (representada por seu vetor) com os vetores de cada tema. Para cada tema, a função:\n",
    "\n",
    "a) Calcula o vetor médio das palavras-chave do tema.\n",
    "\n",
    "Motivação: O vetor médio representa a essência do tema, capturando a semântica das palavras associadas a ele. Isso permite que a análise considere o contexto das palavras, facilitando a comparação com a letra.\n",
    "\n",
    "b) Compara a similaridade (usando a similaridade cosseno) entre o vetor da letra e o vetor do tema.\n",
    "\n",
    "Motivação: A similaridade cosseno mede a proximidade entre dois vetores, indicando quão semelhantes são os significados representados. Essa comparação ajuda a identificar a relação temática entre a letra da música e os temas predefinidos."
   ]
  },
  {
   "cell_type": "code",
   "execution_count": 149,
   "id": "f8044661-dc59-4633-ad91-1bfaf48002e5",
   "metadata": {},
   "outputs": [],
   "source": [
    "def resultado(themes, model, vetor_letra):\n",
    "    resultado = {}\n",
    "    for tema, palavras_chave in themes.items():\n",
    "        \n",
    "        #Calcula o vetor médio para o tema baseado nas palavras-chave associadas\n",
    "        vetor_tema = media_vetores(palavras_chave, model)\n",
    "\n",
    "        #Verifica se tanto o vetor do tema quanto o vetor da letra existem e se contêm valores válidos\n",
    "        if vetor_tema is not None and vetor_letra is not None and np.any(vetor_tema) and np.any(vetor_letra): #np.any assegura que os vetores não sejam vetores nulos ou cheios de zeros\n",
    "            similaridade = model.wv.cosine_similarities(vetor_letra, np.array([vetor_tema]))\n",
    "            \n",
    "            # Aplica a normalização da similaridade\n",
    "            similaridade_normalizada = normalizar_similaridade(similaridade[0], vetor_letra)\n",
    "            resultado[tema] = similaridade_normalizada\n",
    "            \n",
    "        else:\n",
    "            resultado[tema] = 0\n",
    "    \n",
    "    return resultado"
   ]
  },
  {
   "cell_type": "markdown",
   "id": "cb9930a3-c782-4d1c-b813-c9f6e590f0e2",
   "metadata": {},
   "source": [
    "### Passo 5: Iteração Sobre as Letras das Músicas"
   ]
  },
  {
   "cell_type": "markdown",
   "id": "90e4b536-65a5-4b66-8de1-81258bc8dedc",
   "metadata": {},
   "source": [
    "O código itera sobre cada linha do DataFrame df, processando as letras das músicas:\n",
    "\n",
    "a) Converte as letras para minúsculas e remove palavras de parada (stop words).\n",
    "\n",
    "b) Calcula o vetor da letra usando a função media_vetores.\n",
    "\n",
    "c) Chama a função resultado para obter a similaridade entre a letra e os temas, armazenando os resultados em um dicionário chamado dic_div_tematica."
   ]
  },
  {
   "cell_type": "code",
   "execution_count": 150,
   "id": "c3c2378e-574f-4f8e-b95a-6d1d0159f136",
   "metadata": {},
   "outputs": [],
   "source": [
    "# Cria um dicionário vazio para armazenar a diversidade temática de cada música, usando o nome da música como chave.\n",
    "dic_div_tematica = {df.track_name[n]: {} for n in range(len(df))}\n",
    "\n",
    "for i in range(num_fatias):\n",
    "    fatia = df.iloc[i * tamanho_fatia:(i + 1) * tamanho_fatia]\n",
    "    modelo_index = i  # Assumindo que você tem um modelo para cada fatia\n",
    "    \n",
    "    for index, row in fatia.iterrows():\n",
    "        letra = row['letras_limpas'] \n",
    "        \n",
    "        # Processa a letra, convertendo todas as palavras para minúsculas e removendo palavras de parada.\n",
    "        letra_processada = [palavra.lower() for palavra in letra.split() if palavra.lower() not in stop_words]\n",
    "        \n",
    "        vetor_letra = media_vetores(letra_processada, modelos[modelo_index])\n",
    "        \n",
    "        # Obtem o resultado da similaridade temática entre a letra e os temas definidos.\n",
    "        res = resultado(themes, modelos[modelo_index], vetor_letra)\n",
    "        \n",
    "        # Usar o nome correto da música\n",
    "        dic_div_tematica[row['track_name']] = res \n",
    "        "
   ]
  },
  {
   "cell_type": "markdown",
   "id": "d2cde3c9-d9ee-4b10-915a-5f9ebb9bb30b",
   "metadata": {},
   "source": [
    "### Passo 6: Analisar o desvio padrão dos temas"
   ]
  },
  {
   "cell_type": "markdown",
   "id": "a225f1b4-654f-4fc2-bc31-c0121937f47b",
   "metadata": {},
   "source": [
    "Como são muitos temas, para classificar a diversidade temática tiramos o desvio padrão de todos os temas. Abaixo, será apresentado um exemplo de como o dicionáro de temas se parece"
   ]
  },
  {
   "cell_type": "code",
   "execution_count": 151,
   "id": "3296ca5e-216e-4dfd-a342-07bc81ea895b",
   "metadata": {},
   "outputs": [
    {
     "data": {
      "text/plain": [
       "{'love': 1.639338,\n",
       " 'sadness': 1.5867125,\n",
       " 'freedom': 1.6236641,\n",
       " 'friendship': 0,\n",
       " 'hope': 1.6320794,\n",
       " 'nature': 1.6212171,\n",
       " 'struggle': 0,\n",
       " 'joy': 1.6222432,\n",
       " 'solitude': 1.5179943,\n",
       " 'nostalgia': 1.6272873,\n",
       " 'change': 0,\n",
       " 'self-love': 0,\n",
       " 'conflict': 0,\n",
       " 'solidarity': 1.6359292,\n",
       " 'socio-political': 0,\n",
       " 'party': 1.6247572,\n",
       " 'mental health': 1.4255443}"
      ]
     },
     "execution_count": 151,
     "metadata": {},
     "output_type": "execute_result"
    }
   ],
   "source": [
    "dic_div_tematica[\"0 - Ahe's My Kind Of Girl\"]"
   ]
  },
  {
   "cell_type": "markdown",
   "id": "1f3b1448-98ae-41e6-b8ff-3c78f2ff1f27",
   "metadata": {},
   "source": [
    "Para fazer o desvio padrão, usamos a função `np.std` do numpy em um list comprehension e criamos uma coluna no dataset"
   ]
  },
  {
   "cell_type": "code",
   "execution_count": null,
   "id": "7e6fefa8-14c7-4f74-b6fc-8289b7208c27",
   "metadata": {},
   "outputs": [],
   "source": [
    "lista_desvios = [np.std(list(value.values())) for value in dic_div_tematica.values()]\n",
    "df[\"diversidade tematica\"] = lista_desvios"
   ]
  },
  {
   "cell_type": "code",
   "execution_count": 153,
   "id": "e1e634c1-f5cc-4566-ae86-77ddc893a527",
   "metadata": {},
   "outputs": [
    {
     "data": {
      "text/html": [
       "<div>\n",
       "<style scoped>\n",
       "    .dataframe tbody tr th:only-of-type {\n",
       "        vertical-align: middle;\n",
       "    }\n",
       "\n",
       "    .dataframe tbody tr th {\n",
       "        vertical-align: top;\n",
       "    }\n",
       "\n",
       "    .dataframe thead th {\n",
       "        text-align: right;\n",
       "    }\n",
       "</style>\n",
       "<table border=\"1\" class=\"dataframe\">\n",
       "  <thead>\n",
       "    <tr style=\"text-align: right;\">\n",
       "      <th></th>\n",
       "      <th>artist</th>\n",
       "      <th>track_name</th>\n",
       "      <th>lyrics</th>\n",
       "      <th>genre</th>\n",
       "      <th>letras_limpas</th>\n",
       "      <th>Silabas</th>\n",
       "      <th>Frequencia</th>\n",
       "      <th>Pontuacao Gramatical</th>\n",
       "      <th>diversidade lexical</th>\n",
       "      <th>diversidade tematica</th>\n",
       "    </tr>\n",
       "  </thead>\n",
       "  <tbody>\n",
       "    <tr>\n",
       "      <th>0</th>\n",
       "      <td>abba</td>\n",
       "      <td>0 - Ahe's My Kind Of Girl</td>\n",
       "      <td>Look at her face, it's a wonderful face  \\nAnd...</td>\n",
       "      <td>pop</td>\n",
       "      <td>Look at her face, it's a wonderful face   And ...</td>\n",
       "      <td>0.0</td>\n",
       "      <td>0.457516</td>\n",
       "      <td>0.71</td>\n",
       "      <td>5.837445</td>\n",
       "      <td>0.764428</td>\n",
       "    </tr>\n",
       "    <tr>\n",
       "      <th>1</th>\n",
       "      <td>abba</td>\n",
       "      <td>1 - Andante, Andante</td>\n",
       "      <td>Take it easy with me, please  \\nTouch me gentl...</td>\n",
       "      <td>pop</td>\n",
       "      <td>Take it easy with me, please   Touch me gently...</td>\n",
       "      <td>0.0</td>\n",
       "      <td>0.307692</td>\n",
       "      <td>1.32</td>\n",
       "      <td>5.212912</td>\n",
       "      <td>0.634446</td>\n",
       "    </tr>\n",
       "    <tr>\n",
       "      <th>2</th>\n",
       "      <td>abba</td>\n",
       "      <td>2 - As Good As New</td>\n",
       "      <td>I'll never know why I had to go  \\nWhy I had t...</td>\n",
       "      <td>pop</td>\n",
       "      <td>I'll never know why I had to go   Why I had to...</td>\n",
       "      <td>0.0</td>\n",
       "      <td>0.362179</td>\n",
       "      <td>1.74</td>\n",
       "      <td>5.530054</td>\n",
       "      <td>0.683882</td>\n",
       "    </tr>\n",
       "    <tr>\n",
       "      <th>3</th>\n",
       "      <td>abba</td>\n",
       "      <td>3 - Bang</td>\n",
       "      <td>Making somebody happy is a question of give an...</td>\n",
       "      <td>pop</td>\n",
       "      <td>Making somebody happy is a question of give an...</td>\n",
       "      <td>0.0</td>\n",
       "      <td>0.440000</td>\n",
       "      <td>1.03</td>\n",
       "      <td>4.058497</td>\n",
       "      <td>0.651607</td>\n",
       "    </tr>\n",
       "    <tr>\n",
       "      <th>4</th>\n",
       "      <td>abba</td>\n",
       "      <td>4 - Bang-A-Boomerang</td>\n",
       "      <td>Making somebody happy is a question of give an...</td>\n",
       "      <td>pop</td>\n",
       "      <td>Making somebody happy is a question of give an...</td>\n",
       "      <td>0.0</td>\n",
       "      <td>0.454545</td>\n",
       "      <td>1.06</td>\n",
       "      <td>3.989458</td>\n",
       "      <td>0.664232</td>\n",
       "    </tr>\n",
       "  </tbody>\n",
       "</table>\n",
       "</div>"
      ],
      "text/plain": [
       "  artist                 track_name  \\\n",
       "0   abba  0 - Ahe's My Kind Of Girl   \n",
       "1   abba       1 - Andante, Andante   \n",
       "2   abba         2 - As Good As New   \n",
       "3   abba                   3 - Bang   \n",
       "4   abba       4 - Bang-A-Boomerang   \n",
       "\n",
       "                                              lyrics genre  \\\n",
       "0  Look at her face, it's a wonderful face  \\nAnd...   pop   \n",
       "1  Take it easy with me, please  \\nTouch me gentl...   pop   \n",
       "2  I'll never know why I had to go  \\nWhy I had t...   pop   \n",
       "3  Making somebody happy is a question of give an...   pop   \n",
       "4  Making somebody happy is a question of give an...   pop   \n",
       "\n",
       "                                       letras_limpas  Silabas  Frequencia  \\\n",
       "0  Look at her face, it's a wonderful face   And ...      0.0    0.457516   \n",
       "1  Take it easy with me, please   Touch me gently...      0.0    0.307692   \n",
       "2  I'll never know why I had to go   Why I had to...      0.0    0.362179   \n",
       "3  Making somebody happy is a question of give an...      0.0    0.440000   \n",
       "4  Making somebody happy is a question of give an...      0.0    0.454545   \n",
       "\n",
       "   Pontuacao Gramatical  diversidade lexical  diversidade tematica  \n",
       "0                  0.71             5.837445              0.764428  \n",
       "1                  1.32             5.212912              0.634446  \n",
       "2                  1.74             5.530054              0.683882  \n",
       "3                  1.03             4.058497              0.651607  \n",
       "4                  1.06             3.989458              0.664232  "
      ]
     },
     "execution_count": 153,
     "metadata": {},
     "output_type": "execute_result"
    }
   ],
   "source": [
    "df.head(5)"
   ]
  },
  {
   "cell_type": "markdown",
   "id": "f54f2c67-e752-4a03-83d5-558148e077bc",
   "metadata": {},
   "source": [
    "### 3.6 - Tamanho das letras"
   ]
  },
  {
   "cell_type": "markdown",
   "id": "4c639335-ec4b-4bb7-b472-41ffe284e0d0",
   "metadata": {},
   "source": [
    "Este código cria um dicionário que associa o nome de cada música `track_name` ao tamanho de sua letra, medido pelo número de palavras. Ele percorre o dataFrame, conta as palavras nas letras limpas `letras_limpas` e armazena essa contagem no dicionário. Em seguida, esse dicionário é usado para criar uma nova coluna chamada Tamanho, mapeando o tamanho de cada letra com base no nome da faixa. Isso é útil para analisar a extensão das letras das músicas de forma eficiente."
   ]
  },
  {
   "cell_type": "code",
   "execution_count": null,
   "id": "97b5e53a-6669-4f33-9abb-b143f06110ef",
   "metadata": {},
   "outputs": [],
   "source": [
    "dic_tamanho = {row['track_name']: len(row['letras_limpas'].split()) for index, row in df.iterrows()}\n",
    "df['Tamanho'] = df['track_name'].map(dic_tamanho)"
   ]
  },
  {
   "cell_type": "code",
   "execution_count": 155,
   "id": "70d79fd6-270b-4c1d-b608-8709fbe5a680",
   "metadata": {},
   "outputs": [
    {
     "data": {
      "text/html": [
       "<div>\n",
       "<style scoped>\n",
       "    .dataframe tbody tr th:only-of-type {\n",
       "        vertical-align: middle;\n",
       "    }\n",
       "\n",
       "    .dataframe tbody tr th {\n",
       "        vertical-align: top;\n",
       "    }\n",
       "\n",
       "    .dataframe thead th {\n",
       "        text-align: right;\n",
       "    }\n",
       "</style>\n",
       "<table border=\"1\" class=\"dataframe\">\n",
       "  <thead>\n",
       "    <tr style=\"text-align: right;\">\n",
       "      <th></th>\n",
       "      <th>artist</th>\n",
       "      <th>track_name</th>\n",
       "      <th>lyrics</th>\n",
       "      <th>genre</th>\n",
       "      <th>letras_limpas</th>\n",
       "      <th>Silabas</th>\n",
       "      <th>Frequencia</th>\n",
       "      <th>Pontuacao Gramatical</th>\n",
       "      <th>diversidade lexical</th>\n",
       "      <th>diversidade tematica</th>\n",
       "      <th>Tamanho</th>\n",
       "    </tr>\n",
       "  </thead>\n",
       "  <tbody>\n",
       "    <tr>\n",
       "      <th>0</th>\n",
       "      <td>abba</td>\n",
       "      <td>0 - Ahe's My Kind Of Girl</td>\n",
       "      <td>Look at her face, it's a wonderful face  \\nAnd...</td>\n",
       "      <td>pop</td>\n",
       "      <td>Look at her face, it's a wonderful face   And ...</td>\n",
       "      <td>0.0</td>\n",
       "      <td>0.457516</td>\n",
       "      <td>0.71</td>\n",
       "      <td>5.837445</td>\n",
       "      <td>0.764428</td>\n",
       "      <td>153</td>\n",
       "    </tr>\n",
       "    <tr>\n",
       "      <th>1</th>\n",
       "      <td>abba</td>\n",
       "      <td>1 - Andante, Andante</td>\n",
       "      <td>Take it easy with me, please  \\nTouch me gentl...</td>\n",
       "      <td>pop</td>\n",
       "      <td>Take it easy with me, please   Touch me gently...</td>\n",
       "      <td>0.0</td>\n",
       "      <td>0.307692</td>\n",
       "      <td>1.32</td>\n",
       "      <td>5.212912</td>\n",
       "      <td>0.634446</td>\n",
       "      <td>260</td>\n",
       "    </tr>\n",
       "    <tr>\n",
       "      <th>2</th>\n",
       "      <td>abba</td>\n",
       "      <td>2 - As Good As New</td>\n",
       "      <td>I'll never know why I had to go  \\nWhy I had t...</td>\n",
       "      <td>pop</td>\n",
       "      <td>I'll never know why I had to go   Why I had to...</td>\n",
       "      <td>0.0</td>\n",
       "      <td>0.362179</td>\n",
       "      <td>1.74</td>\n",
       "      <td>5.530054</td>\n",
       "      <td>0.683882</td>\n",
       "      <td>312</td>\n",
       "    </tr>\n",
       "    <tr>\n",
       "      <th>3</th>\n",
       "      <td>abba</td>\n",
       "      <td>3 - Bang</td>\n",
       "      <td>Making somebody happy is a question of give an...</td>\n",
       "      <td>pop</td>\n",
       "      <td>Making somebody happy is a question of give an...</td>\n",
       "      <td>0.0</td>\n",
       "      <td>0.440000</td>\n",
       "      <td>1.03</td>\n",
       "      <td>4.058497</td>\n",
       "      <td>0.651607</td>\n",
       "      <td>200</td>\n",
       "    </tr>\n",
       "    <tr>\n",
       "      <th>4</th>\n",
       "      <td>abba</td>\n",
       "      <td>4 - Bang-A-Boomerang</td>\n",
       "      <td>Making somebody happy is a question of give an...</td>\n",
       "      <td>pop</td>\n",
       "      <td>Making somebody happy is a question of give an...</td>\n",
       "      <td>0.0</td>\n",
       "      <td>0.454545</td>\n",
       "      <td>1.06</td>\n",
       "      <td>3.989458</td>\n",
       "      <td>0.664232</td>\n",
       "      <td>198</td>\n",
       "    </tr>\n",
       "  </tbody>\n",
       "</table>\n",
       "</div>"
      ],
      "text/plain": [
       "  artist                 track_name  \\\n",
       "0   abba  0 - Ahe's My Kind Of Girl   \n",
       "1   abba       1 - Andante, Andante   \n",
       "2   abba         2 - As Good As New   \n",
       "3   abba                   3 - Bang   \n",
       "4   abba       4 - Bang-A-Boomerang   \n",
       "\n",
       "                                              lyrics genre  \\\n",
       "0  Look at her face, it's a wonderful face  \\nAnd...   pop   \n",
       "1  Take it easy with me, please  \\nTouch me gentl...   pop   \n",
       "2  I'll never know why I had to go  \\nWhy I had t...   pop   \n",
       "3  Making somebody happy is a question of give an...   pop   \n",
       "4  Making somebody happy is a question of give an...   pop   \n",
       "\n",
       "                                       letras_limpas  Silabas  Frequencia  \\\n",
       "0  Look at her face, it's a wonderful face   And ...      0.0    0.457516   \n",
       "1  Take it easy with me, please   Touch me gently...      0.0    0.307692   \n",
       "2  I'll never know why I had to go   Why I had to...      0.0    0.362179   \n",
       "3  Making somebody happy is a question of give an...      0.0    0.440000   \n",
       "4  Making somebody happy is a question of give an...      0.0    0.454545   \n",
       "\n",
       "   Pontuacao Gramatical  diversidade lexical  diversidade tematica  Tamanho  \n",
       "0                  0.71             5.837445              0.764428      153  \n",
       "1                  1.32             5.212912              0.634446      260  \n",
       "2                  1.74             5.530054              0.683882      312  \n",
       "3                  1.03             4.058497              0.651607      200  \n",
       "4                  1.06             3.989458              0.664232      198  "
      ]
     },
     "execution_count": 155,
     "metadata": {},
     "output_type": "execute_result"
    }
   ],
   "source": [
    "df.head(5)"
   ]
  },
  {
   "cell_type": "markdown",
   "id": "3a7a4ba4-3598-46e0-a9e2-d0c29d93569e",
   "metadata": {},
   "source": [
    "### 3.7 - Repetição de versos:"
   ]
  },
  {
   "cell_type": "markdown",
   "id": "fbe90d40-223d-4b6f-b42a-1892fed60593",
   "metadata": {},
   "source": [
    "Calcular a repetição de versos é importante para entender a estrutura das músicas e identificar padrões de repetição, que podem refletir estilos musicais, a simplicidade ou complexidade das letras, e até o impacto emocional das músicas. Músicas com muitos versos repetidos podem ser mais fáceis de lembrar ou cantar, enquanto músicas com menos repetição tendem a ser mais complexas e diversificadas. Esse cálculo fornece informaçoes sobre a composição."
   ]
  },
  {
   "cell_type": "markdown",
   "id": "3b0f0be3-6009-4365-b7a9-9879b8bf724a",
   "metadata": {},
   "source": [
    "### Passo 1: pontuar os versos"
   ]
  },
  {
   "cell_type": "markdown",
   "id": "2ac6307e-015a-4835-b9c0-1f57e1283a7e",
   "metadata": {},
   "source": [
    "Esta função, pontuacao_verso, recebe um dicionário onde as chaves representam músicas e os valores são subdicionários que contêm contagens de versos. Para cada música, ela calcula o comprimento médio dos versos dividindo o total de versos pelo número de versos únicos. O resultado é armazenado em um novo dicionário, que mapeia cada música ao seu comprimento médio de versos. Isso ajuda a medir a complexidade ou repetição das letras das músicas com base no uso de versos únicos."
   ]
  },
  {
   "cell_type": "code",
   "execution_count": 156,
   "id": "7619abce-bd61-4bf7-ad64-68e45e49fddc",
   "metadata": {},
   "outputs": [],
   "source": [
    "def pontuacao_verso(dic_contagem_versos):\n",
    "    dic = {}\n",
    "    for key, value in dic_contagem_versos.items():\n",
    "        total_versos = sum(value.values())  # Total de ocorrências de versos\n",
    "        versos_unicos = len(value)  # Número de versos únicos\n",
    "        \n",
    "        # Calcula o comprimento médio dos versos\n",
    "        comprimento_medio_versos = total_versos / versos_unicos if versos_unicos > 0 else 0\n",
    "        dic[key] = comprimento_medio_versos\n",
    "    \n",
    "    return dic"
   ]
  },
  {
   "cell_type": "markdown",
   "id": "3764acac-9f74-4cc3-95ea-d14a5aaa98cb",
   "metadata": {},
   "source": [
    "Este código cria um dicionário, `dic_contagem_versos`, que armazena a contagem de cada verso em cada música presente no dataset"
   ]
  },
  {
   "cell_type": "code",
   "execution_count": 157,
   "id": "82bb5c10-412a-41b6-a0fe-0b8473f72b1b",
   "metadata": {},
   "outputs": [],
   "source": [
    "dic_contagem_versos = {df.track_name[n]: Counter() for n in range(len(df))} \n",
    "\n",
    "# Itera sobre as linhas do DataFrame para contar os versos\n",
    "for index, row in df.iterrows():\n",
    "    versos = row['lyrics'].split('\\n')  # Divide a letra em versos\n",
    "    contagem_versos = Counter(verso.strip().lower() for verso in versos if verso.strip())\n",
    "    \n",
    "    #A função update soma as contagens de versos atuais com as novas contagens, garantindo que o total de ocorrências de cada verso seja corretamente acumulado ao longo do processo.\n",
    "    dic_contagem_versos[row['track_name']].update(contagem_versos)\n",
    "    \n",
    "resultados = pontuacao_verso(dic_contagem_versos)"
   ]
  },
  {
   "cell_type": "markdown",
   "id": "d78b7302-535b-41aa-a4f5-fbd55ebd784b",
   "metadata": {},
   "source": [
    "### Passo 2: criar coluna no dataset:"
   ]
  },
  {
   "cell_type": "code",
   "execution_count": null,
   "id": "70208ff1-47de-482f-a1d5-a0ee08bd6a44",
   "metadata": {},
   "outputs": [],
   "source": [
    "df['Versos'] = df['track_name'].map(resultados)"
   ]
  },
  {
   "cell_type": "code",
   "execution_count": 159,
   "id": "e05f5521-5dda-49f7-aa7a-4e10d988dfa1",
   "metadata": {},
   "outputs": [
    {
     "data": {
      "text/html": [
       "<div>\n",
       "<style scoped>\n",
       "    .dataframe tbody tr th:only-of-type {\n",
       "        vertical-align: middle;\n",
       "    }\n",
       "\n",
       "    .dataframe tbody tr th {\n",
       "        vertical-align: top;\n",
       "    }\n",
       "\n",
       "    .dataframe thead th {\n",
       "        text-align: right;\n",
       "    }\n",
       "</style>\n",
       "<table border=\"1\" class=\"dataframe\">\n",
       "  <thead>\n",
       "    <tr style=\"text-align: right;\">\n",
       "      <th></th>\n",
       "      <th>artist</th>\n",
       "      <th>track_name</th>\n",
       "      <th>lyrics</th>\n",
       "      <th>genre</th>\n",
       "      <th>letras_limpas</th>\n",
       "      <th>Silabas</th>\n",
       "      <th>Frequencia</th>\n",
       "      <th>Pontuacao Gramatical</th>\n",
       "      <th>diversidade lexical</th>\n",
       "      <th>diversidade tematica</th>\n",
       "      <th>Tamanho</th>\n",
       "      <th>Versos</th>\n",
       "    </tr>\n",
       "  </thead>\n",
       "  <tbody>\n",
       "    <tr>\n",
       "      <th>0</th>\n",
       "      <td>abba</td>\n",
       "      <td>0 - Ahe's My Kind Of Girl</td>\n",
       "      <td>Look at her face, it's a wonderful face  \\nAnd...</td>\n",
       "      <td>pop</td>\n",
       "      <td>Look at her face, it's a wonderful face   And ...</td>\n",
       "      <td>0.0</td>\n",
       "      <td>0.457516</td>\n",
       "      <td>0.71</td>\n",
       "      <td>5.837445</td>\n",
       "      <td>0.764428</td>\n",
       "      <td>153</td>\n",
       "      <td>1.333333</td>\n",
       "    </tr>\n",
       "    <tr>\n",
       "      <th>1</th>\n",
       "      <td>abba</td>\n",
       "      <td>1 - Andante, Andante</td>\n",
       "      <td>Take it easy with me, please  \\nTouch me gentl...</td>\n",
       "      <td>pop</td>\n",
       "      <td>Take it easy with me, please   Touch me gently...</td>\n",
       "      <td>0.0</td>\n",
       "      <td>0.307692</td>\n",
       "      <td>1.32</td>\n",
       "      <td>5.212912</td>\n",
       "      <td>0.634446</td>\n",
       "      <td>260</td>\n",
       "      <td>2.136364</td>\n",
       "    </tr>\n",
       "    <tr>\n",
       "      <th>2</th>\n",
       "      <td>abba</td>\n",
       "      <td>2 - As Good As New</td>\n",
       "      <td>I'll never know why I had to go  \\nWhy I had t...</td>\n",
       "      <td>pop</td>\n",
       "      <td>I'll never know why I had to go   Why I had to...</td>\n",
       "      <td>0.0</td>\n",
       "      <td>0.362179</td>\n",
       "      <td>1.74</td>\n",
       "      <td>5.530054</td>\n",
       "      <td>0.683882</td>\n",
       "      <td>312</td>\n",
       "      <td>1.434783</td>\n",
       "    </tr>\n",
       "    <tr>\n",
       "      <th>3</th>\n",
       "      <td>abba</td>\n",
       "      <td>3 - Bang</td>\n",
       "      <td>Making somebody happy is a question of give an...</td>\n",
       "      <td>pop</td>\n",
       "      <td>Making somebody happy is a question of give an...</td>\n",
       "      <td>0.0</td>\n",
       "      <td>0.440000</td>\n",
       "      <td>1.03</td>\n",
       "      <td>4.058497</td>\n",
       "      <td>0.651607</td>\n",
       "      <td>200</td>\n",
       "      <td>1.307692</td>\n",
       "    </tr>\n",
       "    <tr>\n",
       "      <th>4</th>\n",
       "      <td>abba</td>\n",
       "      <td>4 - Bang-A-Boomerang</td>\n",
       "      <td>Making somebody happy is a question of give an...</td>\n",
       "      <td>pop</td>\n",
       "      <td>Making somebody happy is a question of give an...</td>\n",
       "      <td>0.0</td>\n",
       "      <td>0.454545</td>\n",
       "      <td>1.06</td>\n",
       "      <td>3.989458</td>\n",
       "      <td>0.664232</td>\n",
       "      <td>198</td>\n",
       "      <td>1.307692</td>\n",
       "    </tr>\n",
       "  </tbody>\n",
       "</table>\n",
       "</div>"
      ],
      "text/plain": [
       "  artist                 track_name  \\\n",
       "0   abba  0 - Ahe's My Kind Of Girl   \n",
       "1   abba       1 - Andante, Andante   \n",
       "2   abba         2 - As Good As New   \n",
       "3   abba                   3 - Bang   \n",
       "4   abba       4 - Bang-A-Boomerang   \n",
       "\n",
       "                                              lyrics genre  \\\n",
       "0  Look at her face, it's a wonderful face  \\nAnd...   pop   \n",
       "1  Take it easy with me, please  \\nTouch me gentl...   pop   \n",
       "2  I'll never know why I had to go  \\nWhy I had t...   pop   \n",
       "3  Making somebody happy is a question of give an...   pop   \n",
       "4  Making somebody happy is a question of give an...   pop   \n",
       "\n",
       "                                       letras_limpas  Silabas  Frequencia  \\\n",
       "0  Look at her face, it's a wonderful face   And ...      0.0    0.457516   \n",
       "1  Take it easy with me, please   Touch me gently...      0.0    0.307692   \n",
       "2  I'll never know why I had to go   Why I had to...      0.0    0.362179   \n",
       "3  Making somebody happy is a question of give an...      0.0    0.440000   \n",
       "4  Making somebody happy is a question of give an...      0.0    0.454545   \n",
       "\n",
       "   Pontuacao Gramatical  diversidade lexical  diversidade tematica  Tamanho  \\\n",
       "0                  0.71             5.837445              0.764428      153   \n",
       "1                  1.32             5.212912              0.634446      260   \n",
       "2                  1.74             5.530054              0.683882      312   \n",
       "3                  1.03             4.058497              0.651607      200   \n",
       "4                  1.06             3.989458              0.664232      198   \n",
       "\n",
       "     Versos  \n",
       "0  1.333333  \n",
       "1  2.136364  \n",
       "2  1.434783  \n",
       "3  1.307692  \n",
       "4  1.307692  "
      ]
     },
     "execution_count": 159,
     "metadata": {},
     "output_type": "execute_result"
    }
   ],
   "source": [
    "df.head(5)"
   ]
  },
  {
   "cell_type": "markdown",
   "id": "32fce22c-af07-454b-b53b-cc1d3d052d1f",
   "metadata": {},
   "source": [
    "## 4 - Classificação:"
   ]
  },
  {
   "cell_type": "markdown",
   "id": "a1e1056f-ca27-4833-8e61-8fdf8745bb42",
   "metadata": {},
   "source": [
    "Como dito anteriormente, iremos calcular a complexidade das músicas através do modelo `RandomForestClassifier`, da biblioteca `sklearn`. Para treinar esse modelo, criamos um dataset consideradas complexas, chamado `dataset_complexo` e outro com músicas não complexas, chamado `dataset_nao_complexo`, os quais passaram pelos critérios acima. Para facilitar o entendimento, apresentaremos eles abaixo"
   ]
  },
  {
   "cell_type": "markdown",
   "id": "81b588fe-0520-44e3-be25-fbf914bb3a3d",
   "metadata": {},
   "source": [
    "### 4.1 - Apresentação dos dados:"
   ]
  },
  {
   "cell_type": "code",
   "execution_count": 160,
   "id": "252b25be-18ed-47b9-9dee-a018b2f4571e",
   "metadata": {},
   "outputs": [],
   "source": [
    "df_complexo = pd.read_csv(\"dataset_complexo.csv\")\n",
    "df_nao_complexo = pd.read_csv(\"dataset_nao_complexo.csv\")"
   ]
  },
  {
   "cell_type": "markdown",
   "id": "33255b22-6ea0-4757-913c-d1cb4e037061",
   "metadata": {},
   "source": [
    "#### Dataset de músicas complexas:"
   ]
  },
  {
   "cell_type": "code",
   "execution_count": 161,
   "id": "8ddc46b5-3e7e-49c7-bcd8-9be29d3f2f26",
   "metadata": {},
   "outputs": [
    {
     "data": {
      "text/html": [
       "<div>\n",
       "<style scoped>\n",
       "    .dataframe tbody tr th:only-of-type {\n",
       "        vertical-align: middle;\n",
       "    }\n",
       "\n",
       "    .dataframe tbody tr th {\n",
       "        vertical-align: top;\n",
       "    }\n",
       "\n",
       "    .dataframe thead th {\n",
       "        text-align: right;\n",
       "    }\n",
       "</style>\n",
       "<table border=\"1\" class=\"dataframe\">\n",
       "  <thead>\n",
       "    <tr style=\"text-align: right;\">\n",
       "      <th></th>\n",
       "      <th>artist</th>\n",
       "      <th>track_name</th>\n",
       "      <th>lyrics</th>\n",
       "      <th>letras_limpas</th>\n",
       "      <th>Silabas</th>\n",
       "      <th>Frequencia</th>\n",
       "      <th>Pontuacao Gramatical</th>\n",
       "      <th>diversidade lexical</th>\n",
       "      <th>diversidade tematica</th>\n",
       "      <th>Tamanho</th>\n",
       "      <th>Versos</th>\n",
       "      <th>Complexidade</th>\n",
       "    </tr>\n",
       "  </thead>\n",
       "  <tbody>\n",
       "    <tr>\n",
       "      <th>0</th>\n",
       "      <td>leonard-cohen</td>\n",
       "      <td>0 - 0 - hallelujah</td>\n",
       "      <td>&lt;p&gt;Now, I heard there was a secret chord&lt;br/&gt;...</td>\n",
       "      <td>Now, I heard there was a secret chord\\nThat Da...</td>\n",
       "      <td>0.0</td>\n",
       "      <td>0.557692</td>\n",
       "      <td>0.83</td>\n",
       "      <td>3.993337</td>\n",
       "      <td>2.176163</td>\n",
       "      <td>208</td>\n",
       "      <td>1.0</td>\n",
       "      <td>1</td>\n",
       "    </tr>\n",
       "    <tr>\n",
       "      <th>1</th>\n",
       "      <td>queen</td>\n",
       "      <td>1 - 1 - bohemian-rhapsody</td>\n",
       "      <td>&lt;p&gt;Is this the real life?&lt;br/&gt;Is this just fa...</td>\n",
       "      <td>Is this the real life?\\nIs this just fantasy?\\...</td>\n",
       "      <td>4.0</td>\n",
       "      <td>0.479675</td>\n",
       "      <td>1.81</td>\n",
       "      <td>3.273359</td>\n",
       "      <td>1.565321</td>\n",
       "      <td>369</td>\n",
       "      <td>1.0</td>\n",
       "      <td>1</td>\n",
       "    </tr>\n",
       "    <tr>\n",
       "      <th>2</th>\n",
       "      <td>the-beatles</td>\n",
       "      <td>2 - 2 - a-day-in-the-life</td>\n",
       "      <td>&lt;p&gt;I read the news today, oh, boy&lt;br/&gt;About a...</td>\n",
       "      <td>I read the news today, oh, boy\\nAbout a lucky ...</td>\n",
       "      <td>0.0</td>\n",
       "      <td>0.569444</td>\n",
       "      <td>0.96</td>\n",
       "      <td>2.929737</td>\n",
       "      <td>2.214710</td>\n",
       "      <td>216</td>\n",
       "      <td>1.0</td>\n",
       "      <td>1</td>\n",
       "    </tr>\n",
       "    <tr>\n",
       "      <th>3</th>\n",
       "      <td>led-zeppelin</td>\n",
       "      <td>3 - 3 - stairway-to-heaven</td>\n",
       "      <td>&lt;p&gt;There's a lady who's sure&lt;br/&gt;All that gli...</td>\n",
       "      <td>There's a lady who's sure\\nAll that glitters i...</td>\n",
       "      <td>0.0</td>\n",
       "      <td>0.488506</td>\n",
       "      <td>1.56</td>\n",
       "      <td>3.568651</td>\n",
       "      <td>1.985021</td>\n",
       "      <td>348</td>\n",
       "      <td>1.0</td>\n",
       "      <td>1</td>\n",
       "    </tr>\n",
       "    <tr>\n",
       "      <th>4</th>\n",
       "      <td>john-lennon</td>\n",
       "      <td>4 - 4 - imagine</td>\n",
       "      <td>&lt;p&gt;Imagine there's no heaven&lt;br/&gt;It's easy if...</td>\n",
       "      <td>Imagine there's no heaven\\nIt's easy if you tr...</td>\n",
       "      <td>0.0</td>\n",
       "      <td>0.511811</td>\n",
       "      <td>0.52</td>\n",
       "      <td>6.985301</td>\n",
       "      <td>0.979105</td>\n",
       "      <td>127</td>\n",
       "      <td>1.0</td>\n",
       "      <td>1</td>\n",
       "    </tr>\n",
       "  </tbody>\n",
       "</table>\n",
       "</div>"
      ],
      "text/plain": [
       "          artist                  track_name  \\\n",
       "0  leonard-cohen          0 - 0 - hallelujah   \n",
       "1          queen   1 - 1 - bohemian-rhapsody   \n",
       "2    the-beatles   2 - 2 - a-day-in-the-life   \n",
       "3   led-zeppelin  3 - 3 - stairway-to-heaven   \n",
       "4    john-lennon             4 - 4 - imagine   \n",
       "\n",
       "                                              lyrics  \\\n",
       "0   <p>Now, I heard there was a secret chord<br/>...   \n",
       "1   <p>Is this the real life?<br/>Is this just fa...   \n",
       "2   <p>I read the news today, oh, boy<br/>About a...   \n",
       "3   <p>There's a lady who's sure<br/>All that gli...   \n",
       "4   <p>Imagine there's no heaven<br/>It's easy if...   \n",
       "\n",
       "                                       letras_limpas  Silabas  Frequencia  \\\n",
       "0  Now, I heard there was a secret chord\\nThat Da...      0.0    0.557692   \n",
       "1  Is this the real life?\\nIs this just fantasy?\\...      4.0    0.479675   \n",
       "2  I read the news today, oh, boy\\nAbout a lucky ...      0.0    0.569444   \n",
       "3  There's a lady who's sure\\nAll that glitters i...      0.0    0.488506   \n",
       "4  Imagine there's no heaven\\nIt's easy if you tr...      0.0    0.511811   \n",
       "\n",
       "   Pontuacao Gramatical  diversidade lexical  diversidade tematica  Tamanho  \\\n",
       "0                  0.83             3.993337              2.176163      208   \n",
       "1                  1.81             3.273359              1.565321      369   \n",
       "2                  0.96             2.929737              2.214710      216   \n",
       "3                  1.56             3.568651              1.985021      348   \n",
       "4                  0.52             6.985301              0.979105      127   \n",
       "\n",
       "   Versos  Complexidade  \n",
       "0     1.0             1  \n",
       "1     1.0             1  \n",
       "2     1.0             1  \n",
       "3     1.0             1  \n",
       "4     1.0             1  "
      ]
     },
     "execution_count": 161,
     "metadata": {},
     "output_type": "execute_result"
    }
   ],
   "source": [
    "df_complexo.head(5)"
   ]
  },
  {
   "cell_type": "markdown",
   "id": "7d25cf37-71a7-4bb0-8863-4df2c3cded33",
   "metadata": {},
   "source": [
    "#### Dataset de músicas não complexas:"
   ]
  },
  {
   "cell_type": "code",
   "execution_count": 162,
   "id": "161972c9-7838-4214-82fb-b10d5a4d2625",
   "metadata": {},
   "outputs": [
    {
     "data": {
      "text/html": [
       "<div>\n",
       "<style scoped>\n",
       "    .dataframe tbody tr th:only-of-type {\n",
       "        vertical-align: middle;\n",
       "    }\n",
       "\n",
       "    .dataframe tbody tr th {\n",
       "        vertical-align: top;\n",
       "    }\n",
       "\n",
       "    .dataframe thead th {\n",
       "        text-align: right;\n",
       "    }\n",
       "</style>\n",
       "<table border=\"1\" class=\"dataframe\">\n",
       "  <thead>\n",
       "    <tr style=\"text-align: right;\">\n",
       "      <th></th>\n",
       "      <th>artist</th>\n",
       "      <th>track_name</th>\n",
       "      <th>lyrics</th>\n",
       "      <th>letras_limpas</th>\n",
       "      <th>Silabas</th>\n",
       "      <th>Frequencia</th>\n",
       "      <th>Pontuacao Gramatical</th>\n",
       "      <th>diversidade lexical</th>\n",
       "      <th>diversidade tematica</th>\n",
       "      <th>Tamanho</th>\n",
       "      <th>Versos</th>\n",
       "      <th>Complexidade</th>\n",
       "    </tr>\n",
       "  </thead>\n",
       "  <tbody>\n",
       "    <tr>\n",
       "      <th>0</th>\n",
       "      <td>traditional</td>\n",
       "      <td>0 - 0 - twinkle-twinkle-little-star</td>\n",
       "      <td>&lt;p&gt;Near Banbridge town in the County Down one...</td>\n",
       "      <td>Near Banbridge town in the County Down one mor...</td>\n",
       "      <td>0.0</td>\n",
       "      <td>0.414966</td>\n",
       "      <td>1.29</td>\n",
       "      <td>4.330959</td>\n",
       "      <td>1.463455</td>\n",
       "      <td>294</td>\n",
       "      <td>1.0</td>\n",
       "      <td>0</td>\n",
       "    </tr>\n",
       "    <tr>\n",
       "      <th>1</th>\n",
       "      <td>pinkfong</td>\n",
       "      <td>1 - 1 - baby-shark</td>\n",
       "      <td>&lt;p&gt;Baby shark, doo doo doo doo doo doo&lt;br/&gt;Ba...</td>\n",
       "      <td>Baby shark, doo doo doo doo doo doo\\nBaby shar...</td>\n",
       "      <td>0.0</td>\n",
       "      <td>0.093496</td>\n",
       "      <td>0.47</td>\n",
       "      <td>4.941555</td>\n",
       "      <td>0.341394</td>\n",
       "      <td>246</td>\n",
       "      <td>1.0</td>\n",
       "      <td>0</td>\n",
       "    </tr>\n",
       "    <tr>\n",
       "      <th>2</th>\n",
       "      <td>traditional</td>\n",
       "      <td>2 - 2 - row-row-row-your-boat</td>\n",
       "      <td>&lt;p&gt;Heel ya ho, boys, let her go, boys&lt;br/&gt;Hea...</td>\n",
       "      <td>Heel ya ho, boys, let her go, boys\\nHeave her ...</td>\n",
       "      <td>0.0</td>\n",
       "      <td>0.320896</td>\n",
       "      <td>0.43</td>\n",
       "      <td>6.665369</td>\n",
       "      <td>0.735460</td>\n",
       "      <td>134</td>\n",
       "      <td>1.0</td>\n",
       "      <td>0</td>\n",
       "    </tr>\n",
       "    <tr>\n",
       "      <th>3</th>\n",
       "      <td>traditional</td>\n",
       "      <td>3 - 3 - if-youre-happy-and-you-know-it</td>\n",
       "      <td>&lt;p&gt;Oh, what would you do if you married a sol...</td>\n",
       "      <td>Oh, what would you do if you married a soldier...</td>\n",
       "      <td>0.0</td>\n",
       "      <td>0.178451</td>\n",
       "      <td>0.98</td>\n",
       "      <td>5.872537</td>\n",
       "      <td>0.340535</td>\n",
       "      <td>297</td>\n",
       "      <td>1.0</td>\n",
       "      <td>0</td>\n",
       "    </tr>\n",
       "    <tr>\n",
       "      <th>4</th>\n",
       "      <td>idina-menzel</td>\n",
       "      <td>4 - 4 - let-it-go</td>\n",
       "      <td>&lt;p&gt;The snow glows white on the mountain tonig...</td>\n",
       "      <td>The snow glows white on the mountain tonight\\n...</td>\n",
       "      <td>0.0</td>\n",
       "      <td>0.500000</td>\n",
       "      <td>1.59</td>\n",
       "      <td>5.673779</td>\n",
       "      <td>0.591147</td>\n",
       "      <td>276</td>\n",
       "      <td>1.0</td>\n",
       "      <td>0</td>\n",
       "    </tr>\n",
       "  </tbody>\n",
       "</table>\n",
       "</div>"
      ],
      "text/plain": [
       "         artist                              track_name  \\\n",
       "0   traditional     0 - 0 - twinkle-twinkle-little-star   \n",
       "1      pinkfong                      1 - 1 - baby-shark   \n",
       "2   traditional           2 - 2 - row-row-row-your-boat   \n",
       "3   traditional  3 - 3 - if-youre-happy-and-you-know-it   \n",
       "4  idina-menzel                       4 - 4 - let-it-go   \n",
       "\n",
       "                                              lyrics  \\\n",
       "0   <p>Near Banbridge town in the County Down one...   \n",
       "1   <p>Baby shark, doo doo doo doo doo doo<br/>Ba...   \n",
       "2   <p>Heel ya ho, boys, let her go, boys<br/>Hea...   \n",
       "3   <p>Oh, what would you do if you married a sol...   \n",
       "4   <p>The snow glows white on the mountain tonig...   \n",
       "\n",
       "                                       letras_limpas  Silabas  Frequencia  \\\n",
       "0  Near Banbridge town in the County Down one mor...      0.0    0.414966   \n",
       "1  Baby shark, doo doo doo doo doo doo\\nBaby shar...      0.0    0.093496   \n",
       "2  Heel ya ho, boys, let her go, boys\\nHeave her ...      0.0    0.320896   \n",
       "3  Oh, what would you do if you married a soldier...      0.0    0.178451   \n",
       "4  The snow glows white on the mountain tonight\\n...      0.0    0.500000   \n",
       "\n",
       "   Pontuacao Gramatical  diversidade lexical  diversidade tematica  Tamanho  \\\n",
       "0                  1.29             4.330959              1.463455      294   \n",
       "1                  0.47             4.941555              0.341394      246   \n",
       "2                  0.43             6.665369              0.735460      134   \n",
       "3                  0.98             5.872537              0.340535      297   \n",
       "4                  1.59             5.673779              0.591147      276   \n",
       "\n",
       "   Versos  Complexidade  \n",
       "0     1.0             0  \n",
       "1     1.0             0  \n",
       "2     1.0             0  \n",
       "3     1.0             0  \n",
       "4     1.0             0  "
      ]
     },
     "execution_count": 162,
     "metadata": {},
     "output_type": "execute_result"
    }
   ],
   "source": [
    "df_nao_complexo.head(5)"
   ]
  },
  {
   "cell_type": "markdown",
   "id": "7c9254bd-af53-4433-8621-137cd40cee3b",
   "metadata": {},
   "source": [
    "### Passo 2 - Juntar os datasets:"
   ]
  },
  {
   "cell_type": "code",
   "execution_count": 173,
   "id": "b941aa85-b918-4bff-8970-f9f635b7efeb",
   "metadata": {},
   "outputs": [],
   "source": [
    "dataset_complexidade = pd.concat([df_complexo, df_nao_complexo], ignore_index=True)\n",
    "dataset_complexidade.to_csv(\"Dataset_complexidade.csv\", index=False)"
   ]
  },
  {
   "cell_type": "markdown",
   "id": "a4bc3e87-e200-4fa2-941c-68988542f0f7",
   "metadata": {},
   "source": [
    "### Passo 3 - Treinar o modelo"
   ]
  },
  {
   "cell_type": "markdown",
   "id": "cc177800-286d-4eb1-b1b4-1269fa996b69",
   "metadata": {},
   "source": [
    "O primeiro passo é definir as colunas que serão utilizadas para a análise:"
   ]
  },
  {
   "cell_type": "code",
   "execution_count": 174,
   "id": "c8f3f64a-fc47-4497-9e30-103389eda1e5",
   "metadata": {},
   "outputs": [],
   "source": [
    "X = dataset_complexidade[['Silabas', 'Frequencia', 'Pontuacao Gramatical', 'diversidade lexical', 'diversidade tematica',  'Tamanho', 'Versos']]\n",
    "y = dataset_complexidade['Complexidade']"
   ]
  },
  {
   "cell_type": "markdown",
   "id": "6063a838-5d91-449e-ba61-71e1c50e4ebb",
   "metadata": {},
   "source": [
    "Treinando o modelo:"
   ]
  },
  {
   "cell_type": "code",
   "execution_count": null,
   "id": "25e9d8a7-db8b-4167-8728-378d27dc1ea3",
   "metadata": {},
   "outputs": [],
   "source": [
    "model = RandomForestClassifier()\n",
    "model.fit(X, y)"
   ]
  },
  {
   "cell_type": "markdown",
   "id": "e2990ec1-e8a5-40db-b152-a265f0fa7260",
   "metadata": {},
   "source": [
    "### Passo 4 - Classificar o dataset"
   ]
  },
  {
   "cell_type": "markdown",
   "id": "b5c3179a-c47b-4bb3-a0f2-b26b951ec1c8",
   "metadata": {},
   "source": [
    "Definir as colunas que serão classificadas:"
   ]
  },
  {
   "cell_type": "code",
   "execution_count": 176,
   "id": "ebab3ba9-d5b3-41c0-9830-fe752e1d10d3",
   "metadata": {},
   "outputs": [],
   "source": [
    "X_novo = df[['Silabas', 'Frequencia', 'Pontuacao Gramatical', 'diversidade lexical', 'diversidade tematica',  'Tamanho', 'Versos']]"
   ]
  },
  {
   "cell_type": "markdown",
   "id": "9aba8fc1-fd38-401e-8c06-cd4b55ec9c8e",
   "metadata": {},
   "source": [
    "Classificar:"
   ]
  },
  {
   "cell_type": "code",
   "execution_count": 177,
   "id": "3e25df65-3478-4cbc-9760-5689cebcb2d9",
   "metadata": {},
   "outputs": [],
   "source": [
    "y_pred_novo = model.predict(X_novo)"
   ]
  },
  {
   "cell_type": "markdown",
   "id": "6efcfc85-dea6-43af-ba38-126e4bfcd916",
   "metadata": {},
   "source": [
    "### Passo 5 - Criar coluna complexidade:"
   ]
  },
  {
   "cell_type": "code",
   "execution_count": null,
   "id": "71ad6c44-c775-4e13-90e8-c339810f205b",
   "metadata": {},
   "outputs": [],
   "source": [
    "df['Complexidade'] = y_pred_novo"
   ]
  },
  {
   "cell_type": "markdown",
   "id": "42ce3f22-7104-405e-82a0-d7dc7af6a8fb",
   "metadata": {},
   "source": [
    "## 5 - Resultados:"
   ]
  },
  {
   "cell_type": "code",
   "execution_count": 180,
   "id": "00c7cd6a-c395-49e2-afed-690c2251e9df",
   "metadata": {},
   "outputs": [
    {
     "data": {
      "text/html": [
       "<div>\n",
       "<style scoped>\n",
       "    .dataframe tbody tr th:only-of-type {\n",
       "        vertical-align: middle;\n",
       "    }\n",
       "\n",
       "    .dataframe tbody tr th {\n",
       "        vertical-align: top;\n",
       "    }\n",
       "\n",
       "    .dataframe thead th {\n",
       "        text-align: right;\n",
       "    }\n",
       "</style>\n",
       "<table border=\"1\" class=\"dataframe\">\n",
       "  <thead>\n",
       "    <tr style=\"text-align: right;\">\n",
       "      <th></th>\n",
       "      <th>artist</th>\n",
       "      <th>track_name</th>\n",
       "      <th>lyrics</th>\n",
       "      <th>genre</th>\n",
       "      <th>letras_limpas</th>\n",
       "      <th>Silabas</th>\n",
       "      <th>Frequencia</th>\n",
       "      <th>Pontuacao Gramatical</th>\n",
       "      <th>diversidade lexical</th>\n",
       "      <th>diversidade tematica</th>\n",
       "      <th>Tamanho</th>\n",
       "      <th>Versos</th>\n",
       "      <th>Complexidade</th>\n",
       "    </tr>\n",
       "  </thead>\n",
       "  <tbody>\n",
       "    <tr>\n",
       "      <th>0</th>\n",
       "      <td>abba</td>\n",
       "      <td>0 - Ahe's My Kind Of Girl</td>\n",
       "      <td>Look at her face, it's a wonderful face  \\nAnd...</td>\n",
       "      <td>pop</td>\n",
       "      <td>Look at her face, it's a wonderful face   And ...</td>\n",
       "      <td>0.0</td>\n",
       "      <td>0.457516</td>\n",
       "      <td>0.71</td>\n",
       "      <td>5.837445</td>\n",
       "      <td>0.764428</td>\n",
       "      <td>153</td>\n",
       "      <td>1.333333</td>\n",
       "      <td>0</td>\n",
       "    </tr>\n",
       "    <tr>\n",
       "      <th>1</th>\n",
       "      <td>abba</td>\n",
       "      <td>1 - Andante, Andante</td>\n",
       "      <td>Take it easy with me, please  \\nTouch me gentl...</td>\n",
       "      <td>pop</td>\n",
       "      <td>Take it easy with me, please   Touch me gently...</td>\n",
       "      <td>0.0</td>\n",
       "      <td>0.307692</td>\n",
       "      <td>1.32</td>\n",
       "      <td>5.212912</td>\n",
       "      <td>0.634446</td>\n",
       "      <td>260</td>\n",
       "      <td>2.136364</td>\n",
       "      <td>0</td>\n",
       "    </tr>\n",
       "    <tr>\n",
       "      <th>2</th>\n",
       "      <td>abba</td>\n",
       "      <td>2 - As Good As New</td>\n",
       "      <td>I'll never know why I had to go  \\nWhy I had t...</td>\n",
       "      <td>pop</td>\n",
       "      <td>I'll never know why I had to go   Why I had to...</td>\n",
       "      <td>0.0</td>\n",
       "      <td>0.362179</td>\n",
       "      <td>1.74</td>\n",
       "      <td>5.530054</td>\n",
       "      <td>0.683882</td>\n",
       "      <td>312</td>\n",
       "      <td>1.434783</td>\n",
       "      <td>0</td>\n",
       "    </tr>\n",
       "    <tr>\n",
       "      <th>3</th>\n",
       "      <td>abba</td>\n",
       "      <td>3 - Bang</td>\n",
       "      <td>Making somebody happy is a question of give an...</td>\n",
       "      <td>pop</td>\n",
       "      <td>Making somebody happy is a question of give an...</td>\n",
       "      <td>0.0</td>\n",
       "      <td>0.440000</td>\n",
       "      <td>1.03</td>\n",
       "      <td>4.058497</td>\n",
       "      <td>0.651607</td>\n",
       "      <td>200</td>\n",
       "      <td>1.307692</td>\n",
       "      <td>0</td>\n",
       "    </tr>\n",
       "    <tr>\n",
       "      <th>4</th>\n",
       "      <td>abba</td>\n",
       "      <td>4 - Bang-A-Boomerang</td>\n",
       "      <td>Making somebody happy is a question of give an...</td>\n",
       "      <td>pop</td>\n",
       "      <td>Making somebody happy is a question of give an...</td>\n",
       "      <td>0.0</td>\n",
       "      <td>0.454545</td>\n",
       "      <td>1.06</td>\n",
       "      <td>3.989458</td>\n",
       "      <td>0.664232</td>\n",
       "      <td>198</td>\n",
       "      <td>1.307692</td>\n",
       "      <td>0</td>\n",
       "    </tr>\n",
       "  </tbody>\n",
       "</table>\n",
       "</div>"
      ],
      "text/plain": [
       "  artist                 track_name  \\\n",
       "0   abba  0 - Ahe's My Kind Of Girl   \n",
       "1   abba       1 - Andante, Andante   \n",
       "2   abba         2 - As Good As New   \n",
       "3   abba                   3 - Bang   \n",
       "4   abba       4 - Bang-A-Boomerang   \n",
       "\n",
       "                                              lyrics genre  \\\n",
       "0  Look at her face, it's a wonderful face  \\nAnd...   pop   \n",
       "1  Take it easy with me, please  \\nTouch me gentl...   pop   \n",
       "2  I'll never know why I had to go  \\nWhy I had t...   pop   \n",
       "3  Making somebody happy is a question of give an...   pop   \n",
       "4  Making somebody happy is a question of give an...   pop   \n",
       "\n",
       "                                       letras_limpas  Silabas  Frequencia  \\\n",
       "0  Look at her face, it's a wonderful face   And ...      0.0    0.457516   \n",
       "1  Take it easy with me, please   Touch me gently...      0.0    0.307692   \n",
       "2  I'll never know why I had to go   Why I had to...      0.0    0.362179   \n",
       "3  Making somebody happy is a question of give an...      0.0    0.440000   \n",
       "4  Making somebody happy is a question of give an...      0.0    0.454545   \n",
       "\n",
       "   Pontuacao Gramatical  diversidade lexical  diversidade tematica  Tamanho  \\\n",
       "0                  0.71             5.837445              0.764428      153   \n",
       "1                  1.32             5.212912              0.634446      260   \n",
       "2                  1.74             5.530054              0.683882      312   \n",
       "3                  1.03             4.058497              0.651607      200   \n",
       "4                  1.06             3.989458              0.664232      198   \n",
       "\n",
       "     Versos  Complexidade  \n",
       "0  1.333333             0  \n",
       "1  2.136364             0  \n",
       "2  1.434783             0  \n",
       "3  1.307692             0  \n",
       "4  1.307692             0  "
      ]
     },
     "execution_count": 180,
     "metadata": {},
     "output_type": "execute_result"
    }
   ],
   "source": [
    "df.head(5)"
   ]
  },
  {
   "cell_type": "code",
   "execution_count": 182,
   "id": "6d683cb1-54d1-4692-bd7e-8f374036f5a7",
   "metadata": {},
   "outputs": [
    {
     "data": {
      "text/html": [
       "<div>\n",
       "<style scoped>\n",
       "    .dataframe tbody tr th:only-of-type {\n",
       "        vertical-align: middle;\n",
       "    }\n",
       "\n",
       "    .dataframe tbody tr th {\n",
       "        vertical-align: top;\n",
       "    }\n",
       "\n",
       "    .dataframe thead th {\n",
       "        text-align: right;\n",
       "    }\n",
       "</style>\n",
       "<table border=\"1\" class=\"dataframe\">\n",
       "  <thead>\n",
       "    <tr style=\"text-align: right;\">\n",
       "      <th></th>\n",
       "      <th>artist</th>\n",
       "      <th>track_name</th>\n",
       "      <th>lyrics</th>\n",
       "      <th>genre</th>\n",
       "      <th>letras_limpas</th>\n",
       "      <th>Silabas</th>\n",
       "      <th>Frequencia</th>\n",
       "      <th>Pontuacao Gramatical</th>\n",
       "      <th>diversidade lexical</th>\n",
       "      <th>diversidade tematica</th>\n",
       "      <th>Tamanho</th>\n",
       "      <th>Versos</th>\n",
       "      <th>Complexidade</th>\n",
       "    </tr>\n",
       "  </thead>\n",
       "  <tbody>\n",
       "    <tr>\n",
       "      <th>5</th>\n",
       "      <td>abba</td>\n",
       "      <td>5 - Burning My Bridges</td>\n",
       "      <td>Well, you hoot and you holler and you make me ...</td>\n",
       "      <td>pop</td>\n",
       "      <td>Well, you hoot and you holler and you make me ...</td>\n",
       "      <td>0.0</td>\n",
       "      <td>0.706422</td>\n",
       "      <td>0.57</td>\n",
       "      <td>5.631606</td>\n",
       "      <td>1.096166</td>\n",
       "      <td>109</td>\n",
       "      <td>1.000000</td>\n",
       "      <td>1</td>\n",
       "    </tr>\n",
       "    <tr>\n",
       "      <th>16</th>\n",
       "      <td>abba</td>\n",
       "      <td>16 - Eagle</td>\n",
       "      <td>They came flying from far away, now I'm under ...</td>\n",
       "      <td>pop</td>\n",
       "      <td>They came flying from far away, now I'm under ...</td>\n",
       "      <td>0.0</td>\n",
       "      <td>0.475676</td>\n",
       "      <td>0.88</td>\n",
       "      <td>5.209289</td>\n",
       "      <td>1.544210</td>\n",
       "      <td>185</td>\n",
       "      <td>1.157895</td>\n",
       "      <td>1</td>\n",
       "    </tr>\n",
       "    <tr>\n",
       "      <th>19</th>\n",
       "      <td>abba</td>\n",
       "      <td>19 - Fernando (In Spanish)</td>\n",
       "      <td>Puedes escuchar Fernando?  \\nMe recuerda tiemp...</td>\n",
       "      <td>pop</td>\n",
       "      <td>Puedes escuchar Fernando?   Me recuerda tiempo...</td>\n",
       "      <td>0.0</td>\n",
       "      <td>0.411290</td>\n",
       "      <td>0.48</td>\n",
       "      <td>1.824383</td>\n",
       "      <td>1.648245</td>\n",
       "      <td>248</td>\n",
       "      <td>1.705882</td>\n",
       "      <td>1</td>\n",
       "    </tr>\n",
       "    <tr>\n",
       "      <th>25</th>\n",
       "      <td>abba</td>\n",
       "      <td>25 - Hamlet III</td>\n",
       "      <td>When the autumn leaves are falling to the grou...</td>\n",
       "      <td>pop</td>\n",
       "      <td>When the autumn leaves are falling to the grou...</td>\n",
       "      <td>0.0</td>\n",
       "      <td>0.686441</td>\n",
       "      <td>0.56</td>\n",
       "      <td>5.301298</td>\n",
       "      <td>1.130781</td>\n",
       "      <td>118</td>\n",
       "      <td>1.066667</td>\n",
       "      <td>1</td>\n",
       "    </tr>\n",
       "    <tr>\n",
       "      <th>35</th>\n",
       "      <td>abba</td>\n",
       "      <td>35 - I Am The City</td>\n",
       "      <td>i am the city, you let me be  \\ni am the city ...</td>\n",
       "      <td>pop</td>\n",
       "      <td>i am the city, you let me be   i am the city  ...</td>\n",
       "      <td>0.0</td>\n",
       "      <td>0.266784</td>\n",
       "      <td>2.32</td>\n",
       "      <td>6.345047</td>\n",
       "      <td>1.210742</td>\n",
       "      <td>566</td>\n",
       "      <td>2.026316</td>\n",
       "      <td>1</td>\n",
       "    </tr>\n",
       "    <tr>\n",
       "      <th>46</th>\n",
       "      <td>abba</td>\n",
       "      <td>46 - Just A Notion</td>\n",
       "      <td>Just a notion that's all  \\nJust a feeling tha...</td>\n",
       "      <td>pop</td>\n",
       "      <td>Just a notion that's all   Just a feeling that...</td>\n",
       "      <td>0.0</td>\n",
       "      <td>0.711340</td>\n",
       "      <td>0.54</td>\n",
       "      <td>6.000513</td>\n",
       "      <td>1.031703</td>\n",
       "      <td>97</td>\n",
       "      <td>1.058824</td>\n",
       "      <td>1</td>\n",
       "    </tr>\n",
       "  </tbody>\n",
       "</table>\n",
       "</div>"
      ],
      "text/plain": [
       "   artist                  track_name  \\\n",
       "5    abba      5 - Burning My Bridges   \n",
       "16   abba                  16 - Eagle   \n",
       "19   abba  19 - Fernando (In Spanish)   \n",
       "25   abba             25 - Hamlet III   \n",
       "35   abba          35 - I Am The City   \n",
       "46   abba          46 - Just A Notion   \n",
       "\n",
       "                                               lyrics genre  \\\n",
       "5   Well, you hoot and you holler and you make me ...   pop   \n",
       "16  They came flying from far away, now I'm under ...   pop   \n",
       "19  Puedes escuchar Fernando?  \\nMe recuerda tiemp...   pop   \n",
       "25  When the autumn leaves are falling to the grou...   pop   \n",
       "35  i am the city, you let me be  \\ni am the city ...   pop   \n",
       "46  Just a notion that's all  \\nJust a feeling tha...   pop   \n",
       "\n",
       "                                        letras_limpas  Silabas  Frequencia  \\\n",
       "5   Well, you hoot and you holler and you make me ...      0.0    0.706422   \n",
       "16  They came flying from far away, now I'm under ...      0.0    0.475676   \n",
       "19  Puedes escuchar Fernando?   Me recuerda tiempo...      0.0    0.411290   \n",
       "25  When the autumn leaves are falling to the grou...      0.0    0.686441   \n",
       "35  i am the city, you let me be   i am the city  ...      0.0    0.266784   \n",
       "46  Just a notion that's all   Just a feeling that...      0.0    0.711340   \n",
       "\n",
       "    Pontuacao Gramatical  diversidade lexical  diversidade tematica  Tamanho  \\\n",
       "5                   0.57             5.631606              1.096166      109   \n",
       "16                  0.88             5.209289              1.544210      185   \n",
       "19                  0.48             1.824383              1.648245      248   \n",
       "25                  0.56             5.301298              1.130781      118   \n",
       "35                  2.32             6.345047              1.210742      566   \n",
       "46                  0.54             6.000513              1.031703       97   \n",
       "\n",
       "      Versos  Complexidade  \n",
       "5   1.000000             1  \n",
       "16  1.157895             1  \n",
       "19  1.705882             1  \n",
       "25  1.066667             1  \n",
       "35  2.026316             1  \n",
       "46  1.058824             1  "
      ]
     },
     "execution_count": 182,
     "metadata": {},
     "output_type": "execute_result"
    }
   ],
   "source": [
    "df.loc[df[\"Complexidade\"] > 0]"
   ]
  },
  {
   "cell_type": "code",
   "execution_count": null,
   "id": "bda89742-f5c8-437e-bfd6-e1cbd47fc340",
   "metadata": {},
   "outputs": [],
   "source": []
  }
 ],
 "metadata": {
  "kernelspec": {
   "display_name": "Python 3 (ipykernel)",
   "language": "python",
   "name": "python3"
  },
  "language_info": {
   "codemirror_mode": {
    "name": "ipython",
    "version": 3
   },
   "file_extension": ".py",
   "mimetype": "text/x-python",
   "name": "python",
   "nbconvert_exporter": "python",
   "pygments_lexer": "ipython3",
   "version": "3.12.4"
  }
 },
 "nbformat": 4,
 "nbformat_minor": 5
}

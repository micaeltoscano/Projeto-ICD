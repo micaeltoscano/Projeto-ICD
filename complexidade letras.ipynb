{
 "cells": [
  {
   "cell_type": "markdown",
   "id": "6fe892d1-c949-4505-83b9-c3d15cfa4f53",
   "metadata": {},
   "source": [
    "# Classificando complexidade de letras de músicas"
   ]
  },
  {
   "cell_type": "markdown",
   "id": "d3988aff-c666-411e-ae9a-6d0ecbf76f0b",
   "metadata": {},
   "source": [
    "### Critérios: \n",
    "Para analisar a dificuldade das letras, uma das abordagens seria analisar palavra por palavra da música e analisar: <br> <br>\n",
    "1 - Número de sílabas. <br> \n",
    ". Palavras com diversas sílabas costumam ser mais complexas, tanto para compreensão quanto para a pronúncia. <br> <br>\n",
    "2 - Diversidade semântica. <br> \n",
    ". Palavras com diversos significados podem ser mais difíceis, pois há uma gama de significados para elas <br> <br>\n",
    "3 - Frequência. <br> \n",
    ". Palavras que aparecem menos nos textos podem ser consideradas mais difíceis. <br><br>\n",
    "4 - Uso de gírias e jargões <br> <br>\n",
    "5 - Análise gramatical <br>\n",
    ". Exemplo: frases que contêm muitos gerúndios são mais coloquiais e frases que possuem mais conjuções subordinadas são mais formais\n"
   ]
  },
  {
   "cell_type": "markdown",
   "id": "eb1a2b20-9c58-46d2-9870-52a33ff2178d",
   "metadata": {},
   "source": [
    "### Utilizando NLTK:"
   ]
  },
  {
   "cell_type": "markdown",
   "id": "4eca4dde-9be7-4ec8-ac73-df4ae7e6dbfd",
   "metadata": {},
   "source": [
    "#### Para número de sílabas:"
   ]
  },
  {
   "cell_type": "code",
   "execution_count": null,
   "id": "fc3fcc5d-1bbd-4ffc-b546-2139a3e709bc",
   "metadata": {},
   "outputs": [],
   "source": []
  }
 ],
 "metadata": {
  "kernelspec": {
   "display_name": "Python 3 (ipykernel)",
   "language": "python",
   "name": "python3"
  },
  "language_info": {
   "codemirror_mode": {
    "name": "ipython",
    "version": 3
   },
   "file_extension": ".py",
   "mimetype": "text/x-python",
   "name": "python",
   "nbconvert_exporter": "python",
   "pygments_lexer": "ipython3",
   "version": "3.12.4"
  }
 },
 "nbformat": 4,
 "nbformat_minor": 5
}

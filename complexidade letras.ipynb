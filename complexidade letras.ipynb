{
 "cells": [
  {
   "cell_type": "markdown",
   "id": "6fe892d1-c949-4505-83b9-c3d15cfa4f53",
   "metadata": {},
   "source": [
    "# Classificando complexidade de letras de músicas"
   ]
  },
  {
   "cell_type": "markdown",
   "id": "d3988aff-c666-411e-ae9a-6d0ecbf76f0b",
   "metadata": {},
   "source": [
    "### Critérios: \n",
    "Para analisar a dificuldade das letras, uma das abordagens seria analisar palavra por palavra da música e analisar: <br> <br>\n",
    "1 - Número de sílabas. <br> \n",
    ". Palavras com diversas sílabas costumam ser mais complexas, tanto para compreensão quanto para a pronúncia. <br> <br>\n",
    "2 - Diversidade semântica. <br> \n",
    ". Palavras com diversos significados podem ser mais difíceis, pois há uma gama de significados para elas <br> <br>\n",
    "3 - Frequência. <br> \n",
    ". Palavras que aparecem menos nos textos podem ser consideradas mais difíceis. <br><br>\n",
    "4 - Uso de gírias e jargões <br> <br>\n",
    "5 - Análise gramatical <br>\n",
    ". Exemplo: frases que contêm muitos gerúndios são mais coloquiais e frases que possuem mais conjuções subordinadas são mais formais\n"
   ]
  },
  {
   "cell_type": "markdown",
   "id": "eb1a2b20-9c58-46d2-9870-52a33ff2178d",
   "metadata": {},
   "source": [
    "### Ferramentas:"
   ]
  },
  {
   "cell_type": "markdown",
   "id": "4eca4dde-9be7-4ec8-ac73-df4ae7e6dbfd",
   "metadata": {},
   "source": [
    "#### Textstat - para número de sílabas:"
   ]
  },
  {
   "cell_type": "code",
   "execution_count": 6,
   "id": "fc3fcc5d-1bbd-4ffc-b546-2139a3e709bc",
   "metadata": {},
   "outputs": [],
   "source": [
    "import textstat as tst\n",
    "import pandas as pd"
   ]
  },
  {
   "cell_type": "code",
   "execution_count": 7,
   "id": "501f1e68-5b47-4c7a-acc4-bc70b897a45c",
   "metadata": {},
   "outputs": [],
   "source": [
    "df = pd.read_csv(\"tcc_ceds_music.csv\")"
   ]
  },
  {
   "cell_type": "markdown",
   "id": "f0c4eb37-98e7-4447-897c-d046f8ebba2b",
   "metadata": {},
   "source": [
    "A textstat tem uma funcão chamada: \"syllable_count()\" que conta a quantidade de sílabas em uma palavra. Exemplo:"
   ]
  },
  {
   "cell_type": "code",
   "execution_count": 33,
   "id": "7488093c-ea94-46f2-a64c-8a4465c4c1ec",
   "metadata": {},
   "outputs": [],
   "source": [
    "dic = {}\n",
    "\n",
    "primeira_letra = df.lyrics[0] \n",
    "lista_palavras = primeira_letra.split(\" \")\n",
    "for palavra in lista_palavras:\n",
    "    if palavra not in dic:\n",
    "        dic[palavra] = tst.syllable_count(palavra)"
   ]
  },
  {
   "cell_type": "markdown",
   "id": "0a4b8075-4473-4930-965f-72bbac72fd80",
   "metadata": {},
   "source": [
    "Neste exemplo, peguei a primeira letra musical como exemplo. Para que cada palavra fosse lida individualmente, usei o split e apliquei em um for, adicionando-as em um dicionário."
   ]
  },
  {
   "cell_type": "markdown",
   "id": "1d2d9f6b-9bd9-4ea5-b5f0-96afac6e5f6c",
   "metadata": {},
   "source": [
    "#### Implementando para o projeto:"
   ]
  },
  {
   "cell_type": "markdown",
   "id": "605ca034-7163-43d6-87e2-00a7f2f49b07",
   "metadata": {},
   "source": [
    "Para a implementação no projeto, criei um dicionário que tem como key o nome da música e como value a quantidade de sílabas que cada palavra da letra da música tem:"
   ]
  },
  {
   "cell_type": "code",
   "execution_count": 3,
   "id": "a38e5196-01fc-41b6-92c4-cde7a2e36ecf",
   "metadata": {},
   "outputs": [],
   "source": [
    "dic = {df.track_name[n]: {} for n in range(len(df))} \n",
    "\n",
    "for n in range(len(df)):\n",
    "    lista = df.lyrics[n].split(\" \")\n",
    "    for palavra in lista:\n",
    "        if palavra not in dic[df.track_name[n]]:\n",
    "            dic[df.track_name[n]][palavra] = tst.syllable_count(palavra)"
   ]
  },
  {
   "cell_type": "markdown",
   "id": "b2ea85ca-499f-4f76-a12e-575b45ea0150",
   "metadata": {},
   "source": [
    "Com isso feito, buscaremos as palavras que contém mais de 5 sílabas e as adicionaremos em um dicionário:"
   ]
  },
  {
   "cell_type": "code",
   "execution_count": 4,
   "id": "7529f15b-5879-4408-964b-fc98ccc80ea0",
   "metadata": {},
   "outputs": [],
   "source": [
    "musicas_silabas_complexas = {}\n",
    "\n",
    "for nome_musica, palavras in dic.items():\n",
    "    for palavra, silabas in palavras.items():\n",
    "        if silabas >= 6:\n",
    "            if not any(palavra.count(letra) >= 4 for letra in set(palavra)): \n",
    "                if nome_musica not in musicas_silabas_complexas:\n",
    "                    musicas_silabas_complexas[nome_musica] = 1\n",
    "                else:\n",
    "                    musicas_silabas_complexas[nome_musica] += 1"
   ]
  },
  {
   "cell_type": "code",
   "execution_count": 5,
   "id": "3af2c4c6-512a-448c-b5bb-919321ebf42d",
   "metadata": {},
   "outputs": [
    {
     "data": {
      "text/plain": [
       "{'automatically sunshine': 1,\n",
       " 'lost in music': 1,\n",
       " 'the jezebel spirit': 1,\n",
       " 'i dreamed i dream': 1,\n",
       " \"crumblin' down\": 1,\n",
       " 'the finer things': 2,\n",
       " 'check it out': 1,\n",
       " \"i just can't stop loving you (feat. siedah garrett)\": 1,\n",
       " 'boys to men': 1,\n",
       " \"who's gonna take the weight?\": 1,\n",
       " 'the longest line': 1,\n",
       " 'oh my god': 1,\n",
       " \"don't call me white\": 1,\n",
       " 'excuse me mr.': 1,\n",
       " 'e.t. (extraterrestrial)': 1,\n",
       " \"it's my job to keep punk rock elite\": 1,\n",
       " \"don't you forget it\": 1,\n",
       " 'harder to breathe': 1,\n",
       " 'trap star': 1,\n",
       " 'unappreciated': 2,\n",
       " 'straight to the bank': 1,\n",
       " 'in my dreams (cudder anthem)': 1,\n",
       " 'of the soul': 1,\n",
       " 'satellite': 1,\n",
       " 'one and only': 1,\n",
       " 'king': 1,\n",
       " 'unconditionally': 1,\n",
       " 'objects in the mirror': 1,\n",
       " 'gdfr (feat. sage the gemini & lookas)': 1,\n",
       " 'studio': 1,\n",
       " 'be there for me baby': 1,\n",
       " \"guv'ment\": 1,\n",
       " 'anodyne': 1,\n",
       " 'half the man': 1,\n",
       " 'goodbye says it all': 1,\n",
       " \"19 somethin'\": 1,\n",
       " \"i keep on lovin' you\": 1,\n",
       " 'marley': 1,\n",
       " 'traveler': 1,\n",
       " 'let me explain': 1,\n",
       " 'dreaming': 1,\n",
       " 'the death of j.b. lenoir': 1,\n",
       " 'it takes two': 1,\n",
       " 'baby let me take you (in my arms)': 1,\n",
       " 'no way': 1,\n",
       " 'no baloney homosapiens': 1,\n",
       " 'live in peace': 1,\n",
       " 'the man whose head expanded': 1,\n",
       " 'wilson': 1,\n",
       " 'freedom for my people': 1,\n",
       " 'buried alive': 1,\n",
       " 'the monkey time': 1,\n",
       " 'free love': 1,\n",
       " 'yes, we have no bananas': 1,\n",
       " 'shout bamalama': 1,\n",
       " 'how about you?': 1,\n",
       " 'cirkus (including entry of the chameleons)': 1,\n",
       " 'little ghetto boy': 1,\n",
       " 'skyscrapers': 1,\n",
       " \"the ghetto '74\": 1,\n",
       " 'hey, uh, what you say come on': 1,\n",
       " 'the central scrutinizer': 1,\n",
       " \"he'll have to go\": 1,\n",
       " 'david': 1,\n",
       " 'the mammy nuns': 1,\n",
       " 'korgüll the exterminator': 1,\n",
       " 'subordinate to the domination': 1,\n",
       " 'out of the night': 1,\n",
       " 'paralyzing ignorance': 1,\n",
       " 'bodily corrupted': 1,\n",
       " 'from beyond': 1,\n",
       " \"it's like that\": 1,\n",
       " 'ballerina': 2,\n",
       " 'worldwide': 1,\n",
       " 'new millennium cyanide christ': 1,\n",
       " 'suntoucher': 1,\n",
       " 'sao paulo': 2,\n",
       " 'spasm': 1,\n",
       " 'scuba': 1,\n",
       " 'le vicomte': 1,\n",
       " 'que sera': 1,\n",
       " 'pravus': 1,\n",
       " 'the eraser': 1,\n",
       " 'lift off / mic check': 1,\n",
       " '14 til': 1,\n",
       " 'dlp 1.1': 1,\n",
       " 'this painted world': 1,\n",
       " 'use ya mnd (twentyfourseven)': 1,\n",
       " \"i'll be searching (for you)\": 1,\n",
       " 'spinning dub': 1,\n",
       " 'only jah jah know': 1,\n",
       " 'zimbabwe': 1,\n",
       " 'peace throughout the world': 1,\n",
       " 'bongo red': 1,\n",
       " 'babylon get rude': 1,\n",
       " 'man fi dead': 1,\n",
       " 'one world (not three)': 1,\n",
       " 'rastas': 1,\n",
       " \"nothing's changed\": 1,\n",
       " 'young revolutionaries': 1,\n",
       " 'so ladies': 1,\n",
       " 'make us one': 1,\n",
       " 'black & proud': 1,\n",
       " 'evolution': 1,\n",
       " 'mindspin': 1,\n",
       " 'music is life': 1,\n",
       " 'nesian style': 1,\n",
       " 'jah atmosphere': 2,\n",
       " 'judge not': 1,\n",
       " 'no wood': 1,\n",
       " 'a thousand years ago': 1,\n",
       " 'sacrifice': 1,\n",
       " 'the rain': 1,\n",
       " 'global war': 1,\n",
       " 'square circles (feat. matisyahu)': 1,\n",
       " 'wise dub': 1,\n",
       " 'liberal opposer': 2,\n",
       " 'time (feat. corey harris & ranking joe)': 2,\n",
       " 'traveller': 1,\n",
       " 'simplicity': 1,\n",
       " 'riddim hold dem': 1,\n",
       " '...a livication': 1,\n",
       " 'camera show': 1,\n",
       " 'thank the rebels': 1,\n",
       " 'overpowered by funk': 1,\n",
       " 'know your rights': 1,\n",
       " 'necrophobic': 1,\n",
       " 'hairdresser on fire': 2,\n",
       " 'sludge factory': 1,\n",
       " 'super charger heaven': 1,\n",
       " 'irresponsible hate anthem': 1,\n",
       " \"i'll see you when we're both not so emotional\": 1,\n",
       " 'juggalo homies': 1,\n",
       " 'breath control': 1,\n",
       " 'k.i.s.s. (keep it simple stupid)': 1,\n",
       " 'money machine': 1,\n",
       " 'it takes two (re-recorded)': 1,\n",
       " \"shit's real\": 1,\n",
       " \"i'm riffin\": 1,\n",
       " 'flubber (watch out!)': 1,\n",
       " 'hip-hop': 1,\n",
       " 'ego trippin\\' (12\" version)': 1,\n",
       " 'funky for you': 2,\n",
       " 'when i b on tha mic': 1}"
      ]
     },
     "execution_count": 5,
     "metadata": {},
     "output_type": "execute_result"
    }
   ],
   "source": [
    "musicas_silabas_complexas"
   ]
  },
  {
   "cell_type": "markdown",
   "id": "109b24dd-c9a2-46c2-b4bf-26e6e4359573",
   "metadata": {},
   "source": [
    "Agora, adicionaremos a quantidade de palavras complexas que cada música tem no dataset:"
   ]
  },
  {
   "cell_type": "code",
   "execution_count": 120,
   "id": "e26e85a5-98dc-41a3-8e1f-6b8caa95b2ca",
   "metadata": {},
   "outputs": [],
   "source": [
    "df['contagem_palavras_complexas'] = df['track_name'].map(musicas_silabas_complexas).fillna(0)"
   ]
  },
  {
   "cell_type": "markdown",
   "id": "dc9d461d-133e-4b8b-b70e-76a84d9b4d57",
   "metadata": {},
   "source": [
    "#### Problema: \n",
    "Músicas com nomes iguais recebem o mesmo valor"
   ]
  },
  {
   "cell_type": "code",
   "execution_count": 125,
   "id": "112e6f94-a344-47c8-8552-33bcfe9f41a8",
   "metadata": {},
   "outputs": [
    {
     "data": {
      "text/plain": [
       "3309     2.0\n",
       "19611    2.0\n",
       "Name: contagem_palavras_complexas, dtype: float64"
      ]
     },
     "execution_count": 125,
     "metadata": {},
     "output_type": "execute_result"
    }
   ],
   "source": [
    "df.loc[df[\"track_name\"] == \"the finer things\"][\"contagem_palavras_complexas\"]"
   ]
  },
  {
   "cell_type": "markdown",
   "id": "23f4bfcc-9dbb-4871-bc7a-f94c0f29189e",
   "metadata": {},
   "source": [
    "Para resolver, posso incluir o índice da música no dicionário para garantir que seja única, então corrigindo:"
   ]
  },
  {
   "cell_type": "code",
   "execution_count": 19,
   "id": "4a6ac6db-d597-46cd-9531-3397b1913333",
   "metadata": {},
   "outputs": [],
   "source": [
    "df.track_name = [f\"{df.track_name[n]}_{n}\" for n in range(len(df))]"
   ]
  },
  {
   "cell_type": "code",
   "execution_count": 24,
   "id": "095620bf-d739-4c53-ba70-dce706ea45d7",
   "metadata": {},
   "outputs": [
    {
     "data": {
      "text/plain": [
       "0                     mohabbat bhi jhoothi_0\n",
       "1                                i believe_1\n",
       "2                                      cry_2\n",
       "3                                 patricia_3\n",
       "4                       apopse eida oneiro_4\n",
       "                        ...                 \n",
       "28367                  10 million ways_28367\n",
       "28368    ante up (robbin hoodz theory)_28368\n",
       "28369                    whutcha want?_28369\n",
       "28370                           switch_28370\n",
       "28371                           r.i.p._28371\n",
       "Name: track_name, Length: 28372, dtype: object"
      ]
     },
     "execution_count": 24,
     "metadata": {},
     "output_type": "execute_result"
    }
   ],
   "source": [
    "df.track_name"
   ]
  },
  {
   "cell_type": "code",
   "execution_count": 20,
   "id": "b641c303-9746-4b71-a2c6-af6876594491",
   "metadata": {},
   "outputs": [],
   "source": [
    "dic = {df.track_name[n]: {} for n in range(len(df))} \n",
    "\n",
    "for n in range(len(df)):\n",
    "    lista = df.lyrics[n].split(\" \")\n",
    "    for palavra in lista:\n",
    "        if palavra not in dic[df.track_name[n]]:\n",
    "            dic[df.track_name[n]][palavra] = tst.syllable_count(palavra)\n",
    "\n",
    "musicas_silabas_complexas = {}\n",
    "\n",
    "for nome_musica, palavras in dic.items():\n",
    "    for palavra, silabas in palavras.items():\n",
    "        if silabas >= 6:\n",
    "            if not any(palavra.count(letra) >= 4 for letra in set(palavra)): \n",
    "                if nome_musica not in musicas_silabas_complexas:\n",
    "                    musicas_silabas_complexas[nome_musica] = 1\n",
    "                else:\n",
    "                    musicas_silabas_complexas[nome_musica] += 1"
   ]
  },
  {
   "cell_type": "code",
   "execution_count": 25,
   "id": "f27a266b-c2c3-4832-bc08-45509ea2a89d",
   "metadata": {},
   "outputs": [],
   "source": [
    "df['silabas'] = df['track_name'].map(musicas_silabas_complexas).fillna(0)"
   ]
  }
 ],
 "metadata": {
  "kernelspec": {
   "display_name": "Python 3 (ipykernel)",
   "language": "python",
   "name": "python3"
  },
  "language_info": {
   "codemirror_mode": {
    "name": "ipython",
    "version": 3
   },
   "file_extension": ".py",
   "mimetype": "text/x-python",
   "name": "python",
   "nbconvert_exporter": "python",
   "pygments_lexer": "ipython3",
   "version": "3.12.4"
  }
 },
 "nbformat": 4,
 "nbformat_minor": 5
}

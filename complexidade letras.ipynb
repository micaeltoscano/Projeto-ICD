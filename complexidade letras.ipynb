{
 "cells": [
  {
   "cell_type": "markdown",
   "id": "6fe892d1-c949-4505-83b9-c3d15cfa4f53",
   "metadata": {},
   "source": [
    "# Classificando complexidade de letras de músicas"
   ]
  },
  {
   "cell_type": "markdown",
   "id": "d3988aff-c666-411e-ae9a-6d0ecbf76f0b",
   "metadata": {},
   "source": [
    "### Critérios: \n",
    "Para analisar a dificuldade das letras, uma das abordagens seria analisar palavra por palavra da música e analisar: <br> <br>\n",
    "1 - Número de sílabas. <br> \n",
    ". Palavras com diversas sílabas costumam ser mais complexas, tanto para compreensão quanto para a pronúncia. <br> <br>\n",
    "2 - Diversidade semântica. <br> \n",
    ". Palavras com diversos significados podem ser mais difíceis, pois há uma gama de significados para elas <br> <br>\n",
    "3 - Frequência. <br> \n",
    ". Palavras que aparecem menos nos textos podem ser consideradas mais difíceis. <br><br>\n",
    "4 - Uso de gírias e jargões <br> <br>\n",
    "5 - Análise gramatical <br>\n",
    ". Exemplo: frases que contêm muitos gerúndios são mais coloquiais e frases que possuem mais conjuções subordinadas são mais formais\n"
   ]
  },
  {
   "cell_type": "markdown",
   "id": "eb1a2b20-9c58-46d2-9870-52a33ff2178d",
   "metadata": {},
   "source": [
    "### Ferramentas:"
   ]
  },
  {
   "cell_type": "markdown",
   "id": "4eca4dde-9be7-4ec8-ac73-df4ae7e6dbfd",
   "metadata": {},
   "source": [
    "#### Textstat - para número de sílabas:"
   ]
  },
  {
   "cell_type": "code",
   "execution_count": 10,
   "id": "fc3fcc5d-1bbd-4ffc-b546-2139a3e709bc",
   "metadata": {},
   "outputs": [],
   "source": [
    "import textstat as tst\n",
    "import pandas as pd"
   ]
  },
  {
   "cell_type": "code",
   "execution_count": 11,
   "id": "501f1e68-5b47-4c7a-acc4-bc70b897a45c",
   "metadata": {},
   "outputs": [],
   "source": [
    "df = pd.read_csv(\"tcc_ceds_music.csv\")"
   ]
  },
  {
   "cell_type": "markdown",
   "id": "f0c4eb37-98e7-4447-897c-d046f8ebba2b",
   "metadata": {},
   "source": [
    "A textstat tem uma funcão chamada: \"syllable_count()\" que conta a quantidade de sílabas em uma palavra. Exemplo:"
   ]
  },
  {
   "cell_type": "code",
   "execution_count": 33,
   "id": "7488093c-ea94-46f2-a64c-8a4465c4c1ec",
   "metadata": {},
   "outputs": [],
   "source": [
    "dic = {}\n",
    "\n",
    "primeira_letra = df.lyrics[0] \n",
    "lista_palavras = primeira_letra.split(\" \")\n",
    "for palavra in lista_palavras:\n",
    "    if palavra not in dic:\n",
    "        dic[palavra] = tst.syllable_count(palavra)"
   ]
  },
  {
   "cell_type": "markdown",
   "id": "0a4b8075-4473-4930-965f-72bbac72fd80",
   "metadata": {},
   "source": [
    "Neste exemplo, peguei a primeira letra musical como exemplo. Para que cada palavra fosse lida individualmente, usei o split e apliquei em um for, adicionando-as em um dicionário."
   ]
  },
  {
   "cell_type": "markdown",
   "id": "1d2d9f6b-9bd9-4ea5-b5f0-96afac6e5f6c",
   "metadata": {},
   "source": [
    "#### Implementando para o projeto:"
   ]
  },
  {
   "cell_type": "markdown",
   "id": "605ca034-7163-43d6-87e2-00a7f2f49b07",
   "metadata": {},
   "source": [
    "Para a implementação no projeto, criei um dicionário que tem como key o nome da música e como value a quantidade de sílabas que cada palavra da letra da música tem:"
   ]
  },
  {
   "cell_type": "code",
   "execution_count": 118,
   "id": "a38e5196-01fc-41b6-92c4-cde7a2e36ecf",
   "metadata": {},
   "outputs": [],
   "source": [
    "dic = {df.track_name[n]: {} for n in range(len(df))} \n",
    "\n",
    "for n in range(len(df)):\n",
    "    lista = df.lyrics[n].split(\" \")\n",
    "    for palavra in lista:\n",
    "        if palavra not in dic[df.track_name[n]]:\n",
    "            dic[df.track_name[n]][palavra] = tst.syllable_count(palavra)"
   ]
  },
  {
   "cell_type": "markdown",
   "id": "b2ea85ca-499f-4f76-a12e-575b45ea0150",
   "metadata": {},
   "source": [
    "Com isso feito, buscaremos as palavras que contém mais de 5 sílabas e as adicionaremos em um dicionário:"
   ]
  },
  {
   "cell_type": "code",
   "execution_count": 126,
   "id": "7529f15b-5879-4408-964b-fc98ccc80ea0",
   "metadata": {},
   "outputs": [],
   "source": [
    "musicas_silabas_complexas = {}\n",
    "\n",
    "for nome_musica, palavras in dic.items():\n",
    "    for palavra, silabas in palavras.items():\n",
    "        if silabas >= 6:\n",
    "            if not any(palavra.count(letra) >= 4 for letra in set(palavra)): \n",
    "                if nome_musica not in musicas_silabas_complexas:\n",
    "                    musicas_silabas_complexas[nome_musica] = 1\n",
    "                else:\n",
    "                    musicas_silabas_complexas[nome_musica] += 1"
   ]
  },
  {
   "cell_type": "markdown",
   "id": "109b24dd-c9a2-46c2-b4bf-26e6e4359573",
   "metadata": {},
   "source": [
    "Agora, adicionaremos a quantidade de palavras complexas que cada música tem no dataset:"
   ]
  },
  {
   "cell_type": "code",
   "execution_count": 120,
   "id": "e26e85a5-98dc-41a3-8e1f-6b8caa95b2ca",
   "metadata": {},
   "outputs": [],
   "source": [
    "df['contagem_palavras_complexas'] = df['track_name'].map(musicas_silabas_complexas).fillna(0)"
   ]
  },
  {
   "cell_type": "markdown",
   "id": "dc9d461d-133e-4b8b-b70e-76a84d9b4d57",
   "metadata": {},
   "source": [
    "#### Problema: \n",
    "Músicas com nomes iguais recebem o mesmo valor"
   ]
  },
  {
   "cell_type": "code",
   "execution_count": 125,
   "id": "112e6f94-a344-47c8-8552-33bcfe9f41a8",
   "metadata": {},
   "outputs": [
    {
     "data": {
      "text/plain": [
       "3309     2.0\n",
       "19611    2.0\n",
       "Name: contagem_palavras_complexas, dtype: float64"
      ]
     },
     "execution_count": 125,
     "metadata": {},
     "output_type": "execute_result"
    }
   ],
   "source": [
    "df.loc[df[\"track_name\"] == \"the finer things\"][\"contagem_palavras_complexas\"]"
   ]
  },
  {
   "cell_type": "code",
   "execution_count": null,
   "id": "1faeeae7-fe85-45ca-9b4e-a31a77c38345",
   "metadata": {},
   "outputs": [],
   "source": []
  }
 ],
 "metadata": {
  "kernelspec": {
   "display_name": "Python 3 (ipykernel)",
   "language": "python",
   "name": "python3"
  },
  "language_info": {
   "codemirror_mode": {
    "name": "ipython",
    "version": 3
   },
   "file_extension": ".py",
   "mimetype": "text/x-python",
   "name": "python",
   "nbconvert_exporter": "python",
   "pygments_lexer": "ipython3",
   "version": "3.12.4"
  }
 },
 "nbformat": 4,
 "nbformat_minor": 5
}

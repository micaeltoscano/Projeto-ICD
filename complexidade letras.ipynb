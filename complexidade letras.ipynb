{
 "cells": [
  {
   "cell_type": "markdown",
   "id": "6fe892d1-c949-4505-83b9-c3d15cfa4f53",
   "metadata": {},
   "source": [
    "# Classificando complexidade de letras de músicas"
   ]
  },
  {
   "cell_type": "markdown",
   "id": "d3988aff-c666-411e-ae9a-6d0ecbf76f0b",
   "metadata": {},
   "source": [
    "### Critérios: \n",
    "Para analisar a dificuldade das letras, uma das abordagens seria analisar palavra por palavra da música e analisar: <br> <br>\n",
    "1 - Número de sílabas. <br> \n",
    ". Palavras com diversas sílabas costumam ser mais complexas, tanto para compreensão quanto para a pronúncia. <br> <br>\n",
    "2 - Diversidade semântica. <br> \n",
    ". Palavras com diversos significados podem ser mais difíceis, pois há uma gama de significados para elas <br> <br>\n",
    "3 - Frequência. <br> \n",
    ". Palavras que aparecem menos nos textos podem ser consideradas mais difíceis. <br><br>\n",
    "4 - Uso de gírias e jargões <br> <br>\n",
    "5 - Análise gramatical <br>\n",
    ". Exemplo: frases que contêm muitos gerúndios são mais coloquiais e frases que possuem mais conjuções subordinadas são mais formais\n"
   ]
  },
  {
   "cell_type": "markdown",
   "id": "eb1a2b20-9c58-46d2-9870-52a33ff2178d",
   "metadata": {},
   "source": [
    "### Ferramentas:"
   ]
  },
  {
   "cell_type": "markdown",
   "id": "4eca4dde-9be7-4ec8-ac73-df4ae7e6dbfd",
   "metadata": {},
   "source": [
    "#### Textstat - para número de sílabas:"
   ]
  },
  {
   "cell_type": "code",
   "execution_count": 67,
   "id": "fc3fcc5d-1bbd-4ffc-b546-2139a3e709bc",
   "metadata": {},
   "outputs": [],
   "source": [
    "import textstat as tst\n",
    "import pandas as pd"
   ]
  },
  {
   "cell_type": "code",
   "execution_count": 68,
   "id": "501f1e68-5b47-4c7a-acc4-bc70b897a45c",
   "metadata": {
    "jupyter": {
     "source_hidden": true
    }
   },
   "outputs": [],
   "source": [
    "df = pd.read_csv(\"tcc_ceds_music.csv\")"
   ]
  },
  {
   "cell_type": "markdown",
   "id": "f0c4eb37-98e7-4447-897c-d046f8ebba2b",
   "metadata": {},
   "source": [
    "A textstat tem uma funcão chamada: \"syllable_count()\" que conta a quantidade de sílabas em uma palavra. Exemplo:"
   ]
  },
  {
   "cell_type": "code",
   "execution_count": 86,
   "id": "7488093c-ea94-46f2-a64c-8a4465c4c1ec",
   "metadata": {},
   "outputs": [],
   "source": [
    "dic = {}\n",
    "primeira_letra = df.lyrics[0] \n",
    "lista_palavras = primeira_letra.split(\" \")\n",
    "for palavra in lista_palavras:\n",
    "    if palavra not in dic:\n",
    "        dic[palavra] = tst.syllable_count(palavra)"
   ]
  },
  {
   "cell_type": "markdown",
   "id": "0a4b8075-4473-4930-965f-72bbac72fd80",
   "metadata": {},
   "source": [
    "Neste exemplo, peguei a primeira letra musical como exemplo. Para que cada palavra fosse lida individualmente, usei o split e apliquei em um for, adicionando-as em um dicionário."
   ]
  },
  {
   "cell_type": "markdown",
   "id": "605ca034-7163-43d6-87e2-00a7f2f49b07",
   "metadata": {},
   "source": [
    "Para contabilizar a quantidade de sílabas em todas as letras do dataset, criarei uma lista para armazená-las e implementarei um for para que todas as letras sejam lidas:"
   ]
  },
  {
   "cell_type": "code",
   "execution_count": 70,
   "id": "e935035f-43e6-460a-885e-e6db52c79424",
   "metadata": {
    "jupyter": {
     "source_hidden": true
    }
   },
   "outputs": [],
   "source": [
    "{song: {}, song:{}} "
   ]
  },
  {
   "cell_type": "code",
   "execution_count": null,
   "id": "a38e5196-01fc-41b6-92c4-cde7a2e36ecf",
   "metadata": {},
   "outputs": [],
   "source": [
    "for n in range(len(df)):\n",
    "    lista = df.lyrics[n].split(\" \")\n",
    "    dic = \n",
    "    for palavra in lista:\n",
    "        "
   ]
  }
 ],
 "metadata": {
  "kernelspec": {
   "display_name": "Python 3 (ipykernel)",
   "language": "python",
   "name": "python3"
  },
  "language_info": {
   "codemirror_mode": {
    "name": "ipython",
    "version": 3
   },
   "file_extension": ".py",
   "mimetype": "text/x-python",
   "name": "python",
   "nbconvert_exporter": "python",
   "pygments_lexer": "ipython3",
   "version": "3.12.4"
  }
 },
 "nbformat": 4,
 "nbformat_minor": 5
}

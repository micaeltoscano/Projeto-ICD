{
 "cells": [
  {
   "cell_type": "code",
   "execution_count": 85,
   "id": "21b1f194-935b-4f47-ab4a-5f4baffe3433",
   "metadata": {},
   "outputs": [],
   "source": [
    "import pandas as pd\n",
    "import textstat as tst\n",
    "import nltk\n",
    "from nltk.tokenize import word_tokenize, sent_tokenize\n",
    "from gensim.models import Word2Vec\n",
    "from nltk.corpus import stopwords\n",
    "import numpy as np\n",
    "from collections import Counter\n",
    "from sklearn.preprocessing import MinMaxScaler"
   ]
  },
  {
   "cell_type": "code",
   "execution_count": 86,
   "id": "36b115a9-f4d8-4e49-84ee-892f0c9c0065",
   "metadata": {},
   "outputs": [],
   "source": [
    "stop_words = set(stopwords.words('english')) "
   ]
  },
  {
   "cell_type": "code",
   "execution_count": 98,
   "id": "ead64ca9-c19c-4231-867c-b74c2f3538af",
   "metadata": {},
   "outputs": [],
   "source": [
    "df = pd.read_csv(\"complexo.csv\")"
   ]
  },
  {
   "cell_type": "code",
   "execution_count": 99,
   "id": "7a45f1c3-be78-496e-bfb1-946baee2cb7d",
   "metadata": {},
   "outputs": [],
   "source": [
    "letras = [[letra for letra in df['letras_limpas'][n].split() if letra not in stop_words] for n in range(len(df))]"
   ]
  },
  {
   "cell_type": "code",
   "execution_count": 100,
   "id": "34b8e0e5-91c7-4742-a255-644f8a75e505",
   "metadata": {},
   "outputs": [],
   "source": [
    "model = Word2Vec(letras, vector_size=100, window=5, min_count=1, workers=4)  # Treina o modelo Word2Vec"
   ]
  },
  {
   "cell_type": "code",
   "execution_count": 90,
   "id": "a4b1b088-4242-4c3a-8bd4-73569b528747",
   "metadata": {},
   "outputs": [],
   "source": [
    "def calcular_variancia_vetores(palavras, modelo):\n",
    "    vetores = []\n",
    "    for palavra in palavras:\n",
    "        if palavra in modelo.wv:  # Verifica se a palavra está no vocabulário do modelo\n",
    "            vetores.append(modelo.wv[palavra])  # Retorna o vetor da palavra\n",
    "    \n",
    "    if len(vetores) > 0:  # Evitar calcular variância em lista vazia\n",
    "        vetores_np = np.array(vetores)  # Converte a lista de vetores em um array NumPy\n",
    "\n",
    "        scaler = MinMaxScaler()\n",
    "        vetores_normalizados = scaler.fit_transform(vetores_np)\n",
    "        \n",
    "        variancia = np.var(vetores_normalizados, axis=0)  # Calcula a variância ao longo do eixo 0\n",
    "        \n",
    "        return np.sum(variancia)  # Retorna a soma da variância\n",
    "        \n",
    "    else:\n",
    "        \n",
    "        return 0  # Retorna 0 se não houver vetores\n"
   ]
  },
  {
   "cell_type": "code",
   "execution_count": 76,
   "id": "47fcedc0-80a1-42c9-9071-850c7536e497",
   "metadata": {},
   "outputs": [],
   "source": [
    "def avaliar_complexidade_letra(letra, modelo):\n",
    "    # Remove stopwords e processa a letra\n",
    "    letra_processada = [palavra.lower() for palavra in letra.split() if palavra not in stop_words]\n",
    "    return calcular_variancia_vetores(letra_processada, modelo)"
   ]
  },
  {
   "cell_type": "code",
   "execution_count": 77,
   "id": "b8a79561-3708-4ded-bb5e-280d8a80c898",
   "metadata": {},
   "outputs": [],
   "source": [
    "letra = df.letras_limpas[0]\n",
    "complexidade = avaliar_complexidade_letra(letra, model) "
   ]
  },
  {
   "cell_type": "code",
   "execution_count": 78,
   "id": "92537164-4226-4190-81f8-6e949a8cbb49",
   "metadata": {},
   "outputs": [
    {
     "data": {
      "text/plain": [
       "5.0631924"
      ]
     },
     "execution_count": 78,
     "metadata": {},
     "output_type": "execute_result"
    }
   ],
   "source": [
    "complexidade"
   ]
  },
  {
   "cell_type": "code",
   "execution_count": 101,
   "id": "7c179108-20f2-455c-99b9-2e72a3867069",
   "metadata": {},
   "outputs": [],
   "source": [
    "themes = {\n",
    "    'love': ['love', 'affection', 'heart', 'passion', 'desire', 'romance'],\n",
    "    'sadness': ['sadness', 'pain', 'longing', 'loneliness', 'lament', 'loss'],\n",
    "    'freedom': ['freedom', 'live', 'free', 'independence', 'choice', 'escape'],\n",
    "    'friendship': ['friendship', 'companion', 'loyalty', 'trust', 'camaraderie'],\n",
    "    'hope': ['hope', 'faith', 'dream', 'future', 'light', 'renewal'],\n",
    "    'nature': ['nature', 'earth', 'sky', 'sea', 'forest', 'wildlife'],\n",
    "    'struggle': ['struggle', 'battle', 'strength', 'resistance', 'challenge', 'conquest'],\n",
    "    'joy': ['joy', 'happiness', 'laughter', 'smile', 'celebration', 'fun'],\n",
    "    'solitude': ['solitude', 'isolation', 'distance', 'disconnection', 'emptiness'],\n",
    "    'nostalgia': ['nostalgia', 'memories', 'past', 'remembrance', 'reminiscence'],\n",
    "    'change': ['change', 'transformation', 'growth', 'evolution', 'new beginnings'],\n",
    "    'self-love': ['self-love', 'self-esteem', 'self-awareness', 'acceptance', 'confidence'],\n",
    "    'conflict': ['conflict', 'dispute', 'disagreement', 'tension', 'polarization'],\n",
    "    'solidarity': ['solidarity', 'help', 'support', 'community', 'union'],\n",
    "    'socio-political': ['socio-political', 'justice', 'rights', 'freedom of speech', 'equality'],\n",
    "    'party': ['party', 'celebration', 'fun', 'dance', 'joy'],\n",
    "    'mental health': ['mental health', 'anxiety', 'depression', 'healing', 'balance'],\n",
    "}\n",
    "def normalizar_similaridade(similaridade, vetor_letra):\n",
    "    # Normaliza pela magnitude do vetor letra\n",
    "    magnitude_letra = np.linalg.norm(vetor_letra)\n",
    "    \n",
    "    if magnitude_letra != 0:\n",
    "        return similaridade / magnitude_letra\n",
    "    return similaridade\n",
    "\n",
    "def media_vetores(palavras, modelo):\n",
    "    vetores = []\n",
    "    for palavra in palavras:\n",
    "        if palavra in modelo.wv:\n",
    "            vetores.append(modelo.wv[palavra])\n",
    "    \n",
    "    if len(vetores) == 0:\n",
    "        return np.zeros(modelo.vector_size)  # Retorna um vetor de zeros se não houver palavras válidas\n",
    "    \n",
    "    return np.mean(vetores, axis=0)\n",
    "\n",
    "def resultado(themes, model, vetor_letra):\n",
    "    resultado = {}\n",
    "    for tema, palavras_chave in themes.items():\n",
    "        vetor_tema = media_vetores(palavras_chave, model)\n",
    "\n",
    "        if vetor_tema is not None and vetor_letra is not None and np.any(vetor_tema) and np.any(vetor_letra):\n",
    "            similaridade = model.wv.cosine_similarities(vetor_letra, np.array([vetor_tema]))\n",
    "            \n",
    "            # Aplica a normalização da similaridade\n",
    "            similaridade_normalizada = normalizar_similaridade(similaridade[0], vetor_letra)\n",
    "            resultado[tema] = similaridade_normalizada\n",
    "        else:\n",
    "            resultado[tema] = 0\n",
    "    \n",
    "    return resultado\n",
    "\n",
    "letra = df.letras_limpas[2]    \n",
    "    \n",
    "letra_processada = [palavra.lower() for palavra in letra.split() if palavra.lower() not in stop_words]\n",
    "    \n",
    "vetor_letra = media_vetores(letra_processada, model)\n",
    "    \n",
    "    \n",
    "res = resultado(themes, model, vetor_letra)\n"
   ]
  },
  {
   "cell_type": "code",
   "execution_count": 84,
   "id": "991e9cce-afae-41ac-9890-3457b032ea09",
   "metadata": {},
   "outputs": [
    {
     "data": {
      "text/plain": [
       "{'love': 0.09862992,\n",
       " 'sadness': 0.0690857,\n",
       " 'freedom': 0.090203345,\n",
       " 'friendship': 0.08698643,\n",
       " 'hope': 0.09112468,\n",
       " 'nature': 0.045271896,\n",
       " 'struggle': 0.05093371,\n",
       " 'joy': 0.09118261,\n",
       " 'solitude': 0.044652026,\n",
       " 'nostalgia': 0.054162756,\n",
       " 'change': 0.07409487,\n",
       " 'self-love': 0.03900786,\n",
       " 'conflict': 0.010073365,\n",
       " 'solidarity': 0.06763613,\n",
       " 'socio-political': 0.009180461,\n",
       " 'party': 0.07584023,\n",
       " 'mental health': 0.039802894}"
      ]
     },
     "execution_count": 84,
     "metadata": {},
     "output_type": "execute_result"
    }
   ],
   "source": [
    "res"
   ]
  },
  {
   "cell_type": "code",
   "execution_count": 96,
   "id": "9ddc1d62-41c0-459a-843d-614f270748b4",
   "metadata": {},
   "outputs": [
    {
     "data": {
      "text/plain": [
       "{'love': 0.10065905,\n",
       " 'sadness': 0.06550171,\n",
       " 'freedom': 0.08896069,\n",
       " 'friendship': 0.09403873,\n",
       " 'hope': 0.092761986,\n",
       " 'nature': 0.038707662,\n",
       " 'struggle': 0.049240526,\n",
       " 'joy': 0.09025223,\n",
       " 'solitude': 0.0417635,\n",
       " 'nostalgia': 0.054071944,\n",
       " 'change': 0.080175325,\n",
       " 'self-love': 0.032585975,\n",
       " 'conflict': 0.023946512,\n",
       " 'solidarity': 0.06704344,\n",
       " 'socio-political': 0.006699286,\n",
       " 'party': 0.07927788,\n",
       " 'mental health': 0.03656185}"
      ]
     },
     "execution_count": 96,
     "metadata": {},
     "output_type": "execute_result"
    }
   ],
   "source": [
    "res"
   ]
  },
  {
   "cell_type": "code",
   "execution_count": null,
   "id": "85c7c06b-4feb-41d7-a751-848b6990dbd9",
   "metadata": {},
   "outputs": [],
   "source": []
  }
 ],
 "metadata": {
  "kernelspec": {
   "display_name": "Python 3 (ipykernel)",
   "language": "python",
   "name": "python3"
  },
  "language_info": {
   "codemirror_mode": {
    "name": "ipython",
    "version": 3
   },
   "file_extension": ".py",
   "mimetype": "text/x-python",
   "name": "python",
   "nbconvert_exporter": "python",
   "pygments_lexer": "ipython3",
   "version": "3.12.4"
  }
 },
 "nbformat": 4,
 "nbformat_minor": 5
}

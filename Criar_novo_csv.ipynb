{
 "cells": [
  {
   "cell_type": "code",
   "execution_count": 8,
   "id": "a2cc7ba9-e957-46b0-9a30-ff6a72298f16",
   "metadata": {},
   "outputs": [],
   "source": [
    "import pandas as pd\n",
    "from textblob import TextBlob\n",
    "from deep_translator import GoogleTranslator\n",
    "from langdetect import detect"
   ]
  },
  {
   "cell_type": "code",
   "execution_count": 9,
   "id": "ab4a4bd2-df08-4253-abec-d860e97dec66",
   "metadata": {},
   "outputs": [],
   "source": [
    "#Criando listas onde os valores das polaridades e os idiomas ficarão salvos\n",
    "polar = []\n",
    "idioma = []"
   ]
  },
  {
   "cell_type": "code",
   "execution_count": 10,
   "id": "ea439a30-9cde-42f0-a318-936bbc20f3db",
   "metadata": {},
   "outputs": [],
   "source": [
    "#Inicializando o google tradutor\n",
    "translator = GoogleTranslator()"
   ]
  },
  {
   "cell_type": "code",
   "execution_count": 11,
   "id": "3bd5b59c-06cd-4a7a-8318-d2b2982385cb",
   "metadata": {},
   "outputs": [],
   "source": [
    "ds = pd.read_csv(\".csv\")"
   ]
  },
  {
   "cell_type": "code",
   "execution_count": null,
   "id": "b2db043d",
   "metadata": {},
   "outputs": [],
   "source": [
    "#Lendo a coluna das letras das músicas\n",
    "for palavra in ds[\"Lyrics\"]:\n",
    "    blob = TextBlob(palavra) \n",
    "    lingua = detect(palavra) \n",
    "    \n",
    "    #A textblob tem um problema ao identificar frases que não estão em inglês, então caso não estejam em ingles, devem ser traduzidas\n",
    "    if(lingua == 'en'):\n",
    "        polar.append(blob.sentiment.polarity)\n",
    "        idioma.append(lingua)\n",
    "        \n",
    "    else:\n",
    "        texto_traduzido = translator.translate(palavra, target='en')\n",
    "        blob_traduzido = TextBlob(texto_traduzido)\n",
    "        polar.append(blob_traduzido.sentiment.polarity)\n",
    "        idioma.append(lingua)\n",
    "\n",
    "#Criando as colunas Polaridade e Idioma e atribuindo os valores das listas a elas.\n",
    "ds[\"Polaridade\"] = polar\n",
    "ds[\"Idioma\"] = idioma"
   ]
  },
  {
   "cell_type": "code",
   "execution_count": null,
   "id": "fc9c862a-bae5-4886-b32e-879ad43cf1ae",
   "metadata": {},
   "outputs": [],
   "source": [
    "#Criando novo arquivo CSV com essas novas colunas:\n",
    "ds_novo = ds[['Song', 'Polaridade', 'Genre', 'Language', 'Artist']]\n",
    "ds_novo.to_csv('', index=False)"
   ]
  }
 ],
 "metadata": {
  "kernelspec": {
   "display_name": "Python 3 (ipykernel)",
   "language": "python",
   "name": "python3"
  },
  "language_info": {
   "codemirror_mode": {
    "name": "ipython",
    "version": 3
   },
   "file_extension": ".py",
   "mimetype": "text/x-python",
   "name": "python",
   "nbconvert_exporter": "python",
   "pygments_lexer": "ipython3",
   "version": "3.12.4"
  }
 },
 "nbformat": 4,
 "nbformat_minor": 5
}

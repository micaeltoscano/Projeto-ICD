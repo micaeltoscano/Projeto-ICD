{
 "cells": [
  {
   "cell_type": "code",
   "execution_count": 13,
   "id": "a2cc7ba9-e957-46b0-9a30-ff6a72298f16",
   "metadata": {},
   "outputs": [],
   "source": [
    "import pandas as pd\n",
    "from textblob import TextBlob"
   ]
  },
  {
   "cell_type": "code",
   "execution_count": 14,
   "id": "ab4a4bd2-df08-4253-abec-d860e97dec66",
   "metadata": {},
   "outputs": [],
   "source": [
    "#Criando lista onde os valores das polaridades ficarão salvos\n",
    "polar = []"
   ]
  },
  {
   "cell_type": "code",
   "execution_count": 15,
   "id": "3bd5b59c-06cd-4a7a-8318-d2b2982385cb",
   "metadata": {},
   "outputs": [],
   "source": [
    "ds = pd.read_csv(\"tcc_ceds_music.csv\")"
   ]
  },
  {
   "cell_type": "code",
   "execution_count": 16,
   "id": "b294a446-47d6-4906-a4d8-07d9cf61edec",
   "metadata": {},
   "outputs": [],
   "source": [
    "#Lendo a coluna das letras das músicas\n",
    "for palavra in ds[\"lyrics\"]:\n",
    "    blob = TextBlob(palavra) \n",
    "    polar.append(blob.sentiment.polarity)"
   ]
  },
  {
   "cell_type": "code",
   "execution_count": 17,
   "id": "fc9c862a-bae5-4886-b32e-879ad43cf1ae",
   "metadata": {},
   "outputs": [],
   "source": [
    "#Criando novo arquivo CSV com essas novas colunas:\n",
    "ds_novo = ds.copy()\n",
    "ds_novo.rename(columns={\"lyrics\":\"polarity\"}, inplace = True)\n",
    "ds_novo[\"polarity\"] = polar\n",
    "ds_novo.to_csv(r'C:\\Users\\Toscano\\Desktop\\Dataset_polaridade.csv', index=False)"
   ]
  }
 ],
 "metadata": {
  "kernelspec": {
   "display_name": "Python 3 (ipykernel)",
   "language": "python",
   "name": "python3"
  },
  "language_info": {
   "codemirror_mode": {
    "name": "ipython",
    "version": 3
   },
   "file_extension": ".py",
   "mimetype": "text/x-python",
   "name": "python",
   "nbconvert_exporter": "python",
   "pygments_lexer": "ipython3",
   "version": "3.12.4"
  }
 },
 "nbformat": 4,
 "nbformat_minor": 5
}

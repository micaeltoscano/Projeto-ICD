{
 "cells": [
  {
   "cell_type": "code",
   "execution_count": null,
   "id": "54220bb9-1892-4641-a87e-4e5c6e138cbe",
   "metadata": {},
   "outputs": [],
   "source": []
  }
 ],
 "metadata": {
  "kernelspec": {
   "display_name": "",
   "name": ""
  },
  "language_info": {
   "name": ""
  }
 },
 "nbformat": 4,
 "nbformat_minor": 5
}
